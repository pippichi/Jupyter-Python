{
 "cells": [
  {
   "cell_type": "code",
   "execution_count": null,
   "metadata": {},
   "outputs": [],
   "source": [
    "import cv2\n",
    "import numpy as np\n",
    "from PIL import ImageGrab\n",
    "import time\n",
    "\n",
    "i=0\n",
    "last_time = time.time()\n",
    "while(True):\n",
    "    i += 1\n",
    "    printscreen_pil = ImageGrab.grab(bbox=(0,40,800,640))\n",
    "#     printscreen_numpy = np.array(printscreen_pil.getdata(),dtype='uint8').reshape(printscreen_pil.size[1],printscreen_pil.size[0],3)\n",
    "    cv2.imshow(\"window\",np.array(printscreen_pil))\n",
    "    print(\"{} seconds\".format(time.time()-last_time))\n",
    "    last_time = time.time()\n",
    "    if cv2.waitKey(25) & 0xff == ord('q'):\n",
    "        cv2.destroyAllWindows()\n",
    "        break"
   ]
  },
  {
   "cell_type": "code",
   "execution_count": null,
   "metadata": {},
   "outputs": [],
   "source": []
  }
 ],
 "metadata": {
  "kernelspec": {
   "display_name": "Python 3",
   "language": "python",
   "name": "python3"
  },
  "language_info": {
   "codemirror_mode": {
    "name": "ipython",
    "version": 3
   },
   "file_extension": ".py",
   "mimetype": "text/x-python",
   "name": "python",
   "nbconvert_exporter": "python",
   "pygments_lexer": "ipython3",
   "version": "3.7.0"
  }
 },
 "nbformat": 4,
 "nbformat_minor": 2
}
