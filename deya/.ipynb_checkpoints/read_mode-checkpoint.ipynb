{
 "cells": [
  {
   "cell_type": "code",
   "execution_count": 33,
   "metadata": {},
   "outputs": [],
   "source": [
    "import pymysql\n",
    "import pandas as pd\n",
    "import numpy as np"
   ]
  },
  {
   "cell_type": "code",
   "execution_count": 34,
   "metadata": {},
   "outputs": [],
   "source": [
    "conn = pymysql.connect(host=\"192.168.1.183\",port=3306,user=\"stock_financial_report\",\n",
    "                      password='financialReport',database='deya_stock_financial_report',charset='utf8')"
   ]
  },
  {
   "cell_type": "markdown",
   "metadata": {},
   "source": [
    "### 找到level"
   ]
  },
  {
   "cell_type": "code",
   "execution_count": 35,
   "metadata": {},
   "outputs": [],
   "source": [
    "def level_inc(conn,table_name,parent_index_id,level,res):\n",
    "    parent_index_id = \"select parent_index_id from \"+table_name+\" where id = \"+str(parent_index_id)+\";\"\n",
    "    df = pd.read_sql(parent_index_id,conn)\n",
    "    result = np.array(df)[0][0]\n",
    "    if result is None:\n",
    "        res.append(level)\n",
    "        level = 1\n",
    "        return\n",
    "    else:\n",
    "        level += 1\n",
    "        return level_inc(conn,table_name,result,level,res)"
   ]
  },
  {
   "cell_type": "code",
   "execution_count": 36,
   "metadata": {},
   "outputs": [],
   "source": [
    "def func(conn,table_name):\n",
    "    level = 1\n",
    "    res = []\n",
    "    sql = \"select * from \"+table_name+\";\"\n",
    "    df = pd.read_sql(sql,conn)\n",
    "    for i in range(1,len(df)+1):\n",
    "        level_inc(conn,table_name,i,level,res)\n",
    "    return res"
   ]
  },
  {
   "cell_type": "code",
   "execution_count": 37,
   "metadata": {
    "scrolled": true
   },
   "outputs": [],
   "source": [
    "temp = func(conn,table_name=\"dy_non_bank_profit_index\")"
   ]
  },
  {
   "cell_type": "code",
   "execution_count": 38,
   "metadata": {
    "scrolled": true
   },
   "outputs": [
    {
     "data": {
      "text/plain": [
       "[1,\n",
       " 2,\n",
       " 2,\n",
       " 3,\n",
       " 3,\n",
       " 3,\n",
       " 1,\n",
       " 2,\n",
       " 2,\n",
       " 2,\n",
       " 2,\n",
       " 2,\n",
       " 2,\n",
       " 2,\n",
       " 2,\n",
       " 2,\n",
       " 3,\n",
       " 3,\n",
       " 3,\n",
       " 3,\n",
       " 3,\n",
       " 3,\n",
       " 3,\n",
       " 2,\n",
       " 2,\n",
       " 3,\n",
       " 3,\n",
       " 2,\n",
       " 2,\n",
       " 2,\n",
       " 2,\n",
       " 2,\n",
       " 2,\n",
       " 2,\n",
       " 2,\n",
       " 1,\n",
       " 2,\n",
       " 2,\n",
       " 2,\n",
       " 2,\n",
       " 2,\n",
       " 1,\n",
       " 2,\n",
       " 2,\n",
       " 2,\n",
       " 2,\n",
       " 1,\n",
       " 2,\n",
       " 2,\n",
       " 2,\n",
       " 2,\n",
       " 2,\n",
       " 1,\n",
       " 2,\n",
       " 2,\n",
       " 1,\n",
       " 1]"
      ]
     },
     "execution_count": 38,
     "metadata": {},
     "output_type": "execute_result"
    }
   ],
   "source": [
    "temp"
   ]
  },
  {
   "cell_type": "code",
   "execution_count": 39,
   "metadata": {},
   "outputs": [],
   "source": [
    "for i in range(len(temp)):\n",
    "    cur = conn.cursor()\n",
    "    sql1 = \"update dy_non_bank_profit_index set level=\"+str(temp[i])+\" where id = \"+str(i+1)+\";\"\n",
    "    try:\n",
    "        cur.execute(sql1)\n",
    "        conn.commit()\n",
    "    except Exception as e:\n",
    "        print(e)\n",
    "        conn.rollback()\n",
    "cur.close()\n",
    "conn.close()"
   ]
  },
  {
   "cell_type": "markdown",
   "metadata": {},
   "source": [
    "### 返回股票名"
   ]
  },
  {
   "cell_type": "code",
   "execution_count": 123,
   "metadata": {},
   "outputs": [],
   "source": [
    "def get_name(conn,table_name):\n",
    "    sql = \"select name_cn from \"+table_name+\";\"\n",
    "    df = pd.read_sql(sql,conn)\n",
    "    return df.name_cn.values"
   ]
  },
  {
   "cell_type": "code",
   "execution_count": 124,
   "metadata": {
    "scrolled": false
   },
   "outputs": [
    {
     "data": {
      "text/plain": [
       "array(['资产', '现金及存放中央银行款项', '存放同业和其它金融机构款项', '贵金属', '拆出资金', '金融投资',\n",
       "       '以公允价值计量且其变动计入当期损益的金融资产', '债权投资', '其他债权投资', '其他权益工具投资',\n",
       "       '以摊余成本计量的金融资产', '以公允价值计量且其变动计入其他综合收益的金融资产', '可供出售金融资产', '持有至到期投资',\n",
       "       '衍生金融资产', '买入返售金融资产', '划分为持有待售的资产', '应收利息', '应收款项', '合同资产',\n",
       "       '发放贷款及垫款', '代理业务资产', '长期股权投资', '应收款项类投资', '固定资产', '在建工程', '无形资产',\n",
       "       '商誉', '递延所得税资产', '投资性房地产', '其他资产', '资产差额(特殊报表科目)', '资产差额(合计平衡项目)',\n",
       "       '资产总计', '负债', '同业和其他金融机构存放款项', '向中央银行借款', '拆入资金',\n",
       "       '以公允价值计量且其变动计入当期损益的金融负债', '衍生金融负债', '卖出回购金融资产款', '吸收存款', '应付职工薪酬',\n",
       "       '应交税费', '应付利息', '应付款项', '合同负债', '划分为持有待售的负债', '代理业务负债', '应付债券',\n",
       "       '递延所得税负债', '预计负债', '其他负债', '负债差额(特殊报表科目)', '负债差额(合计平衡项目)', '负债合计',\n",
       "       '所有者权益', '实收资本(或股本)', '其他权益工具', '其他权益工具:优先股', '其他权益工具:永续债',\n",
       "       '资本公积金', '库存股', '其他综合收益_BS', '盈余公积金', '未分配利润', '一般风险准备',\n",
       "       '外币报表折算差额', '未确认的投资损失_BS', '股东权益差额(特殊报表科目)', '股东权益差额(合计平衡项目)',\n",
       "       '归属母公司股东的权益', '少数股东权益', '所有者权益合计', '负债及股东权益差额(特殊报表科目)',\n",
       "       '负债及股东权益差额(合计平衡项目)', '负债及股东权益总计'], dtype=object)"
      ]
     },
     "execution_count": 124,
     "metadata": {},
     "output_type": "execute_result"
    }
   ],
   "source": [
    "get_name(conn,\"dy_bank_balance_index\")"
   ]
  },
  {
   "cell_type": "code",
   "execution_count": 132,
   "metadata": {},
   "outputs": [],
   "source": [
    "def exclude_year(param):\n",
    "    return param[5:]"
   ]
  },
  {
   "cell_type": "code",
   "execution_count": 133,
   "metadata": {},
   "outputs": [
    {
     "data": {
      "text/plain": [
       "'03-30'"
      ]
     },
     "execution_count": 133,
     "metadata": {},
     "output_type": "execute_result"
    }
   ],
   "source": [
    "exclude_year(\"2009-03-30\")"
   ]
  }
 ],
 "metadata": {
  "kernelspec": {
   "display_name": "Python 3",
   "language": "python",
   "name": "python3"
  },
  "language_info": {
   "codemirror_mode": {
    "name": "ipython",
    "version": 3
   },
   "file_extension": ".py",
   "mimetype": "text/x-python",
   "name": "python",
   "nbconvert_exporter": "python",
   "pygments_lexer": "ipython3",
   "version": "3.7.6"
  }
 },
 "nbformat": 4,
 "nbformat_minor": 4
}
