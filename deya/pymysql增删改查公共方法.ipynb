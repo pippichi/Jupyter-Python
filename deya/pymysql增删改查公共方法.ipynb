{
 "cells": [
  {
   "cell_type": "code",
   "execution_count": null,
   "metadata": {},
   "outputs": [],
   "source": [
    "import pymysql\n",
    "import datetime\n",
    "import random"
   ]
  },
  {
   "cell_type": "code",
   "execution_count": null,
   "metadata": {},
   "outputs": [],
   "source": [
    "# 获取某个表的列名\n",
    "def get_table_columns(conn, db, table):\n",
    "    cur = conn.cursor()\n",
    "    sql = \"select group_concat(COLUMN_NAME Separator ',') as COLUMN_NAME from information_schema.COLUMNS where table_name=\" + table + \" and table_schema =\" + db + \";\"\n",
    "    result = None\n",
    "    try:\n",
    "        cur.execute(sql)\n",
    "        result = cur.fetchall()\n",
    "        conn.commit()\n",
    "    except:\n",
    "        print(\"获取该数据表的列名失败\")\n",
    "    finally:\n",
    "        cur.close()\n",
    "    return result"
   ]
  },
  {
   "cell_type": "code",
   "execution_count": null,
   "metadata": {},
   "outputs": [],
   "source": [
    "def find_many(conn, table, columns, data):\n",
    "    assert conn is not None\n",
    "    assert len(columns) == len(data)\n",
    "    cur = conn.cursor(cursor=pymysql.cursors.DictCursor)\n",
    "    sql = \"select * from \" + table + \" where \"\n",
    "    for i in range(len(columns)):\n",
    "        if i < len(columns) - 1:\n",
    "            sql += columns[i] + \"=%s and \"\n",
    "        else:\n",
    "            sql += columns[i] + \"=%s;\"\n",
    "    result = None\n",
    "    try:\n",
    "        cur.execute(sql, data)\n",
    "        result = cur.fetchall()\n",
    "        conn.commit()\n",
    "    except:\n",
    "        print(\"数据读取失败\")\n",
    "    finally:\n",
    "        cur.close()\n",
    "        conn.close()\n",
    "    return result"
   ]
  },
  {
   "cell_type": "code",
   "execution_count": null,
   "metadata": {},
   "outputs": [],
   "source": [
    "def update_one(conn, table, columns, data, id_v):\n",
    "    assert conn is not None\n",
    "    if isinstance(data, list):\n",
    "        data = tuple(data)\n",
    "    cur = conn.cursor()\n",
    "    sql = \"update \" + table + \" set \"\n",
    "    for i in range(len(columns)):\n",
    "        if i < len(columns) - 1:\n",
    "            sql += columns[i] + \"=%s,\"\n",
    "        else:\n",
    "            sql += columns[i] + \"=%s \"\n",
    "    sql += \"where id=\" + str(id_v) + \";\"\n",
    "    try:\n",
    "        # 执行sql\n",
    "        cur.execute(sql, data)\n",
    "        # 提交事务\n",
    "        conn.commit()\n",
    "        print('修改成功')\n",
    "    except Exception as e:\n",
    "        print(e)\n",
    "        conn.rollback()\n",
    "        print('修改失败')\n",
    "    finally:\n",
    "        cur.close()\n",
    "        conn.close()"
   ]
  },
  {
   "cell_type": "code",
   "execution_count": null,
   "metadata": {},
   "outputs": [],
   "source": [
    "def insert_many(conn, table, columns, data):\n",
    "    assert conn is not None\n",
    "        if len(data) > 0:\n",
    "        if isinstance(data[0], list):\n",
    "            for i in range(len(data)):\n",
    "                data[i] = tuple(data[i])\n",
    "    # 创建游标对象\n",
    "    cur = conn.cursor()\n",
    "    sql = \"insert into \" + table + \"(\"\n",
    "    temp = \"\"\n",
    "    for i in range(len(columns)):\n",
    "        if i < len(columns) - 1:\n",
    "            sql += columns[i] + \",\"\n",
    "            temp += \"%s,\"\n",
    "        else:\n",
    "            sql += columns[i]\n",
    "            temp += \"%s\"\n",
    "    sql += \") values(\" + temp + \");\"\n",
    "    try:\n",
    "        # 执行sql\n",
    "        cur.executemany(sql, data)\n",
    "        # 提交事务\n",
    "        conn.commit()\n",
    "        print('插入成功')\n",
    "    except Exception as e:\n",
    "        print(e)\n",
    "        conn.rollback()\n",
    "        print('插入失败')\n",
    "    finally:\n",
    "        cur.close()\n",
    "        conn.close()"
   ]
  },
  {
   "cell_type": "code",
   "execution_count": null,
   "metadata": {},
   "outputs": [],
   "source": [
    "def delete_many(conn, table, id_vs):\n",
    "    assert conn is not None\n",
    "    cur = conn.cursor()\n",
    "    id_vs_str = \",\".join(list(map(lambda x: str(x), id_vs)))\n",
    "    sql = \"delete from \" + table + \" where id in (\" + id_vs_str + \");\"\n",
    "    try:\n",
    "        # 执行sql\n",
    "        cur.execute(\"SET FOREIGN_KEY_CHECKS = 0\")\n",
    "        cur.execute(sql)\n",
    "        # 提交事务\n",
    "        conn.commit()\n",
    "        print('删除成功')\n",
    "    except Exception as e:\n",
    "        print(e)\n",
    "        conn.rollback()\n",
    "        print('删除失败')\n",
    "    finally:\n",
    "        cur.close()\n",
    "        conn.close()"
   ]
  }
 ],
 "metadata": {
  "kernelspec": {
   "display_name": "Python 3",
   "language": "python",
   "name": "python3"
  },
  "language_info": {
   "codemirror_mode": {
    "name": "ipython",
    "version": 3
   },
   "file_extension": ".py",
   "mimetype": "text/x-python",
   "name": "python",
   "nbconvert_exporter": "python",
   "pygments_lexer": "ipython3",
   "version": "3.8.5"
  }
 },
 "nbformat": 4,
 "nbformat_minor": 4
}
