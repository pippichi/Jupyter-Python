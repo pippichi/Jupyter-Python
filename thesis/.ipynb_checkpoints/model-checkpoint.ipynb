{
 "cells": [
  {
   "cell_type": "code",
   "execution_count": 1,
   "metadata": {},
   "outputs": [],
   "source": [
    "import numpy as np\n",
    "import pandas as pd"
   ]
  },
  {
   "cell_type": "markdown",
   "metadata": {},
   "source": [
    "# cosine_similarity"
   ]
  },
  {
   "cell_type": "code",
   "execution_count": 2,
   "metadata": {},
   "outputs": [],
   "source": [
    "readbook = pd.read_excel(r'vt_rulefillna_01_summary.xls',index_col=0)"
   ]
  },
  {
   "cell_type": "code",
   "execution_count": 44,
   "metadata": {
    "scrolled": true
   },
   "outputs": [
    {
     "data": {
      "text/html": [
       "<div>\n",
       "<style scoped>\n",
       "    .dataframe tbody tr th:only-of-type {\n",
       "        vertical-align: middle;\n",
       "    }\n",
       "\n",
       "    .dataframe tbody tr th {\n",
       "        vertical-align: top;\n",
       "    }\n",
       "\n",
       "    .dataframe thead th {\n",
       "        text-align: right;\n",
       "    }\n",
       "</style>\n",
       "<table border=\"1\" class=\"dataframe\">\n",
       "  <thead>\n",
       "    <tr style=\"text-align: right;\">\n",
       "      <th></th>\n",
       "      <th>日期</th>\n",
       "      <th>倾向</th>\n",
       "      <th>开盘</th>\n",
       "      <th>收盘</th>\n",
       "      <th>最高</th>\n",
       "      <th>最低</th>\n",
       "      <th>涨跌幅</th>\n",
       "      <th>涨跌额</th>\n",
       "      <th>成交量</th>\n",
       "      <th>成交额</th>\n",
       "      <th>振幅</th>\n",
       "      <th>换手率</th>\n",
       "    </tr>\n",
       "  </thead>\n",
       "  <tbody>\n",
       "    <tr>\n",
       "      <th>0</th>\n",
       "      <td>2019-1-1</td>\n",
       "      <td>1</td>\n",
       "      <td>0</td>\n",
       "      <td>0</td>\n",
       "      <td>0</td>\n",
       "      <td>0</td>\n",
       "      <td>0</td>\n",
       "      <td>0</td>\n",
       "      <td>0</td>\n",
       "      <td>0</td>\n",
       "      <td>0</td>\n",
       "      <td>0</td>\n",
       "    </tr>\n",
       "    <tr>\n",
       "      <th>1</th>\n",
       "      <td>2019-1-2</td>\n",
       "      <td>1</td>\n",
       "      <td>0</td>\n",
       "      <td>1</td>\n",
       "      <td>1</td>\n",
       "      <td>1</td>\n",
       "      <td>0</td>\n",
       "      <td>0</td>\n",
       "      <td>0</td>\n",
       "      <td>0</td>\n",
       "      <td>1</td>\n",
       "      <td>1</td>\n",
       "    </tr>\n",
       "    <tr>\n",
       "      <th>2</th>\n",
       "      <td>2019-1-3</td>\n",
       "      <td>1</td>\n",
       "      <td>0</td>\n",
       "      <td>1</td>\n",
       "      <td>1</td>\n",
       "      <td>1</td>\n",
       "      <td>1</td>\n",
       "      <td>1</td>\n",
       "      <td>0</td>\n",
       "      <td>0</td>\n",
       "      <td>1</td>\n",
       "      <td>1</td>\n",
       "    </tr>\n",
       "    <tr>\n",
       "      <th>3</th>\n",
       "      <td>2019-1-4</td>\n",
       "      <td>1</td>\n",
       "      <td>1</td>\n",
       "      <td>1</td>\n",
       "      <td>1</td>\n",
       "      <td>1</td>\n",
       "      <td>1</td>\n",
       "      <td>1</td>\n",
       "      <td>1</td>\n",
       "      <td>1</td>\n",
       "      <td>1</td>\n",
       "      <td>1</td>\n",
       "    </tr>\n",
       "    <tr>\n",
       "      <th>4</th>\n",
       "      <td>2019-1-5</td>\n",
       "      <td>1</td>\n",
       "      <td>1</td>\n",
       "      <td>1</td>\n",
       "      <td>1</td>\n",
       "      <td>1</td>\n",
       "      <td>1</td>\n",
       "      <td>1</td>\n",
       "      <td>1</td>\n",
       "      <td>1</td>\n",
       "      <td>1</td>\n",
       "      <td>1</td>\n",
       "    </tr>\n",
       "    <tr>\n",
       "      <th>...</th>\n",
       "      <td>...</td>\n",
       "      <td>...</td>\n",
       "      <td>...</td>\n",
       "      <td>...</td>\n",
       "      <td>...</td>\n",
       "      <td>...</td>\n",
       "      <td>...</td>\n",
       "      <td>...</td>\n",
       "      <td>...</td>\n",
       "      <td>...</td>\n",
       "      <td>...</td>\n",
       "      <td>...</td>\n",
       "    </tr>\n",
       "    <tr>\n",
       "      <th>455</th>\n",
       "      <td>2020-3-31</td>\n",
       "      <td>0</td>\n",
       "      <td>1</td>\n",
       "      <td>1</td>\n",
       "      <td>1</td>\n",
       "      <td>1</td>\n",
       "      <td>1</td>\n",
       "      <td>1</td>\n",
       "      <td>0</td>\n",
       "      <td>0</td>\n",
       "      <td>1</td>\n",
       "      <td>1</td>\n",
       "    </tr>\n",
       "    <tr>\n",
       "      <th>456</th>\n",
       "      <td>2020-4-1</td>\n",
       "      <td>0</td>\n",
       "      <td>0</td>\n",
       "      <td>1</td>\n",
       "      <td>1</td>\n",
       "      <td>0</td>\n",
       "      <td>1</td>\n",
       "      <td>1</td>\n",
       "      <td>1</td>\n",
       "      <td>1</td>\n",
       "      <td>1</td>\n",
       "      <td>1</td>\n",
       "    </tr>\n",
       "    <tr>\n",
       "      <th>457</th>\n",
       "      <td>2020-4-2</td>\n",
       "      <td>0</td>\n",
       "      <td>0</td>\n",
       "      <td>1</td>\n",
       "      <td>0</td>\n",
       "      <td>0</td>\n",
       "      <td>1</td>\n",
       "      <td>1</td>\n",
       "      <td>0</td>\n",
       "      <td>0</td>\n",
       "      <td>1</td>\n",
       "      <td>1</td>\n",
       "    </tr>\n",
       "    <tr>\n",
       "      <th>458</th>\n",
       "      <td>2020-4-3</td>\n",
       "      <td>0</td>\n",
       "      <td>0</td>\n",
       "      <td>1</td>\n",
       "      <td>0</td>\n",
       "      <td>0</td>\n",
       "      <td>1</td>\n",
       "      <td>1</td>\n",
       "      <td>0</td>\n",
       "      <td>0</td>\n",
       "      <td>1</td>\n",
       "      <td>1</td>\n",
       "    </tr>\n",
       "    <tr>\n",
       "      <th>459</th>\n",
       "      <td>2020-4-4</td>\n",
       "      <td>0</td>\n",
       "      <td>0</td>\n",
       "      <td>1</td>\n",
       "      <td>0</td>\n",
       "      <td>0</td>\n",
       "      <td>1</td>\n",
       "      <td>1</td>\n",
       "      <td>0</td>\n",
       "      <td>0</td>\n",
       "      <td>1</td>\n",
       "      <td>1</td>\n",
       "    </tr>\n",
       "  </tbody>\n",
       "</table>\n",
       "<p>460 rows × 12 columns</p>\n",
       "</div>"
      ],
      "text/plain": [
       "             日期  倾向  开盘  收盘  最高  最低  涨跌幅  涨跌额  成交量  成交额  振幅  换手率\n",
       "0      2019-1-1   1   0   0   0   0    0    0    0    0   0    0\n",
       "1      2019-1-2   1   0   1   1   1    0    0    0    0   1    1\n",
       "2      2019-1-3   1   0   1   1   1    1    1    0    0   1    1\n",
       "3      2019-1-4   1   1   1   1   1    1    1    1    1   1    1\n",
       "4      2019-1-5   1   1   1   1   1    1    1    1    1   1    1\n",
       "..          ...  ..  ..  ..  ..  ..  ...  ...  ...  ...  ..  ...\n",
       "455   2020-3-31   0   1   1   1   1    1    1    0    0   1    1\n",
       "456    2020-4-1   0   0   1   1   0    1    1    1    1   1    1\n",
       "457    2020-4-2   0   0   1   0   0    1    1    0    0   1    1\n",
       "458    2020-4-3   0   0   1   0   0    1    1    0    0   1    1\n",
       "459    2020-4-4   0   0   1   0   0    1    1    0    0   1    1\n",
       "\n",
       "[460 rows x 12 columns]"
      ]
     },
     "execution_count": 44,
     "metadata": {},
     "output_type": "execute_result"
    }
   ],
   "source": [
    "readbook"
   ]
  },
  {
   "cell_type": "code",
   "execution_count": 45,
   "metadata": {},
   "outputs": [
    {
     "data": {
      "text/plain": [
       "459"
      ]
     },
     "execution_count": 45,
     "metadata": {},
     "output_type": "execute_result"
    }
   ],
   "source": [
    "X = np.array(readbook.iloc[:,1])[:-1]\n",
    "len(X)"
   ]
  },
  {
   "cell_type": "code",
   "execution_count": 76,
   "metadata": {},
   "outputs": [
    {
     "data": {
      "text/plain": [
       "459"
      ]
     },
     "execution_count": 76,
     "metadata": {},
     "output_type": "execute_result"
    }
   ],
   "source": [
    "Y = np.array(readbook.iloc[:,11])[1:]\n",
    "len(Y)"
   ]
  },
  {
   "cell_type": "code",
   "execution_count": 77,
   "metadata": {},
   "outputs": [],
   "source": [
    "from sklearn.metrics.pairwise import cosine_similarity"
   ]
  },
  {
   "cell_type": "code",
   "execution_count": 78,
   "metadata": {},
   "outputs": [
    {
     "data": {
      "text/plain": [
       "array([[1.        , 0.75669783],\n",
       "       [0.75669783, 1.        ]])"
      ]
     },
     "execution_count": 78,
     "metadata": {},
     "output_type": "execute_result"
    }
   ],
   "source": [
    "a = [X,Y]\n",
    "cosine_similarity(a)"
   ]
  },
  {
   "cell_type": "markdown",
   "metadata": {},
   "source": [
    "# cross_entropy"
   ]
  },
  {
   "cell_type": "code",
   "execution_count": 14,
   "metadata": {},
   "outputs": [],
   "source": [
    "#softmax\n",
    "def softmax(L):\n",
    "    expL = np.exp(L)\n",
    "    sumExpl = np.sum(expL)\n",
    "    result = []\n",
    "    for i in expL:\n",
    "        result.append(i*1.0/sumExpl)\n",
    "    return result"
   ]
  },
  {
   "cell_type": "code",
   "execution_count": 4,
   "metadata": {},
   "outputs": [],
   "source": [
    "#交叉熵公式，其中P表示股民评论倾向概率列表，Y表示次日股票其他因子的变化趋势倾向列表。\n",
    "def cross_entropy(P,Y):\n",
    "    P = np.float_(P)\n",
    "    Y = np.float_(Y)\n",
    "    return -np.sum(Y*np.log(P)+(1-Y)*np.log(1-P)) / len(P)"
   ]
  },
  {
   "cell_type": "code",
   "execution_count": 9,
   "metadata": {
    "scrolled": true
   },
   "outputs": [
    {
     "name": "stdout",
     "output_type": "stream",
     "text": [
      "['日期' '倾向' '开盘' '收盘' '最高' '最低' '涨跌幅' '涨跌额' '成交量' '成交额' '振幅' '换手率']\n"
     ]
    }
   ],
   "source": [
    "Y = pd.read_excel(r'vt_rulefillna_01_summary.xls',index_col=0)\n",
    "X = pd.read_excel(r'vt_meanfillna_summary.xls',index_col=0)\n",
    "name_list = X.columns.values\n",
    "print(name_list)\n",
    "X = np.array(X.iloc[:,1])[:-1]"
   ]
  },
  {
   "cell_type": "code",
   "execution_count": 10,
   "metadata": {
    "scrolled": true
   },
   "outputs": [
    {
     "name": "stdout",
     "output_type": "stream",
     "text": [
      "股民情感倾向概率与开盘交叉熵值：0.802711\n",
      "股民情感倾向概率与收盘交叉熵值：0.835103\n",
      "股民情感倾向概率与最高交叉熵值：0.827165\n",
      "股民情感倾向概率与最低交叉熵值：0.789267\n",
      "股民情感倾向概率与涨跌幅交叉熵值：0.827560\n",
      "股民情感倾向概率与涨跌额交叉熵值：0.827560\n",
      "股民情感倾向概率与成交量交叉熵值：0.840608\n",
      "股民情感倾向概率与成交额交叉熵值：0.829050\n",
      "股民情感倾向概率与振幅交叉熵值：0.718341\n",
      "股民情感倾向概率与换手率交叉熵值：0.714569\n"
     ]
    }
   ],
   "source": [
    "not_01_index = [i for i in range(len(X)) if (X[i] != 0 and X[i] != 1)]\n",
    "X = X[not_01_index]\n",
    "for j in range(2,12):\n",
    "    Y_array = np.array(Y.iloc[:,j])[1:]\n",
    "    Y_array = Y_array[not_01_index]\n",
    "    factor_name = name_list[j]\n",
    "    cs_result = cross_entropy(X,Y_array)\n",
    "    print(\"股民情感倾向概率与%s交叉熵值：%f\"%(factor_name,cs_result))"
   ]
  },
  {
   "cell_type": "code",
   "execution_count": 42,
   "metadata": {
    "scrolled": true
   },
   "outputs": [
    {
     "name": "stdout",
     "output_type": "stream",
     "text": [
      "['日期' '倾向' '开盘' '收盘' '最高' '最低' '涨跌幅' '涨跌额' '成交量' '成交额' '振幅' '换手率']\n"
     ]
    },
    {
     "data": {
      "text/plain": [
       "459"
      ]
     },
     "execution_count": 42,
     "metadata": {},
     "output_type": "execute_result"
    }
   ],
   "source": [
    "data = pd.read_excel(r'vt_meanfillna_sub_summary.xls',index_col=0)\n",
    "name_list = data.columns.values\n",
    "print(name_list)\n",
    "X = np.array(data.iloc[:,1])[:-1]\n",
    "len(X)"
   ]
  },
  {
   "cell_type": "code",
   "execution_count": 43,
   "metadata": {
    "scrolled": true
   },
   "outputs": [
    {
     "name": "stdout",
     "output_type": "stream",
     "text": [
      "股民情感倾向概率与开盘交叉熵值：0.015522\n",
      "股民情感倾向概率与收盘交叉熵值：0.015627\n",
      "股民情感倾向概率与最高交叉熵值：0.015650\n",
      "股民情感倾向概率与最低交叉熵值：0.015548\n",
      "股民情感倾向概率与涨跌幅交叉熵值：0.015588\n",
      "股民情感倾向概率与涨跌额交叉熵值：0.015889\n",
      "股民情感倾向概率与成交量交叉熵值：0.016338\n",
      "股民情感倾向概率与成交额交叉熵值：0.014843\n",
      "股民情感倾向概率与振幅交叉熵值：0.015588\n",
      "股民情感倾向概率与换手率交叉熵值：0.015587\n"
     ]
    }
   ],
   "source": [
    "for j in range(2,12):\n",
    "    Y_array = np.array(data.iloc[:,j])[1:]\n",
    "    factor_name = name_list[j]\n",
    "    cs_result = cross_entropy(softmax(X),softmax(Y_array))\n",
    "    print(\"股民情感倾向概率与%s交叉熵值：%f\"%(factor_name,cs_result))"
   ]
  },
  {
   "cell_type": "markdown",
   "metadata": {},
   "source": [
    "# machine_learning"
   ]
  },
  {
   "cell_type": "code",
   "execution_count": 77,
   "metadata": {},
   "outputs": [],
   "source": [
    "from sklearn.pipeline import Pipeline\n",
    "from sklearn.preprocessing import StandardScaler,PolynomialFeatures\n",
    "\n",
    "from sklearn.svm import SVC,LinearSVC,LinearSVR\n",
    "from sklearn.tree import DecisionTreeClassifier\n",
    "from sklearn.ensemble import AdaBoostClassifier,VotingClassifier,BaggingClassifier\n",
    "from sklearn.ensemble import RandomForestClassifier\n",
    "from sklearn.linear_model import LogisticRegression,LinearRegression,Lasso,Ridge\n",
    "from sklearn.linear_model import Perceptron\n",
    "from sklearn.linear_model import SGDClassifier\n",
    "from sklearn.model_selection import KFold,cross_val_score,train_test_split\n",
    "from sklearn.model_selection import learning_curve\n",
    "from sklearn.naive_bayes import GaussianNB\n",
    "from sklearn.neighbors import KNeighborsClassifier\n",
    "from sklearn.utils import column_or_1d\n",
    "from sklearn.utils import shuffle\n",
    "from sklearn.metrics import confusion_matrix\n",
    "from sklearn.metrics import precision_score\n",
    "from sklearn.metrics import recall_score\n",
    "from sklearn.metrics import f1_score\n",
    "from sklearn.metrics import roc_curve\n",
    "from sklearn.metrics import roc_auc_score"
   ]
  },
  {
   "cell_type": "code",
   "execution_count": 63,
   "metadata": {},
   "outputs": [],
   "source": [
    "seed = 666\n",
    "degree = 2\n",
    "alpha = 1e-4\n",
    "epsilon = 1e-5"
   ]
  },
  {
   "cell_type": "code",
   "execution_count": 64,
   "metadata": {
    "scrolled": true
   },
   "outputs": [
    {
     "data": {
      "text/html": [
       "<div>\n",
       "<style scoped>\n",
       "    .dataframe tbody tr th:only-of-type {\n",
       "        vertical-align: middle;\n",
       "    }\n",
       "\n",
       "    .dataframe tbody tr th {\n",
       "        vertical-align: top;\n",
       "    }\n",
       "\n",
       "    .dataframe thead th {\n",
       "        text-align: right;\n",
       "    }\n",
       "</style>\n",
       "<table border=\"1\" class=\"dataframe\">\n",
       "  <thead>\n",
       "    <tr style=\"text-align: right;\">\n",
       "      <th></th>\n",
       "      <th>日期</th>\n",
       "      <th>倾向</th>\n",
       "      <th>开盘</th>\n",
       "      <th>收盘</th>\n",
       "      <th>最高</th>\n",
       "      <th>最低</th>\n",
       "      <th>涨跌幅</th>\n",
       "      <th>涨跌额</th>\n",
       "      <th>成交量</th>\n",
       "      <th>成交额</th>\n",
       "      <th>振幅</th>\n",
       "      <th>换手率</th>\n",
       "    </tr>\n",
       "  </thead>\n",
       "  <tbody>\n",
       "    <tr>\n",
       "      <th>0</th>\n",
       "      <td>2019-1-1</td>\n",
       "      <td>0.243180</td>\n",
       "      <td>-2.539462</td>\n",
       "      <td>-2.744260</td>\n",
       "      <td>-2.702167</td>\n",
       "      <td>-2.648786</td>\n",
       "      <td>-0.827936</td>\n",
       "      <td>-0.535630</td>\n",
       "      <td>0.346401</td>\n",
       "      <td>-0.148423</td>\n",
       "      <td>0.016727</td>\n",
       "      <td>0.331160</td>\n",
       "    </tr>\n",
       "    <tr>\n",
       "      <th>1</th>\n",
       "      <td>2019-1-2</td>\n",
       "      <td>0.243180</td>\n",
       "      <td>-2.630455</td>\n",
       "      <td>-2.693132</td>\n",
       "      <td>-2.686902</td>\n",
       "      <td>-2.636679</td>\n",
       "      <td>-0.256188</td>\n",
       "      <td>-0.138072</td>\n",
       "      <td>0.133040</td>\n",
       "      <td>-0.289209</td>\n",
       "      <td>0.056207</td>\n",
       "      <td>0.125072</td>\n",
       "    </tr>\n",
       "    <tr>\n",
       "      <th>2</th>\n",
       "      <td>2019-1-3</td>\n",
       "      <td>0.243180</td>\n",
       "      <td>-2.721448</td>\n",
       "      <td>-2.642004</td>\n",
       "      <td>-2.671638</td>\n",
       "      <td>-2.624572</td>\n",
       "      <td>0.315561</td>\n",
       "      <td>0.259486</td>\n",
       "      <td>-0.080322</td>\n",
       "      <td>-0.429995</td>\n",
       "      <td>0.095687</td>\n",
       "      <td>-0.081017</td>\n",
       "    </tr>\n",
       "    <tr>\n",
       "      <th>3</th>\n",
       "      <td>2019-1-4</td>\n",
       "      <td>0.243180</td>\n",
       "      <td>-2.708157</td>\n",
       "      <td>-2.548951</td>\n",
       "      <td>-2.603456</td>\n",
       "      <td>-2.607420</td>\n",
       "      <td>0.477989</td>\n",
       "      <td>0.374274</td>\n",
       "      <td>0.622101</td>\n",
       "      <td>0.069516</td>\n",
       "      <td>0.494875</td>\n",
       "      <td>0.605944</td>\n",
       "    </tr>\n",
       "    <tr>\n",
       "      <th>4</th>\n",
       "      <td>2019-1-5</td>\n",
       "      <td>0.243180</td>\n",
       "      <td>-2.694866</td>\n",
       "      <td>-2.455898</td>\n",
       "      <td>-2.535275</td>\n",
       "      <td>-2.590268</td>\n",
       "      <td>0.640418</td>\n",
       "      <td>0.489062</td>\n",
       "      <td>1.324523</td>\n",
       "      <td>0.569027</td>\n",
       "      <td>0.894064</td>\n",
       "      <td>1.292905</td>\n",
       "    </tr>\n",
       "    <tr>\n",
       "      <th>...</th>\n",
       "      <td>...</td>\n",
       "      <td>...</td>\n",
       "      <td>...</td>\n",
       "      <td>...</td>\n",
       "      <td>...</td>\n",
       "      <td>...</td>\n",
       "      <td>...</td>\n",
       "      <td>...</td>\n",
       "      <td>...</td>\n",
       "      <td>...</td>\n",
       "      <td>...</td>\n",
       "      <td>...</td>\n",
       "    </tr>\n",
       "    <tr>\n",
       "      <th>455</th>\n",
       "      <td>2020-3-31</td>\n",
       "      <td>-1.477785</td>\n",
       "      <td>-1.002808</td>\n",
       "      <td>-1.073395</td>\n",
       "      <td>-1.056652</td>\n",
       "      <td>-1.030474</td>\n",
       "      <td>0.118481</td>\n",
       "      <td>0.125100</td>\n",
       "      <td>-0.509776</td>\n",
       "      <td>-0.608363</td>\n",
       "      <td>-0.097327</td>\n",
       "      <td>-0.510367</td>\n",
       "    </tr>\n",
       "    <tr>\n",
       "      <th>456</th>\n",
       "      <td>2020-4-1</td>\n",
       "      <td>-0.617302</td>\n",
       "      <td>-1.116294</td>\n",
       "      <td>-1.058057</td>\n",
       "      <td>-1.044440</td>\n",
       "      <td>-1.041572</td>\n",
       "      <td>0.159629</td>\n",
       "      <td>0.161496</td>\n",
       "      <td>-0.298503</td>\n",
       "      <td>-0.425620</td>\n",
       "      <td>0.047433</td>\n",
       "      <td>-0.304279</td>\n",
       "    </tr>\n",
       "    <tr>\n",
       "      <th>457</th>\n",
       "      <td>2020-4-2</td>\n",
       "      <td>-1.477785</td>\n",
       "      <td>-1.177637</td>\n",
       "      <td>-1.022267</td>\n",
       "      <td>-1.125851</td>\n",
       "      <td>-1.156589</td>\n",
       "      <td>0.220269</td>\n",
       "      <td>0.217491</td>\n",
       "      <td>-0.370641</td>\n",
       "      <td>-0.499990</td>\n",
       "      <td>0.262381</td>\n",
       "      <td>-0.372975</td>\n",
       "    </tr>\n",
       "    <tr>\n",
       "      <th>458</th>\n",
       "      <td>2020-4-3</td>\n",
       "      <td>-0.617302</td>\n",
       "      <td>-1.238980</td>\n",
       "      <td>-0.986478</td>\n",
       "      <td>-1.207262</td>\n",
       "      <td>-1.271607</td>\n",
       "      <td>0.280909</td>\n",
       "      <td>0.273485</td>\n",
       "      <td>-0.442779</td>\n",
       "      <td>-0.574360</td>\n",
       "      <td>0.477329</td>\n",
       "      <td>-0.441671</td>\n",
       "    </tr>\n",
       "    <tr>\n",
       "      <th>459</th>\n",
       "      <td>2020-4-4</td>\n",
       "      <td>-0.617302</td>\n",
       "      <td>-1.300324</td>\n",
       "      <td>-0.950688</td>\n",
       "      <td>-1.288673</td>\n",
       "      <td>-1.386624</td>\n",
       "      <td>0.341549</td>\n",
       "      <td>0.329479</td>\n",
       "      <td>-0.514918</td>\n",
       "      <td>-0.648729</td>\n",
       "      <td>0.692276</td>\n",
       "      <td>-0.510367</td>\n",
       "    </tr>\n",
       "  </tbody>\n",
       "</table>\n",
       "<p>460 rows × 12 columns</p>\n",
       "</div>"
      ],
      "text/plain": [
       "             日期        倾向        开盘        收盘        最高        最低       涨跌幅  \\\n",
       "0      2019-1-1  0.243180 -2.539462 -2.744260 -2.702167 -2.648786 -0.827936   \n",
       "1      2019-1-2  0.243180 -2.630455 -2.693132 -2.686902 -2.636679 -0.256188   \n",
       "2      2019-1-3  0.243180 -2.721448 -2.642004 -2.671638 -2.624572  0.315561   \n",
       "3      2019-1-4  0.243180 -2.708157 -2.548951 -2.603456 -2.607420  0.477989   \n",
       "4      2019-1-5  0.243180 -2.694866 -2.455898 -2.535275 -2.590268  0.640418   \n",
       "..          ...       ...       ...       ...       ...       ...       ...   \n",
       "455   2020-3-31 -1.477785 -1.002808 -1.073395 -1.056652 -1.030474  0.118481   \n",
       "456    2020-4-1 -0.617302 -1.116294 -1.058057 -1.044440 -1.041572  0.159629   \n",
       "457    2020-4-2 -1.477785 -1.177637 -1.022267 -1.125851 -1.156589  0.220269   \n",
       "458    2020-4-3 -0.617302 -1.238980 -0.986478 -1.207262 -1.271607  0.280909   \n",
       "459    2020-4-4 -0.617302 -1.300324 -0.950688 -1.288673 -1.386624  0.341549   \n",
       "\n",
       "          涨跌额       成交量       成交额        振幅       换手率  \n",
       "0   -0.535630  0.346401 -0.148423  0.016727  0.331160  \n",
       "1   -0.138072  0.133040 -0.289209  0.056207  0.125072  \n",
       "2    0.259486 -0.080322 -0.429995  0.095687 -0.081017  \n",
       "3    0.374274  0.622101  0.069516  0.494875  0.605944  \n",
       "4    0.489062  1.324523  0.569027  0.894064  1.292905  \n",
       "..        ...       ...       ...       ...       ...  \n",
       "455  0.125100 -0.509776 -0.608363 -0.097327 -0.510367  \n",
       "456  0.161496 -0.298503 -0.425620  0.047433 -0.304279  \n",
       "457  0.217491 -0.370641 -0.499990  0.262381 -0.372975  \n",
       "458  0.273485 -0.442779 -0.574360  0.477329 -0.441671  \n",
       "459  0.329479 -0.514918 -0.648729  0.692276 -0.510367  \n",
       "\n",
       "[460 rows x 12 columns]"
      ]
     },
     "execution_count": 64,
     "metadata": {},
     "output_type": "execute_result"
    }
   ],
   "source": [
    "readbook1 = pd.read_excel(r'vt_st_rulefillna_summary.xls',index_col=0)\n",
    "readbook1"
   ]
  },
  {
   "cell_type": "code",
   "execution_count": 65,
   "metadata": {},
   "outputs": [
    {
     "data": {
      "text/plain": [
       "459"
      ]
     },
     "execution_count": 65,
     "metadata": {},
     "output_type": "execute_result"
    }
   ],
   "source": [
    "y = readbook1.iloc[:,6]\n",
    "Y = []\n",
    "for i in range(len(y)):\n",
    "    if(y[i]<0):\n",
    "        Y.append(0)\n",
    "    else:\n",
    "        Y.append(1)\n",
    "Y = np.array(Y[1:])\n",
    "len(Y)"
   ]
  },
  {
   "cell_type": "code",
   "execution_count": 66,
   "metadata": {},
   "outputs": [
    {
     "data": {
      "text/plain": [
       "array([[ 0.24317977, -2.53946228, -2.74425963, ..., -0.14842325,\n",
       "         0.01672662,  0.33115982],\n",
       "       [ 0.24317977, -2.63045511, -2.6931316 , ..., -0.28920894,\n",
       "         0.05620678,  0.12507163],\n",
       "       [ 0.24317977, -2.72144794, -2.64200356, ..., -0.42999463,\n",
       "         0.09568695, -0.08101655],\n",
       "       ...,\n",
       "       [-0.61730248, -1.11629354, -1.05805695, ..., -0.42561993,\n",
       "         0.04743341, -0.30427875],\n",
       "       [-1.47778473, -1.17763702, -1.02226732, ..., -0.49998978,\n",
       "         0.26238097, -0.37297481],\n",
       "       [-0.61730248, -1.2389805 , -0.9864777 , ..., -0.57435962,\n",
       "         0.47732853, -0.44167087]])"
      ]
     },
     "execution_count": 66,
     "metadata": {},
     "output_type": "execute_result"
    }
   ],
   "source": [
    "X = np.array(readbook1.iloc[:-1,1:])\n",
    "X[np.isnan(X)] = 0.1\n",
    "X"
   ]
  },
  {
   "cell_type": "code",
   "execution_count": 446,
   "metadata": {},
   "outputs": [
    {
     "data": {
      "text/plain": [
       "array([[-2.53946228, -2.74425963, -2.70216679, ..., -0.14842325,\n",
       "         0.01672662,  0.33115982],\n",
       "       [-2.63045511, -2.6931316 , -2.68690227, ..., -0.28920894,\n",
       "         0.05620678,  0.12507163],\n",
       "       [-2.72144794, -2.64200356, -2.67163775, ..., -0.42999463,\n",
       "         0.09568695, -0.08101655],\n",
       "       ...,\n",
       "       [-1.11629354, -1.05805695, -1.04444027, ..., -0.42561993,\n",
       "         0.04743341, -0.30427875],\n",
       "       [-1.17763702, -1.02226732, -1.12585102, ..., -0.49998978,\n",
       "         0.26238097, -0.37297481],\n",
       "       [-1.2389805 , -0.9864777 , -1.20726178, ..., -0.57435962,\n",
       "         0.47732853, -0.44167087]])"
      ]
     },
     "execution_count": 446,
     "metadata": {},
     "output_type": "execute_result"
    }
   ],
   "source": [
    "X2 = np.array(readbook1.iloc[:-1,2:])\n",
    "X2[np.isnan(X2)] = 0.1\n",
    "X2"
   ]
  },
  {
   "cell_type": "code",
   "execution_count": 94,
   "metadata": {},
   "outputs": [],
   "source": [
    "def choose_best_model(x,y):\n",
    "    pipelines = []\n",
    "    pipelines.append(\n",
    "        ('SVC',\n",
    "         Pipeline([\n",
    "             (\"SVC\", SVC(random_state=seed))\n",
    "         ])\n",
    "         )\n",
    "    )\n",
    "    pipelines.append(\n",
    "        ('AdaBoostClassifier',\n",
    "         Pipeline([\n",
    "             ('AdaBoostClassifier', AdaBoostClassifier(random_state=seed))\n",
    "         ]))\n",
    "    )\n",
    "    pipelines.append(\n",
    "        ('RandomForestClassifier',\n",
    "         Pipeline([\n",
    "             ('RandomForestClassifier', RandomForestClassifier(random_state=seed))\n",
    "         ]))\n",
    "    )\n",
    "    pipelines.append(\n",
    "        ('LinearSVC',\n",
    "         Pipeline([\n",
    "             ('LinearSVC', LinearSVC(random_state=seed))\n",
    "         ]))\n",
    "    )\n",
    "    pipelines.append(\n",
    "        ('KNeighborsClassifier',\n",
    "         Pipeline([\n",
    "             ('KNeighborsClassifier', KNeighborsClassifier())\n",
    "         ]))\n",
    "    )\n",
    "\n",
    "    pipelines.append(\n",
    "        ('GaussianNB',\n",
    "         Pipeline([\n",
    "             ('GaussianNB', GaussianNB())\n",
    "         ]))\n",
    "    )\n",
    "\n",
    "    pipelines.append(\n",
    "        ('Perceptron',\n",
    "         Pipeline([\n",
    "             ('Perceptron', Perceptron(random_state=seed))\n",
    "         ]))\n",
    "    )\n",
    "    pipelines.append(\n",
    "        ('SGDClassifier',\n",
    "         Pipeline([\n",
    "             ('SGDClassifier', SGDClassifier(random_state=seed))\n",
    "         ]))\n",
    "    )\n",
    "    pipelines.append(\n",
    "        ('DecisionTreeClassifier',\n",
    "         Pipeline([\n",
    "             ('DecisionTreeClassifier', DecisionTreeClassifier(random_state=seed))\n",
    "         ]))\n",
    "    )\n",
    "    pipelines.append(\n",
    "        ('VotingClassifier',\n",
    "         VotingClassifier(estimators=[\n",
    "             ('log_reg',LogisticRegression()),\n",
    "             ('svc_clf',SVC(probability=True)),\n",
    "             ('dt_clf',DecisionTreeClassifier(random_state=seed))\n",
    "         ],voting='soft'))\n",
    "    )\n",
    "    pipelines.append(\n",
    "        ('BaggingClassifier',\n",
    "         BaggingClassifier(DecisionTreeClassifier(),\n",
    "                           n_estimators=500,max_samples=100,\n",
    "                           bootstrap=True))\n",
    "    )\n",
    "    n_folds = 5\n",
    "    #模型准确率、模型名字、最佳精准率、最佳召回率、最佳f1-score\n",
    "    accuracies, names ,precisions,recalls,f1_scores= [],[],[],[],[]\n",
    "    for name, model in pipelines:\n",
    "        #定义kfold\n",
    "        kfold = KFold(n_splits=n_folds, shuffle=True, random_state=seed)\n",
    "        #定义临时值\n",
    "        accuracy_res = []\n",
    "        precision_res = []\n",
    "        recall_res = []\n",
    "        f1score_res = []\n",
    "        #开始训练\n",
    "        for train_index,test_index in kfold.split(x):\n",
    "            #划分数据集\n",
    "            x_train = x[train_index]\n",
    "            y_train = np.array(y)[train_index]\n",
    "            x_test = x[test_index]\n",
    "            y_test = y[test_index]\n",
    "            #训练\n",
    "            model.fit(x_train,y_train)\n",
    "            #计算准确率\n",
    "            acc = model.score(x_test,y_test)\n",
    "            accuracy_res.append(acc)\n",
    "            y_pred = model.predict(x_test)\n",
    "            #精准率、召回率、f1_score计算\n",
    "            ps = precision_score(y_test,y_pred)\n",
    "            rs = recall_score(y_test,y_pred)\n",
    "            fs = f1_score(y_test,y_pred)\n",
    "            precision_res.append(ps)\n",
    "            recall_res.append(rs)\n",
    "            f1score_res.append(fs)\n",
    "        #模型名称与最佳准确率、精准率、召回率、f1-score打包输出\n",
    "        accuracies.append(np.max(accuracy_res))\n",
    "        precisions.append(np.max(precision_res))\n",
    "        recalls.append(np.max(recall_res))\n",
    "        f1_scores.append(np.max(f1score_res))\n",
    "        names.append(name)\n",
    "    return [zip(names,accuracies),zip(names,precisions),\n",
    "            zip(names,recalls),zip(names,f1_scores)]"
   ]
  },
  {
   "cell_type": "code",
   "execution_count": 73,
   "metadata": {},
   "outputs": [
    {
     "name": "stderr",
     "output_type": "stream",
     "text": [
      "D:\\anaconda3\\lib\\site-packages\\sklearn\\svm\\_base.py:947: ConvergenceWarning: Liblinear failed to converge, increase the number of iterations.\n",
      "  \"the number of iterations.\", ConvergenceWarning)\n",
      "D:\\anaconda3\\lib\\site-packages\\sklearn\\svm\\_base.py:947: ConvergenceWarning: Liblinear failed to converge, increase the number of iterations.\n",
      "  \"the number of iterations.\", ConvergenceWarning)\n",
      "D:\\anaconda3\\lib\\site-packages\\sklearn\\svm\\_base.py:947: ConvergenceWarning: Liblinear failed to converge, increase the number of iterations.\n",
      "  \"the number of iterations.\", ConvergenceWarning)\n",
      "D:\\anaconda3\\lib\\site-packages\\sklearn\\svm\\_base.py:947: ConvergenceWarning: Liblinear failed to converge, increase the number of iterations.\n",
      "  \"the number of iterations.\", ConvergenceWarning)\n"
     ]
    }
   ],
   "source": [
    "temp = choose_best_model(X,Y)"
   ]
  },
  {
   "cell_type": "code",
   "execution_count": 74,
   "metadata": {
    "scrolled": false
   },
   "outputs": [
    {
     "name": "stdout",
     "output_type": "stream",
     "text": [
      "各分类器准确率：\n",
      "('SVC', 0.6956521739130435)\n",
      "('AdaBoostClassifier', 0.6630434782608695)\n",
      "('RandomForestClassifier', 0.7282608695652174)\n",
      "('LinearSVC', 0.7282608695652174)\n",
      "('KNeighborsClassifier', 0.6739130434782609)\n",
      "('GaussianNB', 0.6956521739130435)\n",
      "('Perceptron', 0.6593406593406593)\n",
      "('SGDClassifier', 0.6847826086956522)\n",
      "('DecisionTreeClassifier', 0.6847826086956522)\n",
      "('VotingClassifier', 0.6847826086956522)\n",
      "('BaggingClassifier', 0.7391304347826086)\n",
      "\n",
      "\n",
      "各分类器精准率：\n",
      "('SVC', 0.7012987012987013)\n",
      "('AdaBoostClassifier', 0.7192982456140351)\n",
      "('RandomForestClassifier', 0.7230769230769231)\n",
      "('LinearSVC', 0.72)\n",
      "('KNeighborsClassifier', 0.703125)\n",
      "('GaussianNB', 0.7083333333333334)\n",
      "('Perceptron', 0.8461538461538461)\n",
      "('SGDClassifier', 0.7301587301587301)\n",
      "('DecisionTreeClassifier', 0.6935483870967742)\n",
      "('VotingClassifier', 0.7)\n",
      "('BaggingClassifier', 0.75)\n",
      "\n",
      "\n",
      "各分类器召回率：\n",
      "('SVC', 0.9607843137254902)\n",
      "('AdaBoostClassifier', 0.7924528301886793)\n",
      "('RandomForestClassifier', 0.9245283018867925)\n",
      "('LinearSVC', 0.9803921568627451)\n",
      "('KNeighborsClassifier', 0.9019607843137255)\n",
      "('GaussianNB', 0.9491525423728814)\n",
      "('Perceptron', 0.8305084745762712)\n",
      "('SGDClassifier', 0.8867924528301887)\n",
      "('DecisionTreeClassifier', 0.8113207547169812)\n",
      "('VotingClassifier', 0.7924528301886793)\n",
      "('BaggingClassifier', 0.8867924528301887)\n",
      "\n",
      "\n",
      "各分类器f1-score：\n",
      "('SVC', 0.7883211678832117)\n",
      "('AdaBoostClassifier', 0.7256637168141592)\n",
      "('RandomForestClassifier', 0.7967479674796748)\n",
      "('LinearSVC', 0.81203007518797)\n",
      "('KNeighborsClassifier', 0.7540983606557377)\n",
      "('GaussianNB', 0.7943262411347518)\n",
      "('Perceptron', 0.7596899224806201)\n",
      "('SGDClassifier', 0.7642276422764227)\n",
      "('DecisionTreeClassifier', 0.7478260869565218)\n",
      "('VotingClassifier', 0.743362831858407)\n",
      "('BaggingClassifier', 0.7999999999999999)\n",
      "\n",
      "\n"
     ]
    }
   ],
   "source": [
    "for i in temp:\n",
    "    if(i==temp[0]):\n",
    "        print(\"各分类器准确率：\")\n",
    "    elif(i==temp[1]):\n",
    "        print(\"各分类器精准率：\")\n",
    "    elif(i==temp[2]):\n",
    "        print(\"各分类器召回率：\")\n",
    "    elif(i==temp[3]):\n",
    "        print(\"各分类器f1-score：\")\n",
    "    for j in i:\n",
    "        print(j)\n",
    "    print(\"\\n\")"
   ]
  },
  {
   "cell_type": "code",
   "execution_count": 75,
   "metadata": {},
   "outputs": [],
   "source": [
    "#confusion_metric with RandomForestClassifier\n",
    "def confusion_metrics(model,x,y):\n",
    "    x_train,x_test,y_train,y_test=train_test_split(x,y,random_state=seed)\n",
    "    model.fit(x_train,y_train)\n",
    "    y_pred = model.predict(x_test)\n",
    "    return confusion_matrix(y_pred,y_test)"
   ]
  },
  {
   "cell_type": "code",
   "execution_count": 80,
   "metadata": {
    "scrolled": true
   },
   "outputs": [
    {
     "data": {
      "text/plain": [
       "array([[20, 13],\n",
       "       [28, 54]], dtype=int64)"
      ]
     },
     "execution_count": 80,
     "metadata": {},
     "output_type": "execute_result"
    }
   ],
   "source": [
    "confusion_metrics(randomForestClassifier,X,Y)"
   ]
  },
  {
   "cell_type": "code",
   "execution_count": 91,
   "metadata": {},
   "outputs": [],
   "source": [
    "import matplotlib.pyplot as plt"
   ]
  },
  {
   "cell_type": "code",
   "execution_count": 144,
   "metadata": {},
   "outputs": [],
   "source": [
    "def canvas(x,y):\n",
    "    x_train,x_test,y_train,y_test=train_test_split(x,y,random_state=seed)\n",
    "    pipelines = []\n",
    "\n",
    "    pipelines.append(\n",
    "        ('AdaBoostClassifier',\n",
    "         Pipeline([\n",
    "             ('AdaBoostClassifier', AdaBoostClassifier(random_state=seed))\n",
    "         ]))\n",
    "    )\n",
    "    pipelines.append(\n",
    "        ('RandomForestClassifier',\n",
    "         Pipeline([\n",
    "             ('RandomForestClassifier', RandomForestClassifier(random_state=seed))\n",
    "         ]))\n",
    "    )\n",
    "    pipelines.append(\n",
    "        ('KNeighborsClassifier',\n",
    "         Pipeline([\n",
    "             ('KNeighborsClassifier', KNeighborsClassifier())\n",
    "         ]))\n",
    "    )\n",
    "\n",
    "    pipelines.append(\n",
    "        ('GaussianNB',\n",
    "         Pipeline([\n",
    "             ('GaussianNB', GaussianNB())\n",
    "         ]))\n",
    "    )\n",
    "    pipelines.append(\n",
    "        ('DecisionTreeClassifier',\n",
    "         Pipeline([\n",
    "             ('DecisionTreeClassifier', DecisionTreeClassifier(random_state=seed))\n",
    "         ]))\n",
    "    )\n",
    "    pipelines.append(\n",
    "        ('VotingClassifier',\n",
    "         VotingClassifier(estimators=[\n",
    "             ('log_reg',LogisticRegression()),\n",
    "             ('svc_clf',SVC(probability=True)),\n",
    "             ('dt_clf',DecisionTreeClassifier(random_state=seed))\n",
    "         ],voting='soft'))\n",
    "    )\n",
    "    pipelines.append(\n",
    "        ('BaggingClassifier',\n",
    "         BaggingClassifier(DecisionTreeClassifier(),\n",
    "                           n_estimators=500,max_samples=100,\n",
    "                           bootstrap=True))\n",
    "    )\n",
    "    fig = plt.figure()\n",
    "    plt.subplots_adjust(2.5,15,5,18,0.2,0.2)\n",
    "    for i,(name,model) in enumerate(pipelines):\n",
    "        y_score = model.fit(x_train,y_train).predict_proba(x_test)\n",
    "        fprs,tprs,thresholds=roc_curve(y_test,y_score[:,1])\n",
    "        ax1 = fig.add_subplot(int('33'+str(i+1)))\n",
    "        ax1.set_title(name,fontsize=20)\n",
    "        ax1.plot(fprs,tprs)\n",
    "    plt.show()"
   ]
  },
  {
   "cell_type": "code",
   "execution_count": 145,
   "metadata": {},
   "outputs": [
    {
     "data": {
      "image/png": "[encoded data removed]",
      "text/plain": [
       "<Figure size 432x288 with 7 Axes>"
      ]
     },
     "metadata": {
      "needs_background": "light"
     },
     "output_type": "display_data"
    }
   ],
   "source": [
    "canvas(X,Y)"
   ]
  },
  {
   "cell_type": "code",
   "execution_count": null,
   "metadata": {},
   "outputs": [],
   "source": []
  }
 ],
 "metadata": {
  "kernelspec": {
   "display_name": "Python 3",
   "language": "python",
   "name": "python3"
  },
  "language_info": {
   "codemirror_mode": {
    "name": "ipython",
    "version": 3
   },
   "file_extension": ".py",
   "mimetype": "text/x-python",
   "name": "python",
   "nbconvert_exporter": "python",
   "pygments_lexer": "ipython3",
   "version": "3.7.6"
  }
 },
 "nbformat": 4,
 "nbformat_minor": 4
}
