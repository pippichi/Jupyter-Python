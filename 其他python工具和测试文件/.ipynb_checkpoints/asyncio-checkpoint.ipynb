{
 "cells": [
  {
   "cell_type": "markdown",
   "metadata": {},
   "source": [
    "### 普通函数的定义是使用 def 关键词，协程函数(Coroutine)本质上是一个函数，特点是在代码块中可以将执行权交给其他协程\n",
    "### 参考：https://blog.csdn.net/bluehawksky/article/details/106283636（python中的asyncio使用详解）¶"
   ]
  }
 ],
 "metadata": {
  "kernelspec": {
   "display_name": "Python 3",
   "language": "python",
   "name": "python3"
  },
  "language_info": {
   "codemirror_mode": {
    "name": "ipython",
    "version": 3
   },
   "file_extension": ".py",
   "mimetype": "text/x-python",
   "name": "python",
   "nbconvert_exporter": "python",
   "pygments_lexer": "ipython3",
   "version": "3.8.5"
  }
 },
 "nbformat": 4,
 "nbformat_minor": 4
}
