{
 "cells": [
  {
   "cell_type": "code",
   "execution_count": 4,
   "metadata": {},
   "outputs": [],
   "source": [
    "import numpy as np"
   ]
  },
  {
   "cell_type": "code",
   "execution_count": 9,
   "metadata": {},
   "outputs": [
    {
     "name": "stdout",
     "output_type": "stream",
     "text": [
      "[[0.  0.5 1. ]\n",
      " [0.  0.5 1. ]]\n",
      "[[0. 0. 0.]\n",
      " [1. 1. 1.]]\n",
      "[0.  0.5 1.  0.  0.5 1. ]\n",
      "[0. 0. 0. 1. 1. 1.]\n",
      "[[0.  0.5 1. ]]\n"
     ]
    }
   ],
   "source": [
    "nx,ny = (3,2)\n",
    "x = np.linspace(0,1,nx)\n",
    "y = np.linspace(0,1,ny)\n",
    "xv,yv = np.meshgrid(x,y)\n",
    "print(xv)\n",
    "print(yv)\n",
    "print(xv.ravel())\n",
    "print(yv.ravel())"
   ]
  },
  {
   "cell_type": "markdown",
   "metadata": {},
   "source": [
    "如果，将sparse参数设置为True，就不会向上面一样进行扩展了，也就是说它产生的网格坐标不是所有的网格坐标，而是网格对角线上的坐标点。"
   ]
  },
  {
   "cell_type": "code",
   "execution_count": 16,
   "metadata": {},
   "outputs": [
    {
     "name": "stdout",
     "output_type": "stream",
     "text": [
      "[[0. 1. 2.]\n",
      " [0. 1. 2.]]\n",
      "[[0. 0. 0.]\n",
      " [2. 2. 2.]]\n",
      "[[0. 1. 2.]]\n",
      "[[0.]\n",
      " [2.]]\n"
     ]
    }
   ],
   "source": [
    "nx,ny = (3,2)\n",
    "x = np.linspace(0,2,nx)\n",
    "y = np.linspace(0,2,ny)\n",
    "xv,yv = np.meshgrid(x,y,sparse=False)\n",
    "print(xv)\n",
    "print(yv)\n",
    "xv,yv = np.meshgrid(x,y,sparse=True)\n",
    "print(xv)\n",
    "print(yv)"
   ]
  }
 ],
 "metadata": {
  "kernelspec": {
   "display_name": "Python 3",
   "language": "python",
   "name": "python3"
  },
  "language_info": {
   "codemirror_mode": {
    "name": "ipython",
    "version": 3
   },
   "file_extension": ".py",
   "mimetype": "text/x-python",
   "name": "python",
   "nbconvert_exporter": "python",
   "pygments_lexer": "ipython3",
   "version": "3.7.0"
  }
 },
 "nbformat": 4,
 "nbformat_minor": 2
}
