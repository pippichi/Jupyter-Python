{
 "cells": [
  {
   "cell_type": "code",
   "execution_count": 5,
   "metadata": {},
   "outputs": [
    {
     "name": "stdout",
     "output_type": "stream",
     "text": [
      "[3.14, 1, 2.2, ['another list'], 'qyf']\n"
     ]
    }
   ],
   "source": [
    "import pickle as pk\n",
    "my_list = [3.14,1,2.2,['another list'],'qyf']\n",
    "pk_file = open('my_list.pk1','wb')\n",
    "pk.dump(my_list,pk_file)#将list中的内容编码为只有python看得懂的码之后加入pickle_file\n",
    "pk_file.close()\n",
    "\n",
    "pk_file = open('my_list.pk1','rb')\n",
    "my_file2 = pk.load(pk_file)\n",
    "print(my_file2)\n",
    "pk_file.close()"
   ]
  }
 ],
 "metadata": {
  "kernelspec": {
   "display_name": "Python 3",
   "language": "python",
   "name": "python3"
  },
  "language_info": {
   "codemirror_mode": {
    "name": "ipython",
    "version": 3
   },
   "file_extension": ".py",
   "mimetype": "text/x-python",
   "name": "python",
   "nbconvert_exporter": "python",
   "pygments_lexer": "ipython3",
   "version": "3.6.5"
  }
 },
 "nbformat": 4,
 "nbformat_minor": 2
}
