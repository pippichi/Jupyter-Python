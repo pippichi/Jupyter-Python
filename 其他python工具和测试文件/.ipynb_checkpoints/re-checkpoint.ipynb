{
 "cells": [
  {
   "cell_type": "code",
   "execution_count": 3,
   "metadata": {},
   "outputs": [
    {
     "name": "stdout",
     "output_type": "stream",
     "text": [
      "None\n",
      "<re.Match object; span=(0, 3), match='abd'>\n"
     ]
    }
   ],
   "source": [
    "import re\n",
    "re.search(r'\\d\\d\\d\\.\\d','133.1')\n",
    "re.search(r'[aeiou]',';nkbnbja')\n",
    "re.search(r'[a-z]','aa')\n",
    "re.search(r'ab{3}c','abbbc')\n",
    "re.search(r'ab{3,7}c','abbbbbc')\n",
    "re.search(r'[01]\\d\\d|2[0-4]\\d|25[0-5]','255')\n",
    "print(re.search(r'([01]{0,1}\\d{0,1}\\d|2[0-4]\\d|25[0-5]\\.){3}([01]{0,1}\\d{0,1}\\d|2[0-4]\\d|25[0-5])','192.168.1.1'))\n",
    "re.search(r'fish(C|D)','fishC')\n",
    "re.search(r'^fish','fishC')#^必须以fish开头\n",
    "re.search(r'fish$','love fish')#$必须以fish结尾\n",
    "re.search(r\"(fishC)\\1\",\"fishCfishC\")\n",
    "re.search(r'(fishC)\\060','fishCfishC0')\n",
    "re.search(r'(fishC)\\141','fishCfishCa')\n",
    "re.search(r'.{5}','fishC')\n",
    "re.search(r'[.]','fishC.com')\n",
    "re.findall(r'[a-z]','DfishC.com')\n",
    "re.findall(r'[\\n]','fishC\\n\\n')\n",
    "\n",
    "#脱字符\n",
    "re.findall(r'[^a-z]','FishC.com^\\n')\n",
    "re.findall(r'[a-z^]','FishC.com^\\n')\n",
    "\n",
    "re.findall(r'(fish)?','fishfishfishfish')\n",
    "re.findall(r'(fish)+','fishfishfishfish')\n",
    "re.findall(r'(fish)*','fishfishfishfish')\n",
    "\n",
    "re.findall(r'<.+>','<html><title>i love i</titile></html>')\n",
    "re.findall(r\"<.+?>\",\"<html><title>i love i</titile></html>\")\n",
    "\n",
    "re.findall(r\"\\bfishC\\b\",\"fishC.com ！fishC_com(fishC)\")#中间那个fishC_没被找到，因为\\b中 _ 也被认为是一个字母，其中的\"！，（） .\"被认为是单词边界\n",
    "#\\b是匹配单词边界，|B是匹配非单词边界\n",
    "\n",
    "re.findall(r'\\w','我爱鱼C工作室 (FishC.com_cn)')\n",
    "re.findall(r'\\W','我爱鱼C工作室 (FishC.com_cn)')"
   ]
  },
  {
   "cell_type": "code",
   "execution_count": 19,
   "metadata": {},
   "outputs": [
    {
     "data": {
      "text/plain": [
       "(1, 12)"
      ]
     },
     "execution_count": 19,
     "metadata": {},
     "output_type": "execute_result"
    }
   ],
   "source": [
    "import re\n",
    "\n",
    "p = re.compile(r'[a-z]')\n",
    "p.search('i love i')\n",
    "p.findall('i love i')\n",
    "\n",
    "result = re.search(r' (\\w+) (\\w+)','I love fishC.com')\n",
    "result\n",
    "# result.group()\n",
    "# result.group(1)\n",
    "# result.group(2)\n",
    "# result.group(0)\n",
    "# result.start()\n",
    "# result.end()\n",
    "# result.span()"
   ]
  },
  {
   "cell_type": "code",
   "execution_count": 1,
   "metadata": {},
   "outputs": [
    {
     "data": {
      "text/plain": [
       "['<img class=\"BDE_Image\" pic_type=\"0\" width=\"450\" height=\"581\" src=\"https://imgsa.baidu.com/forum/w%3D580/sign=5e31ade0dd62853592e0d229a0ef76f2/b8c94bed2e738bd4767d6523a98b87d6267ff9c6.jpg\"']"
      ]
     },
     "execution_count": 1,
     "metadata": {},
     "output_type": "execute_result"
    }
   ],
   "source": [
    "import re\n",
    "\n",
    "p = r'<img class=\"BDE_Image\" pic_type=\".{1,3}\" width=\".{1,3}\" height=\".{1,3}\" src=\"[^\"]+\\.jpg\"'\n",
    "imglist = re.findall(p,'<img class=\"BDE_Image\" pic_type=\"0\" width=\"450\" height=\"581\" src=\"https://imgsa.baidu.com/forum/w%3D580/sign=5e31ade0dd62853592e0d229a0ef76f2/b8c94bed2e738bd4767d6523a98b87d6267ff9c6.jpg\" size=\"77010\">')\n",
    "imglist"
   ]
  },
  {
   "cell_type": "code",
   "execution_count": 8,
   "metadata": {},
   "outputs": [],
   "source": [
    "text = \"hello my friend!123 2\""
   ]
  },
  {
   "cell_type": "code",
   "execution_count": 9,
   "metadata": {},
   "outputs": [
    {
     "data": {
      "text/plain": [
       "'hellomyfriend!1232'"
      ]
     },
     "execution_count": 9,
     "metadata": {},
     "output_type": "execute_result"
    }
   ],
   "source": [
    "re.sub(r\"\\s\", \"\", text)"
   ]
  },
  {
   "cell_type": "code",
   "execution_count": 12,
   "metadata": {},
   "outputs": [
    {
     "data": {
      "text/plain": [
       "'hellomyfriend!'"
      ]
     },
     "execution_count": 12,
     "metadata": {},
     "output_type": "execute_result"
    }
   ],
   "source": [
    "re.sub(r\"\\s|\\d\", \"\", text)"
   ]
  },
  {
   "cell_type": "code",
   "execution_count": 10,
   "metadata": {},
   "outputs": [
    {
     "data": {
      "text/plain": [
       "['hello', 'my', 'friend!123', '2']"
      ]
     },
     "execution_count": 10,
     "metadata": {},
     "output_type": "execute_result"
    }
   ],
   "source": [
    "re.split(r\"\\s\", text)"
   ]
  },
  {
   "cell_type": "code",
   "execution_count": 11,
   "metadata": {
    "scrolled": true
   },
   "outputs": [
    {
     "data": {
      "text/plain": [
       "['hello', 'my friend!123 2']"
      ]
     },
     "execution_count": 11,
     "metadata": {},
     "output_type": "execute_result"
    }
   ],
   "source": [
    "re.split(r\"\\s\", text, 1)"
   ]
  },
  {
   "cell_type": "code",
   "execution_count": null,
   "metadata": {},
   "outputs": [],
   "source": []
  }
 ],
 "metadata": {
  "kernelspec": {
   "display_name": "Python 3",
   "language": "python",
   "name": "python3"
  },
  "language_info": {
   "codemirror_mode": {
    "name": "ipython",
    "version": 3
   },
   "file_extension": ".py",
   "mimetype": "text/x-python",
   "name": "python",
   "nbconvert_exporter": "python",
   "pygments_lexer": "ipython3",
   "version": "3.7.6"
  }
 },
 "nbformat": 4,
 "nbformat_minor": 2
}
