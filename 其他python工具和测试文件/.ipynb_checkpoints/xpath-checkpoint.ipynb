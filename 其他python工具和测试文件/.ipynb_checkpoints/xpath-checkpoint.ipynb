{
 "cells": [
  {
   "cell_type": "code",
   "execution_count": 1,
   "metadata": {},
   "outputs": [],
   "source": [
    "import parsel"
   ]
  },
  {
   "cell_type": "code",
   "execution_count": 2,
   "metadata": {},
   "outputs": [],
   "source": [
    "content = \"\"\"\n",
    "    <div>\n",
    "        <ul class=\"u1\">\n",
    "            <li class=\"l1\"><a href=\"a\">a</a></li>\n",
    "            <li class=\"l2\"><a href=\"b\">v</a></li>\n",
    "            <li class=\"l3\"><a href=\"c\">b</a></li>\n",
    "            <li class=\"l4\"><a href=\"d\">c</a></li>\n",
    "            <li class=\"l5\"><a href=\"e\">d</a></li>\n",
    "            <li>e</li>\n",
    "        </ul>\n",
    "    </div>\n",
    "    \"\"\""
   ]
  },
  {
   "cell_type": "code",
   "execution_count": 3,
   "metadata": {},
   "outputs": [],
   "source": [
    "# 转换数据类型\n",
    "response = parsel.Selector(content)"
   ]
  },
  {
   "cell_type": "code",
   "execution_count": 10,
   "metadata": {},
   "outputs": [
    {
     "data": {
      "text/plain": [
       "'<html><body><div>\\n        <ul class=\"u1\">\\n            <li class=\"l1\"><a href=\"a\">a</a></li>\\n            <li class=\"l2\"><a href=\"b\">v</a></li>\\n            <li class=\"l3\"><a href=\"c\">b</a></li>\\n            <li class=\"l4\"><a href=\"d\">c</a></li>\\n            <li class=\"l5\"><a href=\"e\">d</a></li>\\n            <li>e</li>\\n        </ul>\\n    </div></body></html>'"
      ]
     },
     "execution_count": 10,
     "metadata": {},
     "output_type": "execute_result"
    }
   ],
   "source": [
    "# 能够把缺失的标签补充完整\n",
    "response.extract()"
   ]
  },
  {
   "cell_type": "code",
   "execution_count": 16,
   "metadata": {},
   "outputs": [
    {
     "data": {
      "text/plain": [
       "['<li class=\"l1\"><a href=\"a\">a</a></li>',\n",
       " '<li class=\"l2\"><a href=\"b\">v</a></li>',\n",
       " '<li class=\"l3\"><a href=\"c\">b</a></li>',\n",
       " '<li class=\"l4\"><a href=\"d\">c</a></li>',\n",
       " '<li class=\"l5\"><a href=\"e\">d</a></li>',\n",
       " '<li>e</li>']"
      ]
     },
     "execution_count": 16,
     "metadata": {},
     "output_type": "execute_result"
    }
   ],
   "source": [
    "response.xpath(\"//ul/li\").extract()"
   ]
  },
  {
   "cell_type": "code",
   "execution_count": 5,
   "metadata": {},
   "outputs": [
    {
     "data": {
      "text/plain": [
       "['<a href=\"a\">a</a>',\n",
       " '<a href=\"b\">v</a>',\n",
       " '<a href=\"c\">b</a>',\n",
       " '<a href=\"d\">c</a>',\n",
       " '<a href=\"e\">d</a>']"
      ]
     },
     "execution_count": 5,
     "metadata": {},
     "output_type": "execute_result"
    }
   ],
   "source": [
    "# 从根节点开始获取所有<a>标签\n",
    "response.xpath('/html/body/div/ul/li/a').extract()"
   ]
  },
  {
   "cell_type": "code",
   "execution_count": 6,
   "metadata": {},
   "outputs": [
    {
     "data": {
      "text/plain": [
       "['<a href=\"a\">a</a>',\n",
       " '<a href=\"b\">v</a>',\n",
       " '<a href=\"c\">b</a>',\n",
       " '<a href=\"d\">c</a>',\n",
       " '<a href=\"e\">d</a>']"
      ]
     },
     "execution_count": 6,
     "metadata": {},
     "output_type": "execute_result"
    }
   ],
   "source": [
    "# 跨节点获取所有<a>标签\n",
    "response.xpath('//a').extract()"
   ]
  },
  {
   "cell_type": "code",
   "execution_count": 7,
   "metadata": {},
   "outputs": [
    {
     "data": {
      "text/plain": [
       "['<a href=\"a\">a</a>',\n",
       " '<a href=\"b\">v</a>',\n",
       " '<a href=\"c\">b</a>',\n",
       " '<a href=\"d\">c</a>',\n",
       " '<a href=\"e\">d</a>']"
      ]
     },
     "execution_count": 7,
     "metadata": {},
     "output_type": "execute_result"
    }
   ],
   "source": [
    "# 选取当前节点   使用场景：需要对选取的标签的下一级标签进行多次提取\n",
    "temp = response.xpath('//ul')\n",
    "res = temp.xpath('./li/a').extract()\n",
    "res"
   ]
  },
  {
   "cell_type": "code",
   "execution_count": 8,
   "metadata": {},
   "outputs": [
    {
     "data": {
      "text/plain": [
       "['l1', 'l2', 'l3', 'l4', 'l5']"
      ]
     },
     "execution_count": 8,
     "metadata": {},
     "output_type": "execute_result"
    }
   ],
   "source": [
    "# 选取当前节点的父节点，获取父节点的class属性值\n",
    "temp = response.xpath('//a')\n",
    "res = temp.xpath('../@class').extract()\n",
    "res"
   ]
  },
  {
   "cell_type": "code",
   "execution_count": 9,
   "metadata": {},
   "outputs": [
    {
     "name": "stdout",
     "output_type": "stream",
     "text": [
      "['<li class=\"l3\"><a href=\"c\">b</a></li>']\n"
     ]
    },
    {
     "data": {
      "text/plain": [
       "'<li class=\"l3\"><a href=\"c\">b</a></li>'"
      ]
     },
     "execution_count": 9,
     "metadata": {},
     "output_type": "execute_result"
    }
   ],
   "source": [
    "# 获取第三个<li>标签的节点（两种方法）\n",
    "method1 = response.xpath('//li[3]').extract()  # 索引从1开始\n",
    "method2 =  response.xpath('//li')[2].extract()\n",
    "print(method1)\n",
    "method2"
   ]
  },
  {
   "cell_type": "code",
   "execution_count": 10,
   "metadata": {},
   "outputs": [
    {
     "data": {
      "text/plain": [
       "['<a href=\"d\">c</a>']"
      ]
     },
     "execution_count": 10,
     "metadata": {},
     "output_type": "execute_result"
    }
   ],
   "source": [
    "# 通过定位属性的方法获取第四个<a>标签\n",
    "response.xpath('//a[@href=\"d\"]').extract()"
   ]
  },
  {
   "cell_type": "code",
   "execution_count": 11,
   "metadata": {},
   "outputs": [
    {
     "data": {
      "text/plain": [
       "['c']"
      ]
     },
     "execution_count": 11,
     "metadata": {},
     "output_type": "execute_result"
    }
   ],
   "source": [
    "# 用属性定位标签获取第四个<a>标签包裹的文本内容\n",
    "response.xpath('//a[@href=\"d\"]/text()').extract()"
   ]
  },
  {
   "cell_type": "code",
   "execution_count": 12,
   "metadata": {},
   "outputs": [
    {
     "data": {
      "text/plain": [
       "['e']"
      ]
     },
     "execution_count": 12,
     "metadata": {},
     "output_type": "execute_result"
    }
   ],
   "source": [
    "# 获取第五个<a>标签的href属性值\n",
    "response.xpath('//li[5]/a/@href').extract()"
   ]
  },
  {
   "cell_type": "code",
   "execution_count": 13,
   "metadata": {},
   "outputs": [
    {
     "data": {
      "text/plain": [
       "['<li class=\"l1\"><a href=\"a\">a</a></li>',\n",
       " '<li class=\"l2\"><a href=\"b\">v</a></li>',\n",
       " '<li class=\"l3\"><a href=\"c\">b</a></li>',\n",
       " '<li class=\"l4\"><a href=\"d\">c</a></li>',\n",
       " '<li class=\"l5\"><a href=\"e\">d</a></li>']"
      ]
     },
     "execution_count": 13,
     "metadata": {},
     "output_type": "execute_result"
    }
   ],
   "source": [
    "# 模糊查询\n",
    "response.xpath('//li[contains(@class, \"l\")]').extract()"
   ]
  },
  {
   "cell_type": "code",
   "execution_count": 14,
   "metadata": {},
   "outputs": [
    {
     "data": {
      "text/plain": [
       "['l1', 'a', 'l2', 'b', 'l3', 'c', 'l4', 'd', 'l5', 'e']"
      ]
     },
     "execution_count": 14,
     "metadata": {},
     "output_type": "execute_result"
    }
   ],
   "source": [
    "# 同时获取<li>标签的属性以及<a>标签的文本\n",
    "response.xpath('//li/@class|//a/@href').extract()"
   ]
  },
  {
   "cell_type": "markdown",
   "metadata": {},
   "source": [
    "### 通配符"
   ]
  },
  {
   "cell_type": "code",
   "execution_count": 15,
   "metadata": {},
   "outputs": [
    {
     "data": {
      "text/plain": [
       "['<a href=\"a\">a</a>',\n",
       " '<a href=\"b\">v</a>',\n",
       " '<a href=\"c\">b</a>',\n",
       " '<a href=\"d\">c</a>',\n",
       " '<a href=\"e\">d</a>']"
      ]
     },
     "execution_count": 15,
     "metadata": {},
     "output_type": "execute_result"
    }
   ],
   "source": [
    "response.xpath('//a[@*]').extract()"
   ]
  },
  {
   "cell_type": "code",
   "execution_count": 16,
   "metadata": {},
   "outputs": [
    {
     "data": {
      "text/plain": [
       "['<body><div>\\n        <ul class=\"u1\">\\n            <li class=\"l1\"><a href=\"a\">a</a></li>\\n            <li class=\"l2\"><a href=\"b\">v</a></li>\\n            <li class=\"l3\"><a href=\"c\">b</a></li>\\n            <li class=\"l4\"><a href=\"d\">c</a></li>\\n            <li class=\"l5\"><a href=\"e\">d</a></li>\\n            <li>e</li>\\n        </ul>\\n    </div></body>']"
      ]
     },
     "execution_count": 16,
     "metadata": {},
     "output_type": "execute_result"
    }
   ],
   "source": [
    "response.xpath('*').extract()"
   ]
  },
  {
   "cell_type": "code",
   "execution_count": 17,
   "metadata": {},
   "outputs": [
    {
     "data": {
      "text/plain": [
       "['<body><div>\\n        <ul class=\"u1\">\\n            <li class=\"l1\"><a href=\"a\">a</a></li>\\n            <li class=\"l2\"><a href=\"b\">v</a></li>\\n            <li class=\"l3\"><a href=\"c\">b</a></li>\\n            <li class=\"l4\"><a href=\"d\">c</a></li>\\n            <li class=\"l5\"><a href=\"e\">d</a></li>\\n            <li>e</li>\\n        </ul>\\n    </div></body>']"
      ]
     },
     "execution_count": 17,
     "metadata": {},
     "output_type": "execute_result"
    }
   ],
   "source": [
    "response.xpath('node()').extract()"
   ]
  },
  {
   "cell_type": "code",
   "execution_count": 18,
   "metadata": {},
   "outputs": [
    {
     "data": {
      "text/plain": [
       "['<li class=\"l1\"><a href=\"a\">a</a></li>',\n",
       " '<li class=\"l2\"><a href=\"b\">v</a></li>',\n",
       " '<li class=\"l3\"><a href=\"c\">b</a></li>',\n",
       " '<li class=\"l4\"><a href=\"d\">c</a></li>',\n",
       " '<li class=\"l5\"><a href=\"e\">d</a></li>',\n",
       " '<li>e</li>']"
      ]
     },
     "execution_count": 18,
     "metadata": {},
     "output_type": "execute_result"
    }
   ],
   "source": [
    "response.xpath('//ul/*').extract()"
   ]
  },
  {
   "cell_type": "code",
   "execution_count": 19,
   "metadata": {},
   "outputs": [
    {
     "data": {
      "text/plain": [
       "['<html><body><div>\\n        <ul class=\"u1\">\\n            <li class=\"l1\"><a href=\"a\">a</a></li>\\n            <li class=\"l2\"><a href=\"b\">v</a></li>\\n            <li class=\"l3\"><a href=\"c\">b</a></li>\\n            <li class=\"l4\"><a href=\"d\">c</a></li>\\n            <li class=\"l5\"><a href=\"e\">d</a></li>\\n            <li>e</li>\\n        </ul>\\n    </div></body></html>',\n",
       " '<body><div>\\n        <ul class=\"u1\">\\n            <li class=\"l1\"><a href=\"a\">a</a></li>\\n            <li class=\"l2\"><a href=\"b\">v</a></li>\\n            <li class=\"l3\"><a href=\"c\">b</a></li>\\n            <li class=\"l4\"><a href=\"d\">c</a></li>\\n            <li class=\"l5\"><a href=\"e\">d</a></li>\\n            <li>e</li>\\n        </ul>\\n    </div></body>',\n",
       " '<div>\\n        <ul class=\"u1\">\\n            <li class=\"l1\"><a href=\"a\">a</a></li>\\n            <li class=\"l2\"><a href=\"b\">v</a></li>\\n            <li class=\"l3\"><a href=\"c\">b</a></li>\\n            <li class=\"l4\"><a href=\"d\">c</a></li>\\n            <li class=\"l5\"><a href=\"e\">d</a></li>\\n            <li>e</li>\\n        </ul>\\n    </div>',\n",
       " '<ul class=\"u1\">\\n            <li class=\"l1\"><a href=\"a\">a</a></li>\\n            <li class=\"l2\"><a href=\"b\">v</a></li>\\n            <li class=\"l3\"><a href=\"c\">b</a></li>\\n            <li class=\"l4\"><a href=\"d\">c</a></li>\\n            <li class=\"l5\"><a href=\"e\">d</a></li>\\n            <li>e</li>\\n        </ul>',\n",
       " '<li class=\"l1\"><a href=\"a\">a</a></li>',\n",
       " '<a href=\"a\">a</a>',\n",
       " '<li class=\"l2\"><a href=\"b\">v</a></li>',\n",
       " '<a href=\"b\">v</a>',\n",
       " '<li class=\"l3\"><a href=\"c\">b</a></li>',\n",
       " '<a href=\"c\">b</a>',\n",
       " '<li class=\"l4\"><a href=\"d\">c</a></li>',\n",
       " '<a href=\"d\">c</a>',\n",
       " '<li class=\"l5\"><a href=\"e\">d</a></li>',\n",
       " '<a href=\"e\">d</a>',\n",
       " '<li>e</li>']"
      ]
     },
     "execution_count": 19,
     "metadata": {},
     "output_type": "execute_result"
    }
   ],
   "source": [
    "response.xpath('//*').extract()"
   ]
  },
  {
   "cell_type": "code",
   "execution_count": 20,
   "metadata": {
    "scrolled": true
   },
   "outputs": [
    {
     "data": {
      "text/plain": [
       "['<a href=\"a\">a</a>',\n",
       " '<a href=\"b\">v</a>',\n",
       " '<a href=\"c\">b</a>',\n",
       " '<a href=\"d\">c</a>',\n",
       " '<a href=\"e\">d</a>']"
      ]
     },
     "execution_count": 20,
     "metadata": {},
     "output_type": "execute_result"
    }
   ],
   "source": [
    "response.xpath('/descendant::li/child::a').extract()"
   ]
  },
  {
   "cell_type": "code",
   "execution_count": 19,
   "metadata": {},
   "outputs": [
    {
     "data": {
      "text/plain": [
       "['u1']"
      ]
     },
     "execution_count": 19,
     "metadata": {},
     "output_type": "execute_result"
    }
   ],
   "source": [
    "response.xpath('//ul/attribute::*').extract()"
   ]
  },
  {
   "cell_type": "code",
   "execution_count": 20,
   "metadata": {},
   "outputs": [
    {
     "data": {
      "text/plain": [
       "'u1'"
      ]
     },
     "execution_count": 20,
     "metadata": {},
     "output_type": "execute_result"
    }
   ],
   "source": [
    "response.xpath('//ul').attrib['class']"
   ]
  },
  {
   "cell_type": "code",
   "execution_count": 33,
   "metadata": {},
   "outputs": [
    {
     "data": {
      "text/plain": [
       "['e']"
      ]
     },
     "execution_count": 33,
     "metadata": {},
     "output_type": "execute_result"
    }
   ],
   "source": [
    "response.xpath(\"//li[not(@class)]/text()\").extract()"
   ]
  },
  {
   "cell_type": "code",
   "execution_count": 32,
   "metadata": {},
   "outputs": [
    {
     "data": {
      "text/plain": [
       "'e'"
      ]
     },
     "execution_count": 32,
     "metadata": {},
     "output_type": "execute_result"
    }
   ],
   "source": [
    "response.xpath(\"//li[not(@class)]/text()\").extract_first()"
   ]
  },
  {
   "cell_type": "code",
   "execution_count": 47,
   "metadata": {},
   "outputs": [
    {
     "data": {
      "text/plain": [
       "['a', 'v', 'c', 'd']"
      ]
     },
     "execution_count": 47,
     "metadata": {},
     "output_type": "execute_result"
    }
   ],
   "source": [
    "response.xpath(\"//li[not(contains(@class, '3'))]/a/text()\").extract()"
   ]
  },
  {
   "cell_type": "code",
   "execution_count": 48,
   "metadata": {},
   "outputs": [
    {
     "data": {
      "text/plain": [
       "['<a href=\"a\">a</a>']"
      ]
     },
     "execution_count": 48,
     "metadata": {},
     "output_type": "execute_result"
    }
   ],
   "source": [
    "response.xpath(\"//li[not(contains(@class, '3')) and contains(@class, 'l1')]/a\").extract()"
   ]
  },
  {
   "cell_type": "code",
   "execution_count": null,
   "metadata": {},
   "outputs": [],
   "source": []
  }
 ],
 "metadata": {
  "kernelspec": {
   "display_name": "Python 3",
   "language": "python",
   "name": "python3"
  },
  "language_info": {
   "codemirror_mode": {
    "name": "ipython",
    "version": 3
   },
   "file_extension": ".py",
   "mimetype": "text/x-python",
   "name": "python",
   "nbconvert_exporter": "python",
   "pygments_lexer": "ipython3",
   "version": "3.7.6"
  }
 },
 "nbformat": 4,
 "nbformat_minor": 4
}
