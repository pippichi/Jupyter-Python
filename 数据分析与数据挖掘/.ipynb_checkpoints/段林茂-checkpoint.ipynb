{
 "cells": [
  {
   "cell_type": "markdown",
   "metadata": {},
   "source": [
    "### Class01"
   ]
  },
  {
   "cell_type": "code",
   "execution_count": 1,
   "metadata": {},
   "outputs": [],
   "source": [
    "import seaborn as sns\n",
    "import matplotlib.pyplot as plt\n",
    "from mpl_toolkits.mplot3d import Axes3D"
   ]
  },
  {
   "cell_type": "markdown",
   "metadata": {},
   "source": [
    "fig1 = plt.figure()\n",
    "ax = Axes3D(fig1)\n",
    "fig2 = plt.figure()\n",
    "ax = Axes3D(fig2)\n",
    "plt.show()"
   ]
  },
  {
   "cell_type": "code",
   "execution_count": 2,
   "metadata": {},
   "outputs": [],
   "source": [
    "from sklearn import datasets\n",
    "from sklearn.preprocessing import MinMaxScaler\n",
    "import numpy as np"
   ]
  },
  {
   "cell_type": "code",
   "execution_count": 3,
   "metadata": {},
   "outputs": [],
   "source": [
    "iris = datasets.load_iris()\n",
    "X = iris.data\n",
    "y = iris.target\n",
    "minmaxScaler = MinMaxScaler()\n",
    "X_scaler = minmaxScaler.fit(X).transform(X)"
   ]
  },
  {
   "cell_type": "code",
   "execution_count": 4,
   "metadata": {},
   "outputs": [
    {
     "data": {
      "image/png": "[encoded data removed]",
      "text/plain": [
       "<Figure size 432x288 with 1 Axes>"
      ]
     },
     "metadata": {
      "needs_background": "light"
     },
     "output_type": "display_data"
    }
   ],
   "source": [
    "plt.scatter(X_scaler[y==0,0],X_scaler[y==0,1],label='one')\n",
    "plt.scatter(X_scaler[y==1,0],X_scaler[y==1,1],label='two')\n",
    "plt.scatter(X_scaler[y==2,0],X_scaler[y==2,1],label='three')\n",
    "plt.legend()\n",
    "plt.show()"
   ]
  },
  {
   "cell_type": "code",
   "execution_count": 5,
   "metadata": {},
   "outputs": [],
   "source": [
    "import numpy as np\n",
    "import pandas as pd\n",
    "import seaborn as sns\n",
    "import matplotlib.pyplot as plt"
   ]
  },
  {
   "cell_type": "code",
   "execution_count": null,
   "metadata": {},
   "outputs": [],
   "source": [
    "data = pd.read_csv(\"C:\\\\Users\\\\HASEE\\\\Desktop\\\\PreDealdata\\\\Ch02\\\\datingTestSet3.txt\",delimiter='\\t')\n",
    "sns.set(style='ticks',color_codes=True)\n",
    "g2 = sns.pairplot(data,\n",
    "                 hue='lovedegree',size=3,palette='husl',diag_kind='kde',markers=['o','s','D'],plot_kws=dict(s=10,edgecolor='b',linewidth=1),\n",
    "                 diag_kws=None,grid_kws=None)"
   ]
  },
  {
   "cell_type": "code",
   "execution_count": null,
   "metadata": {},
   "outputs": [],
   "source": [
    "X.shape"
   ]
  },
  {
   "cell_type": "code",
   "execution_count": null,
   "metadata": {},
   "outputs": [],
   "source": [
    "y.shape"
   ]
  },
  {
   "cell_type": "markdown",
   "metadata": {},
   "source": [
    "### Class02"
   ]
  },
  {
   "cell_type": "code",
   "execution_count": null,
   "metadata": {},
   "outputs": [],
   "source": [
    "from sklearn.model_selection import KFold\n",
    "from sklearn.model_selection import train_test_split"
   ]
  },
  {
   "cell_type": "code",
   "execution_count": null,
   "metadata": {},
   "outputs": [],
   "source": [
    "from sklearn import datasets\n",
    "from sklearn.neighbors import KNeighborsClassifier"
   ]
  },
  {
   "cell_type": "code",
   "execution_count": null,
   "metadata": {},
   "outputs": [],
   "source": [
    "#读取数据\n",
    "iris = datasets.load_iris()\n",
    "X = iris.data\n",
    "y = iris.target"
   ]
  },
  {
   "cell_type": "code",
   "execution_count": null,
   "metadata": {},
   "outputs": [],
   "source": [
    "#使用KFold\n",
    "kf = KFold(n_splits=5,shuffle=False)\n",
    "for train_index,test_index in kf.split(X):\n",
    "    X_train = X[train_index]\n",
    "    X_test = X[test_index]\n",
    "    y_train = y[train_index]\n",
    "    y_test = y[test_index]\n",
    "\n",
    "knn = KNeighborsClassifier(n_neighbors=4)\n",
    "knn.fit(X_train,y_train)\n",
    "print(\"使用kfold的预测:\",knn.predict(X_test))\n",
    "print(\"使用kfold的准确率:%f\"%knn.score(X_test,y_test))"
   ]
  },
  {
   "cell_type": "code",
   "execution_count": null,
   "metadata": {},
   "outputs": [],
   "source": [
    "#使用train_test_split\n",
    "X_train,X_test,y_train,y_test = train_test_split(X,y,test_size=0.2,random_state=666)\n",
    "knn = KNeighborsClassifier(n_neighbors=4)\n",
    "knn.fit(X_train,y_train)\n",
    "print(\"使用train_test_split的预测:\",knn.predict(X_test))\n",
    "print(\"使用train_test_split的准确率:%f\"%knn.score(X_test,y_test))"
   ]
  },
  {
   "cell_type": "markdown",
   "metadata": {},
   "source": [
    "### Class03"
   ]
  },
  {
   "cell_type": "code",
   "execution_count": null,
   "metadata": {},
   "outputs": [],
   "source": []
  },
  {
   "cell_type": "markdown",
   "metadata": {},
   "source": [
    "### Class04"
   ]
  },
  {
   "cell_type": "markdown",
   "metadata": {},
   "source": [
    "信息增益--->信息增益比\n",
    "\"信息增益比\"=GainRatio(S,A)=I(Y,A)/H(A)"
   ]
  },
  {
   "cell_type": "code",
   "execution_count": null,
   "metadata": {},
   "outputs": [],
   "source": []
  },
  {
   "cell_type": "markdown",
   "metadata": {},
   "source": [
    "### Class05"
   ]
  },
  {
   "cell_type": "code",
   "execution_count": null,
   "metadata": {},
   "outputs": [],
   "source": [
    "from sklearn.neighbors import KNeighborsClassifier\n",
    "from sklearn.model_selection import train_test_split\n",
    "from sklearn import preprocessing\n",
    "import numpy as np"
   ]
  },
  {
   "cell_type": "code",
   "execution_count": null,
   "metadata": {},
   "outputs": [],
   "source": [
    "#导入数据\n",
    "a = np.loadtxt(\"E:\\\\学习\\\\Python\\\\datingTestSet2.txt\")\n",
    "datingDataMat = a[:,:3]\n",
    "datingLabels = a[:,-1]"
   ]
  },
  {
   "cell_type": "code",
   "execution_count": null,
   "metadata": {},
   "outputs": [],
   "source": [
    "#数据归一化处理\n",
    "X = preprocessing.scale(datingDataMat)\n",
    "\n",
    "X_train,X_test,y_train,y_test = train_test_split(X,datingLabels,test_size=0.3,random_state=42)"
   ]
  },
  {
   "cell_type": "markdown",
   "metadata": {},
   "source": [
    "以下为使用kNN的预测"
   ]
  },
  {
   "cell_type": "code",
   "execution_count": null,
   "metadata": {},
   "outputs": [],
   "source": [
    "#测试\n",
    "knn = KNeighborsClassifier(n_neighbors=20)\n",
    "knn.fit(X_train,y_train)\n",
    "y_predict = knn.predict(X_test)\n",
    "y_predict = y_predict.reshape(300,1)\n",
    "probility = knn.predict_proba(X_test)"
   ]
  },
  {
   "cell_type": "code",
   "execution_count": null,
   "metadata": {},
   "outputs": [],
   "source": [
    "#测试集预测分类结果展示\n",
    "y_exst = y_test.reshape(300,1)\n",
    "res = np.concatenate((y_exst,y_predict,probility),axis=1)#样本原来分类，样本预测分类，样本属于1的概率，样本属于2的概率，样本属于3的概率合并到一起"
   ]
  },
  {
   "cell_type": "code",
   "execution_count": null,
   "metadata": {
    "scrolled": true
   },
   "outputs": [],
   "source": [
    "np.set_printoptions(threshold=np.nan)\n",
    "print(res)"
   ]
  },
  {
   "cell_type": "code",
   "execution_count": null,
   "metadata": {},
   "outputs": [],
   "source": [
    "score = knn.score(X_test,y_test,sample_weight=None)\n",
    "print(\"kNN的预测准确度为: %f\"%score)"
   ]
  },
  {
   "cell_type": "markdown",
   "metadata": {},
   "source": [
    "########################################################"
   ]
  },
  {
   "cell_type": "markdown",
   "metadata": {},
   "source": [
    "以下为使用CART决策树预测"
   ]
  },
  {
   "cell_type": "code",
   "execution_count": null,
   "metadata": {},
   "outputs": [],
   "source": [
    "from sklearn import tree\n",
    "import pydotplus\n",
    "import sys\n",
    "import codecs\n",
    "from sklearn.model_selection import GridSearchCV\n",
    "from IPython.display import Image\n",
    "\n",
    "param_grid = [{\n",
    "    'criterion':['entropy','gini'],\n",
    "    'max_depth':[i for i in range(2,11)],\n",
    "    'min_samples_split':[i for i in range(2,11)],\n",
    "    'min_samples_leaf':[i for i in range(2,11)],\n",
    "    'max_leaf_nodes':[i for i in range(2,11)]\n",
    "}]\n",
    "\n",
    "clf = tree.DecisionTreeClassifier()\n",
    "grid_search = GridSearchCV(clf,param_grid,n_jobs=-1,verbose=2)\n",
    "grid_search.fit(X_train,y_train)"
   ]
  },
  {
   "cell_type": "code",
   "execution_count": null,
   "metadata": {},
   "outputs": [],
   "source": [
    "print(grid_search.best_score_)\n",
    "print(grid_search.best_params_)"
   ]
  },
  {
   "cell_type": "code",
   "execution_count": null,
   "metadata": {
    "scrolled": false
   },
   "outputs": [],
   "source": [
    "best_clf = grid_search.best_estimator_\n",
    "# best_clf.fit(X_train,y_train)\n",
    "best_score = best_clf.score(X_test,y_test)\n",
    "print(\"CART决策树的理论预测准确率为：%f,实际的预测准确率为: %f\"%(grid_search.best_score_,best_score))\n",
    "with codecs.open(\"Class05.dot\",'w') as f:\n",
    "    f = tree.export_graphviz(best_clf,out_file=f)\n",
    "dot_data = tree.export_graphviz(best_clf,out_file=None,\n",
    "                               feature_names=None,\n",
    "                               class_names=None,\n",
    "                               filled=True,rounded=True,\n",
    "                               special_characters=True)\n",
    "graph = pydotplus.graph_from_dot_data(dot_data)\n",
    "Image(graph.create_png())"
   ]
  },
  {
   "cell_type": "code",
   "execution_count": null,
   "metadata": {},
   "outputs": [],
   "source": [
    "#将决策树的图输出到外部\n",
    "graph.write_pdf('C:\\\\Users\\\\HASEE\\\\Desktop\\\\Class05.pdf')"
   ]
  },
  {
   "cell_type": "markdown",
   "metadata": {},
   "source": [
    "### 贝叶斯文本分类"
   ]
  },
  {
   "cell_type": "code",
   "execution_count": 1,
   "metadata": {},
   "outputs": [
    {
     "data": {
      "text/html": [
       "<div>\n",
       "<style scoped>\n",
       "    .dataframe tbody tr th:only-of-type {\n",
       "        vertical-align: middle;\n",
       "    }\n",
       "\n",
       "    .dataframe tbody tr th {\n",
       "        vertical-align: top;\n",
       "    }\n",
       "\n",
       "    .dataframe thead th {\n",
       "        text-align: right;\n",
       "    }\n",
       "</style>\n",
       "<table border=\"1\" class=\"dataframe\">\n",
       "  <thead>\n",
       "    <tr style=\"text-align: right;\">\n",
       "      <th></th>\n",
       "      <th>content</th>\n",
       "      <th>type</th>\n",
       "    </tr>\n",
       "  </thead>\n",
       "  <tbody>\n",
       "    <tr>\n",
       "      <th>0</th>\n",
       "      <td>天翼视讯观影送好礼！即日起至3月31日，用天翼视讯客户端观看任意视频，次日即可获取1次抽奖资...</td>\n",
       "      <td>0</td>\n",
       "    </tr>\n",
       "    <tr>\n",
       "      <th>1</th>\n",
       "      <td>【天翼流量管家】截至02月24日24时，您的国内手机上网流量总量500.00MB，已使用47...</td>\n",
       "      <td>0</td>\n",
       "    </tr>\n",
       "    <tr>\n",
       "      <th>2</th>\n",
       "      <td>【天翼流量管家】截至03月03日24时，您的国内手机上网流量总量526.85MB(上月结转2...</td>\n",
       "      <td>0</td>\n",
       "    </tr>\n",
       "    <tr>\n",
       "      <th>3</th>\n",
       "      <td>【天翼流量管家】截至03月07日24时，您的套餐流量已用52.00%，实际以每月出账为准。#...</td>\n",
       "      <td>0</td>\n",
       "    </tr>\n",
       "    <tr>\n",
       "      <th>4</th>\n",
       "      <td>【天翼流量管家】截至03月09日24时，您的套餐流量已用62.00%，实际以每月出账为准。#...</td>\n",
       "      <td>0</td>\n",
       "    </tr>\n",
       "  </tbody>\n",
       "</table>\n",
       "</div>"
      ],
      "text/plain": [
       "                                             content  type\n",
       "0  天翼视讯观影送好礼！即日起至3月31日，用天翼视讯客户端观看任意视频，次日即可获取1次抽奖资...     0\n",
       "1  【天翼流量管家】截至02月24日24时，您的国内手机上网流量总量500.00MB，已使用47...     0\n",
       "2  【天翼流量管家】截至03月03日24时，您的国内手机上网流量总量526.85MB(上月结转2...     0\n",
       "3  【天翼流量管家】截至03月07日24时，您的套餐流量已用52.00%，实际以每月出账为准。#...     0\n",
       "4  【天翼流量管家】截至03月09日24时，您的套餐流量已用62.00%，实际以每月出账为准。#...     0"
      ]
     },
     "execution_count": 1,
     "metadata": {},
     "output_type": "execute_result"
    }
   ],
   "source": [
    "#导入垃圾邮件\n",
    "import pandas as pd\n",
    "import numpy as np\n",
    "\n",
    "df = pd.read_csv(\"C:\\\\Users\\\\HASEE\\\\Desktop\\\\data.csv\",delimiter=\",\",header=None)\n",
    "df.columns = ['content','type']\n",
    "df.head()"
   ]
  },
  {
   "cell_type": "code",
   "execution_count": 2,
   "metadata": {},
   "outputs": [
    {
     "name": "stderr",
     "output_type": "stream",
     "text": [
      "Building prefix dict from the default dictionary ...\n",
      "Loading model from cache C:\\Users\\HASEE\\AppData\\Local\\Temp\\jieba.cache\n",
      "Loading model cost 0.865 seconds.\n",
      "Prefix dict has been built succesfully.\n"
     ]
    },
    {
     "data": {
      "text/plain": [
       "0    天翼 视讯 观影 送 好 礼 ！ 即日起 至 3 月 31 日 ， 用 天翼 视讯 客户端 ...\n",
       "1    【 天翼 流量 管家 】 截至 02 月 24 日 24 时 ， 您 的 国内 手机 上网 ...\n",
       "2    【 天翼 流量 管家 】 截至 03 月 03 日 24 时 ， 您 的 国内 手机 上网 ...\n",
       "3    【 天翼 流量 管家 】 截至 03 月 07 日 24 时 ， 您 的 套餐 流量 已用 ...\n",
       "4    【 天翼 流量 管家 】 截至 03 月 09 日 24 时 ， 您 的 套餐 流量 已用 ...\n",
       "Name: cut_comment, dtype: object"
      ]
     },
     "execution_count": 2,
     "metadata": {},
     "output_type": "execute_result"
    }
   ],
   "source": [
    "#导入分词库\n",
    "import jieba\n",
    "def chinese_word_cut(mytext):\n",
    "    return \" \".join(jieba.cut(mytext))\n",
    "X = pd.DataFrame(df['content'].astype(str))\n",
    "X['cut_comment'] = X['content'].apply(chinese_word_cut)\n",
    "Y = df['type']\n",
    "X['cut_comment'].head()"
   ]
  },
  {
   "cell_type": "code",
   "execution_count": 4,
   "metadata": {
    "scrolled": true
   },
   "outputs": [
    {
     "name": "stdout",
     "output_type": "stream",
     "text": [
      "['!', '\"', '#', '$', '%', '&', \"'\", '(', ')', '*', '+', ',', '-', '--', '.', '..', '...', '......', '...................', './', '.一', '.数', '.日', '/', '//', '0', '1', '2', '3', '4', '5', '6', '7', '8', '9', ':', '://', '::', ';', '<', '=', '>', '>>', '?', '@', 'A', 'Lex', '[', '\\\\', ']', '^', '_', '`', 'exp', 'sub', 'sup', '|', '}', '~', '~~~~', '·', '×', '×××', 'Δ', 'Ψ', 'γ', 'μ', 'φ', 'φ．', 'В', '—', '——', '———', '‘', '’', '’‘', '“', '”', '”，', '…', '……', '…………………………………………………③', '′∈', '′｜', '℃', 'Ⅲ', '↑', '→', '∈［', '∪φ∈', '≈', '①', '②', '②ｃ', '③', '③］', '④', '⑤', '⑥', '⑦', '⑧', '⑨', '⑩', '──', '■', '▲', '', '、', '。', '〈', '〉', '《', '》', '》），', '」', '『', '』', '【', '】', '〔', '〕', '〕〔', '㈧', '一', '一.', '一一', '一下', '一个', '一些', '一何', '一切', '一则', '一则通过', '一天', '一定', '一方面', '一旦', '一时', '一来', '一样', '一次', '一片', '一番', '一直', '一致', '一般', '一起', '一转眼', '一边', '一面', '七', '万一', '三', '三天两头', '三番两次', '三番五次', '上', '上下', '上升', '上去', '上来', '上述', '上面', '下', '下列', '下去', '下来', '下面', '不', '不一', '不下', '不久', '不了', '不亦乐乎', '不仅', '不仅...而且', '不仅仅', '不仅仅是', '不会', '不但', '不但...而且', '不光', '不免', '不再', '不力', '不单', '不变', '不只', '不可', '不可开交', '不可抗拒', '不同', '不外', '不外乎', '不够', '不大', '不如', '不妨', '不定', '不对', '不少', '不尽', '不尽然', '不巧', '不已', '不常', '不得', '不得不', '不得了', '不得已', '不必', '不怎么', '不怕', '不惟', '不成', '不拘', '不择手段', '不敢', '不料', '不断', '不日', '不时', '不是', '不曾', '不止', '不止一次', '不比', '不消', '不满', '不然', '不然的话', '不特', '不独', '不由得', '不知不觉', '不管', '不管怎样', '不经意', '不胜', '不能', '不能不', '不至于', '不若', '不要', '不论', '不起', '不足', '不过', '不迭', '不问', '不限', '与', '与其', '与其说', '与否', '与此同时', '专门', '且', '且不说', '且说', '两者', '严格', '严重', '个', '个人', '个别', '中小', '中间', '丰富', '串行', '临', '临到', '为', '为主', '为了', '为什么', '为什麽', '为何', '为止', '为此', '为着', '主张', '主要', '举凡', '举行', '乃', '乃至', '乃至于', '么', '之', '之一', '之前', '之后', '之後', '之所以', '之类', '乌乎', '乎', '乒', '乘', '乘势', '乘机', '乘胜', '乘虚', '乘隙', '九', '也', '也好', '也就是说', '也是', '也罢', '了', '了解', '争取', '二', '二来', '二话不说', '二话没说', '于', '于是', '于是乎', '云云', '云尔', '互', '互相', '五', '些', '交口', '亦', '产生', '亲口', '亲手', '亲眼', '亲自', '亲身', '人', '人人', '人们', '人家', '人民', '什么', '什么样', '什麽', '仅', '仅仅', '今', '今后', '今天', '今年', '今後', '介于', '仍', '仍旧', '仍然', '从', '从不', '从严', '从中', '从事', '从今以后', '从优', '从古到今', '从古至今', '从头', '从宽', '从小', '从新', '从无到有', '从早到晚', '从未', '从来', '从此', '从此以后', '从而', '从轻', '从速', '从重', '他', '他人', '他们', '他是', '他的', '代替', '以', '以上', '以下', '以为', '以便', '以免', '以前', '以及', '以后', '以外', '以後', '以故', '以期', '以来', '以至', '以至于', '以致', '们', '任', '任何', '任凭', '任务', '企图', '伙同', '会', '伟大', '传', '传说', '传闻', '似乎', '似的', '但', '但凡', '但愿', '但是', '何', '何乐而不为', '何以', '何况', '何处', '何妨', '何尝', '何必', '何时', '何止', '何苦', '何须', '余外', '作为', '你', '你们', '你是', '你的', '使', '使得', '使用', '例如', '依', '依据', '依照', '依靠', '便', '便于', '促进', '保持', '保管', '保险', '俺', '俺们', '倍加', '倍感', '倒不如', '倒不如说', '倒是', '倘', '倘使', '倘或', '倘然', '倘若', '借', '借以', '借此', '假使', '假如', '假若', '偏偏', '做到', '偶尔', '偶而', '傥然', '像', '儿', '允许', '元／吨', '充其极', '充其量', '充分', '先不先', '先后', '先後', '先生', '光', '光是', '全体', '全力', '全年', '全然', '全身心', '全部', '全都', '全面', '八', '八成', '公然', '六', '兮', '共', '共同', '共总', '关于', '其', '其一', '其中', '其二', '其他', '其余', '其后', '其它', '其实', '其次', '具体', '具体地说', '具体来说', '具体说来', '具有', '兼之', '内', '再', '再其次', '再则', '再有', '再次', '再者', '再者说', '再说', '冒', '冲', '决不', '决定', '决非', '况且', '准备', '凑巧', '凝神', '几', '几乎', '几度', '几时', '几番', '几经', '凡', '凡是', '凭', '凭借', '出', '出于', '出去', '出来', '出现', '分别', '分头', '分期', '分期分批', '切', '切不可', '切切', '切勿', '切莫', '则', '则甚', '刚', '刚好', '刚巧', '刚才', '初', '别', '别人', '别处', '别是', '别的', '别管', '别说', '到', '到了儿', '到处', '到头', '到头来', '到底', '到目前为止', '前后', '前此', '前者', '前进', '前面', '加上', '加之', '加以', '加入', '加强', '动不动', '动辄', '勃然', '匆匆', '十分', '千', '千万', '千万千万', '半', '单', '单单', '单纯', '即', '即令', '即使', '即便', '即刻', '即如', '即将', '即或', '即是说', '即若', '却', '却不', '历', '原来', '去', '又', '又及', '及', '及其', '及时', '及至', '双方', '反之', '反之亦然', '反之则', '反倒', '反倒是', '反应', '反手', '反映', '反而', '反过来', '反过来说', '取得', '取道', '受到', '变成', '古来', '另', '另一个', '另一方面', '另外', '另悉', '另方面', '另行', '只', '只当', '只怕', '只是', '只有', '只消', '只要', '只限', '叫', '叫做', '召开', '叮咚', '叮当', '可', '可以', '可好', '可是', '可能', '可见', '各', '各个', '各人', '各位', '各地', '各式', '各种', '各级', '各自', '合理', '同', '同一', '同时', '同样', '后', '后来', '后者', '后面', '向', '向使', '向着', '吓', '吗', '否则', '吧', '吧哒', '吱', '呀', '呃', '呆呆地', '呐', '呕', '呗', '呜', '呜呼', '呢', '周围', '呵', '呵呵', '呸', '呼哧', '呼啦', '咋', '和', '咚', '咦', '咧', '咱', '咱们', '咳', '哇', '哈', '哈哈', '哉', '哎', '哎呀', '哎哟', '哗', '哗啦', '哟', '哦', '哩', '哪', '哪个', '哪些', '哪儿', '哪天', '哪年', '哪怕', '哪样', '哪边', '哪里', '哼', '哼唷', '唉', '唯有', '啊', '啊呀', '啊哈', '啊哟', '啐', '啥', '啦', '啪达', '啷当', '喀', '喂', '喏', '喔唷', '喽', '嗡', '嗡嗡', '嗬', '嗯', '嗳', '嘎', '嘎嘎', '嘎登', '嘘', '嘛', '嘻', '嘿', '嘿嘿', '四', '因', '因为', '因了', '因此', '因着', '因而', '固', '固然', '在', '在下', '在于', '地', '均', '坚决', '坚持', '基于', '基本', '基本上', '处在', '处处', '处理', '复杂', '多', '多么', '多亏', '多多', '多多少少', '多多益善', '多少', '多年前', '多年来', '多数', '多次', '够瞧的', '大', '大不了', '大举', '大事', '大体', '大体上', '大凡', '大力', '大多', '大多数', '大大', '大家', '大张旗鼓', '大批', '大抵', '大概', '大略', '大约', '大致', '大都', '大量', '大面儿上', '失去', '奇', '奈', '奋勇', '她', '她们', '她是', '她的', '好', '好在', '好的', '好象', '如', '如上', '如上所述', '如下', '如今', '如何', '如其', '如前所述', '如同', '如常', '如是', '如期', '如果', '如次', '如此', '如此等等', '如若', '始而', '姑且', '存在', '存心', '孰料', '孰知', '宁', '宁可', '宁愿', '宁肯', '它', '它们', '它们的', '它是', '它的', '安全', '完全', '完成', '定', '实现', '实际', '宣布', '容易', '密切', '对', '对于', '对应', '对待', '对方', '对比', '将', '将才', '将要', '将近', '小', '少数', '尔', '尔后', '尔尔', '尔等', '尚且', '尤其', '就', '就地', '就是', '就是了', '就是说', '就此', '就算', '就要', '尽', '尽可能', '尽如人意', '尽心尽力', '尽心竭力', '尽快', '尽早', '尽然', '尽管', '尽管如此', '尽量', '局外', '居然', '届时', '属于', '屡', '屡屡', '屡次', '屡次三番', '岂', '岂但', '岂止', '岂非', '川流不息', '左右', '巨大', '巩固', '差一点', '差不多', '己', '已', '已矣', '已经', '巴', '巴巴', '带', '帮助', '常', '常常', '常言说', '常言说得好', '常言道', '平素', '年复一年', '并', '并不', '并不是', '并且', '并排', '并无', '并没', '并没有', '并肩', '并非', '广大', '广泛', '应当', '应用', '应该', '庶乎', '庶几', '开外', '开始', '开展', '引起', '弗', '弹指之间', '强烈', '强调', '归', '归根到底', '归根结底', '归齐', '当', '当下', '当中', '当儿', '当前', '当即', '当口儿', '当地', '当场', '当头', '当庭', '当时', '当然', '当真', '当着', '形成', '彻夜', '彻底', '彼', '彼时', '彼此', '往', '往往', '待', '待到', '很', '很多', '很少', '後来', '後面', '得', '得了', '得出', '得到', '得天独厚', '得起', '心里', '必', '必定', '必将', '必然', '必要', '必须', '快', '快要', '忽地', '忽然', '怎', '怎么', '怎么办', '怎么样', '怎奈', '怎样', '怎麽', '怕', '急匆匆', '怪', '怪不得', '总之', '总是', '总的来看', '总的来说', '总的说来', '总结', '总而言之', '恍然', '恐怕', '恰似', '恰好', '恰如', '恰巧', '恰恰', '恰恰相反', '恰逢', '您', '您们', '您是', '惟其', '惯常', '意思', '愤然', '愿意', '慢说', '成为', '成年', '成年累月', '成心', '我', '我们', '我是', '我的', '或', '或则', '或多或少', '或是', '或曰', '或者', '或许', '战斗', '截然', '截至', '所', '所以', '所在', '所幸', '所有', '所谓', '才', '才能', '扑通', '打', '打从', '打开天窗说亮话', '扩大', '把', '抑或', '抽冷子', '拦腰', '拿', '按', '按时', '按期', '按照', '按理', '按说', '挨个', '挨家挨户', '挨次', '挨着', '挨门挨户', '挨门逐户', '换句话说', '换言之', '据', '据实', '据悉', '据我所知', '据此', '据称', '据说', '掌握', '接下来', '接着', '接著', '接连不断', '放量', '故', '故意', '故此', '故而', '敞开儿', '敢', '敢于', '敢情', '数/', '整个', '断然', '方', '方便', '方才', '方能', '方面', '旁人', '无', '无宁', '无法', '无论', '既', '既...又', '既往', '既是', '既然', '日复一日', '日渐', '日益', '日臻', '日见', '时候', '昂然', '明显', '明确', '是', '是不是', '是以', '是否', '是的', '显然', '显著', '普通', '普遍', '暗中', '暗地里', '暗自', '更', '更为', '更加', '更进一步', '曾', '曾经', '替', '替代', '最', '最后', '最大', '最好', '最後', '最近', '最高', '有', '有些', '有关', '有利', '有力', '有及', '有所', '有效', '有时', '有点', '有的', '有的是', '有着', '有著', '望', '朝', '朝着', '末##末', '本', '本人', '本地', '本着', '本身', '权时', '来', '来不及', '来得及', '来看', '来着', '来自', '来讲', '来说', '极', '极为', '极了', '极其', '极力', '极大', '极度', '极端', '构成', '果然', '果真', '某', '某个', '某些', '某某', '根据', '根本', '格外', '梆', '概', '次第', '欢迎', '欤', '正值', '正在', '正如', '正巧', '正常', '正是', '此', '此中', '此后', '此地', '此处', '此外', '此时', '此次', '此间', '殆', '毋宁', '每', '每个', '每天', '每年', '每当', '每时每刻', '每每', '每逢', '比', '比及', '比如', '比如说', '比方', '比照', '比起', '比较', '毕竟', '毫不', '毫无', '毫无例外', '毫无保留地', '汝', '沙沙', '没', '没奈何', '没有', '沿', '沿着', '注意', '活', '深入', '清楚', '满', '满足', '漫说', '焉', '然', '然则', '然后', '然後', '然而', '照', '照着', '牢牢', '特别是', '特殊', '特点', '犹且', '犹自', '独', '独自', '猛然', '猛然间', '率尔', '率然', '现代', '现在', '理应', '理当', '理该', '瑟瑟', '甚且', '甚么', '甚或', '甚而', '甚至', '甚至于', '用', '用来', '甫', '甭', '由', '由于', '由是', '由此', '由此可见', '略', '略为', '略加', '略微', '白', '白白', '的', '的确', '的话', '皆可', '目前', '直到', '直接', '相似', '相信', '相反', '相同', '相对', '相对而言', '相应', '相当', '相等', '省得', '看', '看上去', '看出', '看到', '看来', '看样子', '看看', '看见', '看起来', '真是', '真正', '眨眼', '着', '着呢', '矣', '矣乎', '矣哉', '知道', '砰', '确定', '碰巧', '社会主义', '离', '种', '积极', '移动', '究竟', '穷年累月', '突出', '突然', '窃', '立', '立刻', '立即', '立地', '立时', '立马', '竟', '竟然', '竟而', '第', '第二', '等', '等到', '等等', '策略地', '简直', '简而言之', '简言之', '管', '类如', '粗', '精光', '紧接着', '累年', '累次', '纯', '纯粹', '纵', '纵令', '纵使', '纵然', '练习', '组成', '经', '经常', '经过', '结合', '结果', '给', '绝', '绝不', '绝对', '绝非', '绝顶', '继之', '继后', '继续', '继而', '维持', '综上所述', '缕缕', '罢了', '老', '老大', '老是', '老老实实', '考虑', '者', '而', '而且', '而况', '而又', '而后', '而外', '而已', '而是', '而言', '而论', '联系', '联袂', '背地里', '背靠背', '能', '能否', '能够', '腾', '自', '自个儿', '自从', '自各儿', '自后', '自家', '自己', '自打', '自身', '臭', '至', '至于', '至今', '至若', '致', '般的', '良好', '若', '若夫', '若是', '若果', '若非', '范围', '莫', '莫不', '莫不然', '莫如', '莫若', '莫非', '获得', '藉以', '虽', '虽则', '虽然', '虽说', '蛮', '行为', '行动', '表明', '表示', '被', '要', '要不', '要不是', '要不然', '要么', '要是', '要求', '见', '规定', '觉得', '譬喻', '譬如', '认为', '认真', '认识', '让', '许多', '论', '论说', '设使', '设或', '设若', '诚如', '诚然', '话说', '该', '该当', '说明', '说来', '说说', '请勿', '诸', '诸位', '诸如', '谁', '谁人', '谁料', '谁知', '谨', '豁然', '贼死', '赖以', '赶', '赶快', '赶早不赶晚', '起', '起先', '起初', '起头', '起来', '起见', '起首', '趁', '趁便', '趁势', '趁早', '趁机', '趁热', '趁着', '越是', '距', '跟', '路经', '转动', '转变', '转贴', '轰然', '较', '较为', '较之', '较比', '边', '达到', '达旦', '迄', '迅速', '过', '过于', '过去', '过来', '运用', '近', '近几年来', '近年来', '近来', '还', '还是', '还有', '还要', '这', '这一来', '这个', '这么', '这么些', '这么样', '这么点儿', '这些', '这会儿', '这儿', '这就是说', '这时', '这样', '这次', '这点', '这种', '这般', '这边', '这里', '这麽', '进入', '进去', '进来', '进步', '进而', '进行', '连', '连同', '连声', '连日', '连日来', '连袂', '连连', '迟早', '迫于', '适应', '适当', '适用', '逐步', '逐渐', '通常', '通过', '造成', '逢', '遇到', '遭到', '遵循', '遵照', '避免', '那', '那个', '那么', '那么些', '那么样', '那些', '那会儿', '那儿', '那时', '那末', '那样', '那般', '那边', '那里', '那麽', '部分', '都', '鄙人', '采取', '里面', '重大', '重新', '重要', '鉴于', '针对', '长期以来', '长此下去', '长线', '长话短说', '问题', '间或', '防止', '阿', '附近', '陈年', '限制', '陡然', '除', '除了', '除却', '除去', '除外', '除开', '除此', '除此之外', '除此以外', '除此而外', '除非', '随', '随后', '随时', '随着', '随著', '隔夜', '隔日', '难得', '难怪', '难说', '难道', '难道说', '集中', '零', '需要', '非但', '非常', '非徒', '非得', '非特', '非独', '靠', '顶多', '顷', '顷刻', '顷刻之间', '顷刻间', '顺', '顺着', '顿时', '颇', '风雨无阻', '饱', '首先', '马上', '高低', '高兴', '默然', '默默地', '齐', '︿', '！', '＃', '＄', '％', '＆', '＇', '（', '）', '）÷（１－', '）、', '＊', '＋', '＋ξ', '＋＋', '，', '，也', '－', '－β', '－－', '－［＊］－', '．', '／', '０', '０：２', '１', '１．', '１２％', '２', '２．３％', '３', '４', '５', '５：０', '６', '７', '８', '９', '：', '；', '＜', '＜±', '＜Δ', '＜λ', '＜φ', '＜＜', '＝', '＝″', '＝☆', '＝（', '＝－', '＝［', '＝｛', '＞', '＞λ', '？', '＠', 'Ａ', 'ＬＩ', 'Ｒ．Ｌ．', 'ＺＸＦＩＴＬ', '［', '［①①］', '［①②］', '［①③］', '［①④］', '［①⑤］', '［①⑥］', '［①⑦］', '［①⑧］', '［①⑨］', '［①Ａ］', '［①Ｂ］', '［①Ｃ］', '［①Ｄ］', '［①Ｅ］', '［①］', '［①ａ］', '［①ｃ］', '［①ｄ］', '［①ｅ］', '［①ｆ］', '［①ｇ］', '［①ｈ］', '［①ｉ］', '［①ｏ］', '［②', '［②①］', '［②②］', '［②③］', '［②④', '［②⑤］', '［②⑥］', '［②⑦］', '［②⑧］', '［②⑩］', '［②Ｂ］', '［②Ｇ］', '［②］', '［②ａ］', '［②ｂ］', '［②ｃ］', '［②ｄ］', '［②ｅ］', '［②ｆ］', '［②ｇ］', '［②ｈ］', '［②ｉ］', '［②ｊ］', '［③①］', '［③⑩］', '［③Ｆ］', '［③］', '［③ａ］', '［③ｂ］', '［③ｃ］', '［③ｄ］', '［③ｅ］', '［③ｇ］', '［③ｈ］', '［④］', '［④ａ］', '［④ｂ］', '［④ｃ］', '［④ｄ］', '［④ｅ］', '［⑤］', '［⑤］］', '［⑤ａ］', '［⑤ｂ］', '［⑤ｄ］', '［⑤ｅ］', '［⑤ｆ］', '［⑥］', '［⑦］', '［⑧］', '［⑨］', '［⑩］', '［＊］', '［－', '［］', '］', '］∧′＝［', '］［', '＿', 'ａ］', 'ｂ］', 'ｃ］', 'ｅ］', 'ｆ］', 'ｎｇ昉', '｛', '｛－', '｜', '｝', '｝＞', '～', '～±', '～＋', '￥']\n"
     ]
    }
   ],
   "source": [
    "#停用词\n",
    "import codecs\n",
    "def get_custom_stopwords(stop_words_file):\n",
    "    with codecs.open(stop_words_file,encoding=\"utf-8\") as f:\n",
    "        custom_stopwords_list = [i.strip() for i in f.readlines()]\n",
    "    return custom_stopwords_list\n",
    "stop_words_file = \"C:\\\\Users\\\\HASEE\\\\Desktop\\\\停用词表.txt\"\n",
    "stop_words = get_custom_stopwords(stop_words_file)\n",
    "print(stop_words)"
   ]
  },
  {
   "cell_type": "code",
   "execution_count": 5,
   "metadata": {},
   "outputs": [
    {
     "data": {
      "text/plain": [
       "(1231, 2)"
      ]
     },
     "execution_count": 5,
     "metadata": {},
     "output_type": "execute_result"
    }
   ],
   "source": [
    "df = df.drop_duplicates()\n",
    "df.shape"
   ]
  },
  {
   "cell_type": "code",
   "execution_count": 6,
   "metadata": {
    "scrolled": true
   },
   "outputs": [
    {
     "name": "stdout",
     "output_type": "stream",
     "text": [
      "1521    《 天谕 》 新 资料片 梦回 苏澜 火爆 上线 ， 新服 预约 现已 开启 ！ 苏澜城 重...\n",
      "270     【 多点 】 免邮 福利 到 ！ 爆款 翅 根 5.9 / 斤 ， 光明 纯牛奶 37.9 ...\n",
      "353                                              解除 安全 模式\n",
      "354                                              解除 安全 模式\n",
      "1041    尊敬 的 闪讯 用户 ， 您 的 宽带 上网 密码 是 ： 246599 ， 密码 在 20...\n",
      "240     【 点易 达 】 货号 21411 珍惜 他人 劳动成果 ， 快递 当天 取 走 。 你 的...\n",
      "352                                              解除 安全 模式\n",
      "844     尊敬 的 客户 您好 ： 2017 年 08 月 01 日 您 本月 的 赠送 费用 20....\n",
      "416     【 饿 了 么 】 嗷 小 主人 您 好久没 来米 事 粥 铺 了 ， 小 的 都 没 动力...\n",
      "1545    您 的 验证码 为 8149 ， 请 在 30 分钟 内 完成 登录 ， 否则 验证码 将 ...\n",
      "1113    亲爱 的 各位 组员 ：               本 周四 （ 明天 ） 骨培班 的 策...\n",
      "351                                              解除 安全 模式\n",
      "65      【 天翼 流量 管家 】 截至 12 月 04 日 24 时 ， 您 的 套餐 流量 已用 ...\n",
      "1018                 尊敬 的 闪讯 用户 ， 您 的 宽带 上网 密码 是 ： 469171\n",
      "30      【 ofo 】 缘分 星期三 活动 震撼 开启 ！ 明天 4.19 全天 ， 骑车 完成 缘...\n",
      "1263    注意 ⚠ ️   骨培班 教师 改 到 翔宇 202 啦 ！ ！ ！ 今天 尽量 早点 到 ...\n",
      "847     尊敬 的 客户 ， 截至 09 月 01 日 24 时 ， 您 的 国内 手机 上网 流量 ...\n",
      "1502    【 德克士 】 5 折 美味 外 送来 ！ 德克士 携手 百度 、 美团 、 饿 了 么 外...\n",
      "175     【 大麦 网 】 验证码 ： 971318 ， 序号 ： 1 ， 切勿 泄漏 ！ 您 正 通...\n",
      "168     【 杭州 市民 卡 】 9 月 25 日 - 29 日 每天 10 点 发售 ， 惠民 金服...\n",
      "983     尊敬 的 闪讯 用户 ， 您 的 宽带 上网 密码 是 ： 479191 ， 密码 在 20...\n",
      "949     尊敬 的 闪讯 用户 ， 您 的 宽带 上网 密码 是 ： 388668 ， 密码 在 20...\n",
      "532     【 速递 易 】 凭 密码 KQ7683 到 丰东 花苑 12 栋 架空层 北侧 A70 包...\n",
      "1320                               明晚 临时 加 的 事情 … … 我 的 天\n",
      "522     短信 验证码 ： 4528 ， 请 在 3 分钟 内 完成 提交 。 切勿 向 任何人 提供...\n",
      "855     尊敬 的 客户 ： 截至 本月 30 日 21 时 50 分 ， 您 的 省内 手机 上网 ...\n",
      "438     恭喜 您 获得 去 哪儿 旅行 礼包 ， 新 用户 订 酒店 最多减 60 元 。 点击 领...\n",
      "239     【 校园 工作 】 许愿 集赞 赢 好 礼 ， 天天 奖品 送 不停 ！ 大学生 愿望 季 ...\n",
      "764     尊敬 的 客户 您好 ： 2016 年 10 月 01 日 您 本月 的 赠送 费用 20....\n",
      "59      【 天翼 流量 管家 】 截至 11 月 11 日 24 时 ， 您 的 国内 手机 上网 ...\n",
      "                              ...                        \n",
      "808     尊敬 的 客户 ， 截至 05 月 05 日 24 时 ， 您 的 国内 手机 上网 流量 ...\n",
      "1441    【 杭州 车牌 助手 】 您 的 验证码 是 194018 。 如非 本人 操作 ， 请 忽...\n",
      "254     【 校园 工作 】 你 领取 新年礼物 的 资格 还有 4 小时 过期 ， 戳 我 立即 查...\n",
      "322     买 一份 流量 ， 享 双倍 惊喜 。 国庆 中秋 双节 至 ， 带上 流量 出发 啰 ！ ...\n",
      "1547    【 ofo 】 ofo 小 黄车 “ 1 元 包月 ， 全民 1 块 骑 ” 强势 来袭 ！...\n",
      "453     【 菜鸟 驿站 】 请 在 18 : 00 前 凭 提货 码 （ 2 - 9 - 2004 ...\n",
      "596     【 杭州 万学 】 海文 考研 大三 国庆 体验 营 火热 报名 中 ， 6 天 市区 准三...\n",
      "1174                                                好 的 😄\n",
      "986     尊敬 的 闪讯 用户 ， 您 的 宽带 上网 密码 是 ： 617149 ， 密码 在 20...\n",
      "900     尊敬 的 客户 您好 ： 2018 年 04 月 01 日 您 本月 的 赠送 费用 20....\n",
      "374     【 翼 支付 】 亲 ， 您 的 翼 支付 账户 于 2016 年 09 月 23 日 充值...\n",
      "486     【 饿 了 么 】 15 元 果蔬 商超 红包 已到 账 ， 517 狂欢 大牌 水果 49...\n",
      "86      【 天翼 流量 管家 】 截至 01 月 27 日 24 时 ， 您 的 国内 手机 上网 ...\n",
      "1469    【 天翼 流量 管家 】 截至 12 月 11 日 24 时 ， 您 的 套餐 流量 已用 ...\n",
      "365     【 达 达 平台 】 您 的 饿 了 么 订单 正由达 达 骑士 张 海军 （ 182581...\n",
      "265     天台 农商 银行 提醒 ： 您 尾号 为 0805 的 理财 功能 户 已 成功 开立 ， ...\n",
      "287     【 网易 】 网易 高 自由度 武侠 手游 《 楚留香 》 今日 iOS 上线 ， 点击 调...\n",
      "1535    验证码 ： 576097 ， 网易 用户 ， 您 正在 使用 手机 帐号 登入 服务 [ 验...\n",
      "358                                              解除 安全 模式\n",
      "464     【 信用卡 中心 】 您 的 记录 良好 ， 点击   http : / / t . cn ...\n",
      "1168    亲们 ～   周四 骨培班 有 十佳 社长 经验谈 ， 需要 收集 几个 问题 （ 就是 问...\n",
      "1034    尊敬 的 闪讯 用户 ， 您 的 宽带 上网 密码 是 ： 213330 ， 密码 在 20...\n",
      "1543    亲 ， 您 的 网购 记录 良好 ， 现邀 你 来 网店 工作 ， 工作 1 - 2 小时 ...\n",
      "782     尊敬 的 用户 ， 天翼 视讯 15G 定向 流量 延期 啦 ， 即日起 到 2017 年 ...\n",
      "221     【 校园 工作 】 大学生 最 喜欢 的 青春 演艺 明星 评选 中 ！ 为 偶像 打 ca...\n",
      "113     【 ofo 】 周末 免费 骑 正在 进行 中 ！ 身边 还有 没用过 小 黄车 的 朋友 ...\n",
      "611     欢迎 使用 网易 邮箱 服务 ， 您 的 验证码 是 123936 。 网易 自营 生活 电...\n",
      "1319                                                   但是\n",
      "174     【 大麦 网 】 869038 （ 大麦 网 手机 注册 验证码 ， 请 完成 验证 ） 如...\n",
      "1326                    同学 你好 ， 请问 你 已经 报名 参加 了 这次 活动 了 吗\n",
      "Name: cut_comment, Length: 388, dtype: object\n"
     ]
    }
   ],
   "source": [
    "from sklearn.model_selection import train_test_split\n",
    "X_train,X_test,y_train,y_test= train_test_split(X['cut_comment'],Y,random_state=42,test_size=0.25)\n",
    "print(X_test)"
   ]
  },
  {
   "cell_type": "code",
   "execution_count": 7,
   "metadata": {
    "scrolled": true
   },
   "outputs": [
    {
     "name": "stdout",
     "output_type": "stream",
     "text": [
      "1519    【 流量 掌厅 】 为 保证 您 本月 流量 充足 ， 回 1 开通 每天 1 元 每月 5...\n",
      "844     尊敬 的 客户 您好 ： 2017 年 08 月 01 日 您 本月 的 赠送 费用 20....\n",
      "168     【 杭州 市民 卡 】 9 月 25 日 - 29 日 每天 10 点 发售 ， 惠民 金服...\n",
      "63      【 天翼 流量 管家 】 截至 12 月 01 日 24 时 ， 您 的 套餐 流量 已用 ...\n",
      "900     尊敬 的 客户 您好 ： 2018 年 04 月 01 日 您 本月 的 赠送 费用 20....\n",
      "811     尊敬 的 客户 ： 截至 本月 27 日 13 时 24 分 ， 您 的 校园 基站 本地 ...\n",
      "1370    各位 小朋友 你们好 ， 我 是 钱 依峰 ， 明天 中午 12 点 ， 在 翔宇 301 ...\n",
      "858     尊敬 的 客户 ： 截至 本月 2 日 21 时 45 分 ， 您 的 国内 手机 上网 流...\n",
      "1132    亲们 ～ 明天 骨培 晚上 8 : 30   地点 翔宇 206   到 了 来 我 这边 ...\n",
      "287     【 网易 】 网易 高 自由度 武侠 手游 《 楚留香 》 今日 iOS 上线 ， 点击 调...\n",
      "628     【 铁路 客服 】 订单 E720252003 ， 李 锦涛 您 已购 10 月 6 日 G...\n",
      "1144    亲们 ～   今天 中午 下课 就 去 食堂 进门 最 左边 开会 （ 先买 饭 ， 再 过...\n",
      "1100                                收到 ， 明天 见 ， 晚安 😴 ， 88\n",
      "596     【 杭州 万学 】 海文 考研 大三 国庆 体验 营 火热 报名 中 ， 6 天 市区 准三...\n",
      "631     【 美团 点评 】 假期 开怀 吃 ， 美食 神券 10 - 5 元 ， 助力 家人 聚餐 ...\n",
      "1213    注意 ⚠ ️   骨培班 教师 改 到 翔宇 202 啦 ！ ！ ！ 今天 尽量 早点 到 ...\n",
      "101     【 网易 】 《 天谕 》 周边 礼盒 2017 年 《 云垂 锦盒 》 最后 一批 预售 ...\n",
      "718     【 飞火 动态 壁纸 】 863299 ， 您 正在 进行 手机 验证 ， 5 分钟 内 有...\n",
      "1502    【 德克士 】 5 折 美味 外 送来 ！ 德克士 携手 百度 、 美团 、 饿 了 么 外...\n",
      "1415    【 杭州市 交通 警察局 】 您 本次 操作 【 ( 取消 预约 ) 】 的 短信 验证码 ...\n",
      "522     短信 验证码 ： 4528 ， 请 在 3 分钟 内 完成 提交 。 切勿 向 任何人 提供...\n",
      "1034    尊敬 的 闪讯 用户 ， 您 的 宽带 上网 密码 是 ： 213330 ， 密码 在 20...\n",
      "310     【 达 达 平台 】 欧 巴拉 面 使用 达 达 发给您 的 物品 已经 开始 配送 ， 请...\n",
      "535     【 阿里 游戏 】 验证码 6565 ， 用于 注册 。 泄露 有 风险 ， 如非 本人 操...\n",
      "306           【 百度 】 395702   ( 动态 验证码 ) ， 请 在 10 分钟 内 填写\n",
      "265     天台 农商 银行 提醒 ： 您 尾号 为 0805 的 理财 功能 户 已 成功 开立 ， ...\n",
      "917     尊敬 的 客户 ： 您 已 退出 “ 下沙 高教 园区 ” 虚拟 网 ， 感谢您 使用 虚拟...\n",
      "1449    【 15G 流量 助 你 看 大片 】 看 《 使徒 行者 》 谁 是 卧底 烧脑 PK ，...\n",
      "849     尊敬 的 客户 ， 截至 09 月 15 日 24 时 ， 您 的 国内 手机 上网 流量 ...\n",
      "113     【 ofo 】 周末 免费 骑 正在 进行 中 ！ 身边 还有 没用过 小 黄车 的 朋友 ...\n",
      "                              ...                        \n",
      "1149                               好 的 ， 下次 别 这个 时候 发短信 啦\n",
      "1245        几点 到 翔宇 啊 ！ 早点 来 吧 ！ 天使 给 你们 送 完 奶茶 还要 去 例会 😂\n",
      "1327                                               还 没有 呢\n",
      "949     尊敬 的 闪讯 用户 ， 您 的 宽带 上网 密码 是 ： 388668 ， 密码 在 20...\n",
      "1108    亲们 ～ 明天 骨培 晚上 8 : 30   地点 翔宇 305   到 了 来 签到 呦 ...\n",
      "1276                                                   收到\n",
      "1259    亲们 ～   周四 骨培班 有 十佳 社长 经验谈 ， 需要 收集 几个 问题 （ 就是 问...\n",
      "909     尊敬 的 客户 您好 ： 2018 年 05 月 01 日 您 本月 的 赠送 费用 20....\n",
      "277     【 我 的 通信 】 尊敬 的 电信 用户 ， 为 保证 您 本月 流量 充足 ， 回复 1...\n",
      "845     尊敬 的 客户 ， 截至 08 月 04 日 24 时 ， 您 的 国内 手机 上网 流量 ...\n",
      "1350                     QQ : 1339473803 微信 : 15726986766\n",
      "344     【 饿 了 么 】 20 元 鲜果 超市 红包 到 账 ！ 大牌 水果 超市 不止 减 15...\n",
      "1027    尊敬 的 闪讯 用户 ， 您 的 宽带 上网 密码 是 ： 138590 ， 密码 在 20...\n",
      "485     【 饿 了 么 】 大牌 水果 满 39 减 20 ！ 狂撒 5 千万 红包 ， 偷偷 告诉...\n",
      "1393                                                   收到\n",
      "1441    【 杭州 车牌 助手 】 您 的 验证码 是 194018 。 如非 本人 操作 ， 请 忽...\n",
      "924     【 中国电信 流量 服务 提醒 】 尊敬 的 用户 ， 中国电信 国际 / 港澳台 手机 漫...\n",
      "365     【 达 达 平台 】 您 的 饿 了 么 订单 正由达 达 骑士 张 海军 （ 182581...\n",
      "76      【 天翼 流量 管家 】 截至 12 月 23 日 24 时 ， 您 的 国内 手机 上网 ...\n",
      "1196                                       你 一个 短信 发 三次 😈\n",
      "1084    亲爱 的 朋友 ： 你好 ， 我 是 孙舟 👸 🏻 📍 苦于 就读于 中国 计量 戒网 所 ...\n",
      "1121                                   就 在 g3 东边   是 男寝 😊\n",
      "1326                    同学 你好 ， 请问 你 已经 报名 参加 了 这次 活动 了 吗\n",
      "983     尊敬 的 闪讯 用户 ， 您 的 宽带 上网 密码 是 ： 479191 ， 密码 在 20...\n",
      "411     恭喜 ， 你 有 一笔 口碑 交易 获得 部分 免单 （ 最高 200 元 ） !   立即...\n",
      "1209    亲们 ～ 晚上 好 ！               我来 通知 一下 周二 12 : 30 ...\n",
      "1356    各位 晚上 好 ！ 我 是 小组长 ， 明天 中午 12 点 在 启明 b205 - 3 -...\n",
      "597     【 饿 了 么 】 您 的 验证码 是 600826 ， 在 5 分钟 内 有效 。 如非 ...\n",
      "1061    尊敬 的 闪讯 用户 ， 您 的 宽带 上网 密码 是 ： 634510 ， 密码 在 20...\n",
      "820     尊敬 的 客户 ： 截至 本月 19 日 18 时 15 分 ， 您 的 校园 基站 本地 ...\n",
      "Name: cut_comment, Length: 291, dtype: object\n"
     ]
    }
   ],
   "source": [
    "Zx_train,Zx_test,Zy_train,Zy_test= train_test_split(X_test,y_test,random_state=42,test_size=0.25)\n",
    "print(Zx_train)"
   ]
  },
  {
   "cell_type": "code",
   "execution_count": 8,
   "metadata": {},
   "outputs": [],
   "source": [
    "#词袋模型\n",
    "from sklearn.feature_extraction.text import CountVectorizer,TfidfVectorizer\n",
    "vect = CountVectorizer()\n",
    "#tfidf = TfidfVectorizer()"
   ]
  },
  {
   "cell_type": "code",
   "execution_count": 9,
   "metadata": {
    "scrolled": true
   },
   "outputs": [
    {
     "data": {
      "text/plain": [
       "<291x1714 sparse matrix of type '<class 'numpy.int64'>'\n",
       "\twith 5434 stored elements in Compressed Sparse Row format>"
      ]
     },
     "execution_count": 9,
     "metadata": {},
     "output_type": "execute_result"
    }
   ],
   "source": [
    "vect.fit_transform(Zx_train)"
   ]
  },
  {
   "cell_type": "code",
   "execution_count": 10,
   "metadata": {
    "scrolled": true
   },
   "outputs": [
    {
     "data": {
      "text/html": [
       "<div>\n",
       "<style scoped>\n",
       "    .dataframe tbody tr th:only-of-type {\n",
       "        vertical-align: middle;\n",
       "    }\n",
       "\n",
       "    .dataframe tbody tr th {\n",
       "        vertical-align: top;\n",
       "    }\n",
       "\n",
       "    .dataframe thead th {\n",
       "        text-align: right;\n",
       "    }\n",
       "</style>\n",
       "<table border=\"1\" class=\"dataframe\">\n",
       "  <thead>\n",
       "    <tr style=\"text-align: right;\">\n",
       "      <th></th>\n",
       "      <th>00</th>\n",
       "      <th>01</th>\n",
       "      <th>02</th>\n",
       "      <th>03</th>\n",
       "      <th>04</th>\n",
       "      <th>05</th>\n",
       "      <th>0571</th>\n",
       "      <th>057187676112</th>\n",
       "      <th>06</th>\n",
       "      <th>0611</th>\n",
       "      <th>...</th>\n",
       "      <th>08</th>\n",
       "      <th>0805</th>\n",
       "      <th>09</th>\n",
       "      <th>098993</th>\n",
       "      <th>0mb</th>\n",
       "      <th>10</th>\n",
       "      <th>100</th>\n",
       "      <th>1000</th>\n",
       "      <th>10000</th>\n",
       "      <th>1000mb</th>\n",
       "    </tr>\n",
       "  </thead>\n",
       "  <tbody>\n",
       "    <tr>\n",
       "      <th>0</th>\n",
       "      <td>0</td>\n",
       "      <td>0</td>\n",
       "      <td>0</td>\n",
       "      <td>0</td>\n",
       "      <td>0</td>\n",
       "      <td>0</td>\n",
       "      <td>0</td>\n",
       "      <td>0</td>\n",
       "      <td>0</td>\n",
       "      <td>0</td>\n",
       "      <td>...</td>\n",
       "      <td>0</td>\n",
       "      <td>0</td>\n",
       "      <td>0</td>\n",
       "      <td>0</td>\n",
       "      <td>0</td>\n",
       "      <td>0</td>\n",
       "      <td>0</td>\n",
       "      <td>0</td>\n",
       "      <td>0</td>\n",
       "      <td>0</td>\n",
       "    </tr>\n",
       "    <tr>\n",
       "      <th>1</th>\n",
       "      <td>2</td>\n",
       "      <td>1</td>\n",
       "      <td>0</td>\n",
       "      <td>0</td>\n",
       "      <td>0</td>\n",
       "      <td>0</td>\n",
       "      <td>0</td>\n",
       "      <td>0</td>\n",
       "      <td>0</td>\n",
       "      <td>0</td>\n",
       "      <td>...</td>\n",
       "      <td>1</td>\n",
       "      <td>0</td>\n",
       "      <td>0</td>\n",
       "      <td>0</td>\n",
       "      <td>0</td>\n",
       "      <td>0</td>\n",
       "      <td>0</td>\n",
       "      <td>0</td>\n",
       "      <td>0</td>\n",
       "      <td>0</td>\n",
       "    </tr>\n",
       "    <tr>\n",
       "      <th>2</th>\n",
       "      <td>0</td>\n",
       "      <td>0</td>\n",
       "      <td>0</td>\n",
       "      <td>0</td>\n",
       "      <td>0</td>\n",
       "      <td>0</td>\n",
       "      <td>0</td>\n",
       "      <td>0</td>\n",
       "      <td>0</td>\n",
       "      <td>0</td>\n",
       "      <td>...</td>\n",
       "      <td>0</td>\n",
       "      <td>0</td>\n",
       "      <td>0</td>\n",
       "      <td>0</td>\n",
       "      <td>0</td>\n",
       "      <td>1</td>\n",
       "      <td>0</td>\n",
       "      <td>0</td>\n",
       "      <td>0</td>\n",
       "      <td>0</td>\n",
       "    </tr>\n",
       "    <tr>\n",
       "      <th>3</th>\n",
       "      <td>1</td>\n",
       "      <td>1</td>\n",
       "      <td>0</td>\n",
       "      <td>0</td>\n",
       "      <td>0</td>\n",
       "      <td>0</td>\n",
       "      <td>0</td>\n",
       "      <td>0</td>\n",
       "      <td>0</td>\n",
       "      <td>0</td>\n",
       "      <td>...</td>\n",
       "      <td>0</td>\n",
       "      <td>0</td>\n",
       "      <td>0</td>\n",
       "      <td>0</td>\n",
       "      <td>0</td>\n",
       "      <td>1</td>\n",
       "      <td>0</td>\n",
       "      <td>0</td>\n",
       "      <td>0</td>\n",
       "      <td>0</td>\n",
       "    </tr>\n",
       "    <tr>\n",
       "      <th>4</th>\n",
       "      <td>2</td>\n",
       "      <td>1</td>\n",
       "      <td>0</td>\n",
       "      <td>0</td>\n",
       "      <td>1</td>\n",
       "      <td>0</td>\n",
       "      <td>0</td>\n",
       "      <td>0</td>\n",
       "      <td>0</td>\n",
       "      <td>0</td>\n",
       "      <td>...</td>\n",
       "      <td>0</td>\n",
       "      <td>0</td>\n",
       "      <td>0</td>\n",
       "      <td>0</td>\n",
       "      <td>0</td>\n",
       "      <td>0</td>\n",
       "      <td>0</td>\n",
       "      <td>0</td>\n",
       "      <td>0</td>\n",
       "      <td>0</td>\n",
       "    </tr>\n",
       "  </tbody>\n",
       "</table>\n",
       "<p>5 rows × 25 columns</p>\n",
       "</div>"
      ],
      "text/plain": [
       "   00  01  02  03  04  05  0571  057187676112  06  0611   ...    08  0805  09  \\\n",
       "0   0   0   0   0   0   0     0             0   0     0   ...     0     0   0   \n",
       "1   2   1   0   0   0   0     0             0   0     0   ...     1     0   0   \n",
       "2   0   0   0   0   0   0     0             0   0     0   ...     0     0   0   \n",
       "3   1   1   0   0   0   0     0             0   0     0   ...     0     0   0   \n",
       "4   2   1   0   0   1   0     0             0   0     0   ...     0     0   0   \n",
       "\n",
       "   098993  0mb  10  100  1000  10000  1000mb  \n",
       "0       0    0   0    0     0      0       0  \n",
       "1       0    0   0    0     0      0       0  \n",
       "2       0    0   1    0     0      0       0  \n",
       "3       0    0   1    0     0      0       0  \n",
       "4       0    0   0    0     0      0       0  \n",
       "\n",
       "[5 rows x 25 columns]"
      ]
     },
     "execution_count": 10,
     "metadata": {},
     "output_type": "execute_result"
    }
   ],
   "source": [
    "pd.DataFrame(vect.fit_transform(Zx_train).toarray(),columns=vect.get_feature_names()).iloc[:,0:25].head()"
   ]
  },
  {
   "cell_type": "code",
   "execution_count": 11,
   "metadata": {},
   "outputs": [
    {
     "data": {
      "text/plain": [
       "<291x1302 sparse matrix of type '<class 'numpy.int64'>'\n",
       "\twith 3975 stored elements in Compressed Sparse Row format>"
      ]
     },
     "execution_count": 11,
     "metadata": {},
     "output_type": "execute_result"
    }
   ],
   "source": [
    "vect = CountVectorizer(token_pattern=u'(?u)\\\\b[^\\\\d\\\\W]\\\\w+\\\\b',stop_words=frozenset(stop_words))\n",
    "vect.fit_transform(Zx_train)"
   ]
  },
  {
   "cell_type": "code",
   "execution_count": 12,
   "metadata": {},
   "outputs": [
    {
     "name": "stdout",
     "output_type": "stream",
     "text": [
      "[[0 0 0 ... 0 0 0]\n",
      " [0 0 0 ... 0 0 0]\n",
      " [0 0 0 ... 0 0 0]\n",
      " ...\n",
      " [0 0 0 ... 0 0 0]\n",
      " [0 0 0 ... 0 0 0]\n",
      " [0 0 0 ... 0 0 0]]\n"
     ]
    }
   ],
   "source": [
    "t = vect.fit_transform(Zx_train).toarray()\n",
    "print(t)"
   ]
  },
  {
   "cell_type": "code",
   "execution_count": 13,
   "metadata": {},
   "outputs": [
    {
     "data": {
      "text/html": [
       "<div>\n",
       "<style scoped>\n",
       "    .dataframe tbody tr th:only-of-type {\n",
       "        vertical-align: middle;\n",
       "    }\n",
       "\n",
       "    .dataframe tbody tr th {\n",
       "        vertical-align: top;\n",
       "    }\n",
       "\n",
       "    .dataframe thead th {\n",
       "        text-align: right;\n",
       "    }\n",
       "</style>\n",
       "<table border=\"1\" class=\"dataframe\">\n",
       "  <thead>\n",
       "    <tr style=\"text-align: right;\">\n",
       "      <th></th>\n",
       "      <th>a9p1nw</th>\n",
       "      <th>activity</th>\n",
       "      <th>alipay</th>\n",
       "      <th>apk</th>\n",
       "      <th>app</th>\n",
       "      <th>aq</th>\n",
       "      <th>b205</th>\n",
       "      <th>bestpay</th>\n",
       "      <th>brjgbu</th>\n",
       "      <th>c2203452</th>\n",
       "      <th>...</th>\n",
       "      <th>魅影</th>\n",
       "      <th>鲜丰</th>\n",
       "      <th>鲜果</th>\n",
       "      <th>鲜橙</th>\n",
       "      <th>鸡排</th>\n",
       "      <th>麻烦</th>\n",
       "      <th>黄车</th>\n",
       "      <th>黑衣人</th>\n",
       "      <th>黑鱼</th>\n",
       "      <th>鼓励</th>\n",
       "    </tr>\n",
       "  </thead>\n",
       "  <tbody>\n",
       "    <tr>\n",
       "      <th>0</th>\n",
       "      <td>0</td>\n",
       "      <td>0</td>\n",
       "      <td>0</td>\n",
       "      <td>0</td>\n",
       "      <td>0</td>\n",
       "      <td>0</td>\n",
       "      <td>0</td>\n",
       "      <td>0</td>\n",
       "      <td>0</td>\n",
       "      <td>0</td>\n",
       "      <td>...</td>\n",
       "      <td>0</td>\n",
       "      <td>0</td>\n",
       "      <td>0</td>\n",
       "      <td>0</td>\n",
       "      <td>0</td>\n",
       "      <td>0</td>\n",
       "      <td>0</td>\n",
       "      <td>0</td>\n",
       "      <td>0</td>\n",
       "      <td>0</td>\n",
       "    </tr>\n",
       "    <tr>\n",
       "      <th>1</th>\n",
       "      <td>0</td>\n",
       "      <td>0</td>\n",
       "      <td>0</td>\n",
       "      <td>0</td>\n",
       "      <td>0</td>\n",
       "      <td>0</td>\n",
       "      <td>0</td>\n",
       "      <td>0</td>\n",
       "      <td>0</td>\n",
       "      <td>0</td>\n",
       "      <td>...</td>\n",
       "      <td>0</td>\n",
       "      <td>0</td>\n",
       "      <td>0</td>\n",
       "      <td>0</td>\n",
       "      <td>0</td>\n",
       "      <td>0</td>\n",
       "      <td>0</td>\n",
       "      <td>0</td>\n",
       "      <td>0</td>\n",
       "      <td>0</td>\n",
       "    </tr>\n",
       "    <tr>\n",
       "      <th>2</th>\n",
       "      <td>0</td>\n",
       "      <td>0</td>\n",
       "      <td>0</td>\n",
       "      <td>0</td>\n",
       "      <td>1</td>\n",
       "      <td>0</td>\n",
       "      <td>0</td>\n",
       "      <td>0</td>\n",
       "      <td>0</td>\n",
       "      <td>0</td>\n",
       "      <td>...</td>\n",
       "      <td>0</td>\n",
       "      <td>0</td>\n",
       "      <td>0</td>\n",
       "      <td>0</td>\n",
       "      <td>0</td>\n",
       "      <td>0</td>\n",
       "      <td>0</td>\n",
       "      <td>0</td>\n",
       "      <td>0</td>\n",
       "      <td>0</td>\n",
       "    </tr>\n",
       "    <tr>\n",
       "      <th>3</th>\n",
       "      <td>0</td>\n",
       "      <td>0</td>\n",
       "      <td>0</td>\n",
       "      <td>0</td>\n",
       "      <td>0</td>\n",
       "      <td>0</td>\n",
       "      <td>0</td>\n",
       "      <td>0</td>\n",
       "      <td>0</td>\n",
       "      <td>0</td>\n",
       "      <td>...</td>\n",
       "      <td>0</td>\n",
       "      <td>0</td>\n",
       "      <td>0</td>\n",
       "      <td>0</td>\n",
       "      <td>0</td>\n",
       "      <td>0</td>\n",
       "      <td>0</td>\n",
       "      <td>0</td>\n",
       "      <td>0</td>\n",
       "      <td>0</td>\n",
       "    </tr>\n",
       "    <tr>\n",
       "      <th>4</th>\n",
       "      <td>0</td>\n",
       "      <td>0</td>\n",
       "      <td>0</td>\n",
       "      <td>0</td>\n",
       "      <td>0</td>\n",
       "      <td>0</td>\n",
       "      <td>0</td>\n",
       "      <td>0</td>\n",
       "      <td>0</td>\n",
       "      <td>0</td>\n",
       "      <td>...</td>\n",
       "      <td>0</td>\n",
       "      <td>0</td>\n",
       "      <td>0</td>\n",
       "      <td>0</td>\n",
       "      <td>0</td>\n",
       "      <td>0</td>\n",
       "      <td>0</td>\n",
       "      <td>0</td>\n",
       "      <td>0</td>\n",
       "      <td>0</td>\n",
       "    </tr>\n",
       "  </tbody>\n",
       "</table>\n",
       "<p>5 rows × 1302 columns</p>\n",
       "</div>"
      ],
      "text/plain": [
       "   a9p1nw  activity  alipay  apk  app  aq  b205  bestpay  brjgbu  c2203452  \\\n",
       "0       0         0       0    0    0   0     0        0       0         0   \n",
       "1       0         0       0    0    0   0     0        0       0         0   \n",
       "2       0         0       0    0    1   0     0        0       0         0   \n",
       "3       0         0       0    0    0   0     0        0       0         0   \n",
       "4       0         0       0    0    0   0     0        0       0         0   \n",
       "\n",
       "  ...  魅影  鲜丰  鲜果  鲜橙  鸡排  麻烦  黄车  黑衣人  黑鱼  鼓励  \n",
       "0 ...   0   0   0   0   0   0   0    0   0   0  \n",
       "1 ...   0   0   0   0   0   0   0    0   0   0  \n",
       "2 ...   0   0   0   0   0   0   0    0   0   0  \n",
       "3 ...   0   0   0   0   0   0   0    0   0   0  \n",
       "4 ...   0   0   0   0   0   0   0    0   0   0  \n",
       "\n",
       "[5 rows x 1302 columns]"
      ]
     },
     "execution_count": 13,
     "metadata": {},
     "output_type": "execute_result"
    }
   ],
   "source": [
    "vect = CountVectorizer(token_pattern=u'(?u)\\\\b[^\\\\d\\\\W]\\\\w+\\\\b',stop_words=frozenset(stop_words)) # 去除停用词，匹配以数字开头的非单词字符\n",
    "pd.DataFrame(vect.fit_transform(Zx_train).toarray(),columns=vect.get_feature_names()).head()"
   ]
  },
  {
   "cell_type": "code",
   "execution_count": 14,
   "metadata": {
    "scrolled": true
   },
   "outputs": [
    {
     "name": "stdout",
     "output_type": "stream",
     "text": [
      "['a9p1nw', 'activity', 'alipay', 'apk', 'app', 'aq', 'b205', 'bestpay', 'brjgbu', 'c2203452', 'call', 'car1', 'cc', 'cd1kho', 'client', 'cn', 'com', 'ctwallet', 'd203', 'dc', 'dmall', 'dnf5000', 'dpurl', 'dsp', 'dtu7r6', 'dxy', 'e4pww9m', 'e720252003', 'ehirnco', 'ele', 'f3', 'fip4ro', 'from', 'g3', 'g7398', 'go', 'h3nfb8f1smz', 'high7', 'html', 'http', 'https', 'imusic', 'index', 'ios', 'ipad', 'iphone8', 'itunes', 'j4onou', 'j5pymt', 'jehcvn', 'jerkxy', 'jjc9us', 'jtcqic', 'k189', 'l8w7da4', 'liguc7', 'llfb', 'm2kb17', 'macbook', 'mail', 'manyou', 'mb', 'meituan', 'microsoft', 'miryr2z7', 'nan', 'nba', 'nemp', 'nfc', 'npc', 'ofo', 'ok', 'okok', 'p7whhr', 'pclteg', 'phsob1', 'pic1', 'pin', 'pk', 'ppt', 'q12xon9', 'qkk1fmq', 'qnh', 'qq', 'qq号', 'qunar', 'qwe325678', 'qyh', 'r0lsxvj', 'r1ibmeb', 'r31dttq', 'raiyi', 'rb8lblk', 'rebfyqj', 'rgpmg775', 'rm1augz', 'rm6qwmd', 'rnhtfph', 'rsbwiu', 'rt3mazx', 'rt8anst', 'rtd1uom', 'rtolcls', 'rudybta', 'rygvq9q', 'ryvuek', 'ryzqnjm', 's09v1q9', 'sj', 'so', 'store', 't202', 't830m4', 'ta', 'tb', 'tb1', 'td', 'to', 'tt', 'tv189', 'ty', 'u8', 'url', 'vip', 'wifi', 'wlan', 'www', 'xnhd', 'yy', 'zc', 'zg2597612', 'zj', 'zjdxwt', '一份', '一分钟', '一卡通', '一單', '一夏', '一批', '一文', '一楼', '一次性', '一武', '一波', '一笔', '一组', '一部分', '一键', '七彩', '万份', '万学', '三份', '三天', '三次', '上台演讲', '上映', '上楼', '上次', '上海', '上海银行', '上线', '上网', '上骨', '下午', '下单', '下发', '下台', '下图', '下次', '下沙', '下班', '下课', '下载', '下降', '下雨天', '不停', '不含', '不想', '不早了', '不来', '不玩', '不用', '不负', '不适', '不错', '不限号', '专享', '专享券', '专区', '专属', '专营店', '专题', '世界', '业务', '东边', '两分钟', '中午', '中国', '中国工商银行', '中国电信', '中心', '丰巢', '临时', '为准', '为本', '为辅', '为防', '主人', '主副卡', '主讲', '主题', '之力', '之选', '乐趣', '乘坐', '买一送一', '事情', '云垂', '五一', '五折', '交易', '交费', '交通', '产品', '享受', '享邀', '亮起', '亲们', '亲爱', '人要', '人身安全', '人间', '仅限', '今日', '今晚', '付博', '代码', '以下几点', '以求', '以用', '价格低', '任何人', '任性', '休息', '优先', '优惠', '会员', '会员费', '传奇', '位置', '住宿', '体育馆', '体验', '余额', '作废', '你们好', '你好', '使徒', '使用量', '例会', '依峰', '便利', '便捷', '保卫', '保证', '保障', '信使', '信号', '信息', '信息化', '信用', '信用卡', '信管', '修改', '假期', '做好', '停机', '健身', '偶像', '偷偷', '元旦', '元立', '元美团', '元购', '充值', '充入', '充足', '先买', '先给', '光大', '光明', '免单', '免密', '免年费', '免流', '免费', '免费送', '免邮', '兑换', '党课', '入党', '入网', '全免', '全免费', '全国', '全天', '全民', '公交', '公众', '公共', '公寓', '公布', '公测', '六位', '共享', '关注', '其他人', '典礼', '内免', '内含', '内容', '内限', '再减', '农信', '农商', '准三', '减券', '几个', '几点', '几组', '出帐', '出行', '出账', '出门', '分数', '分配', '分钟', '创造', '初夏', '删档', '别急', '别错过', '到时候', '到期', '到来', '刷卡', '券后', '前往', '剩余', '办理', '功能', '加拿大', '加油', '加餐', '动力', '动态', '动画', '助力', '助您', '助手', '包为', '包可', '包月', '包月费', '包裹', '包请', '包邮', '北大', '匠心', '十佳', '十里', '千起购', '半价', '单日', '单独', '博士', '卡微信', '卧底', '即可', '即日起', '即时', '即止', '原价', '参与', '参加', '发售', '发展', '发短信', '发给', '发给您', '发起', '发送', '取消', '取票', '取票机', '受理', '变动', '变更', '叠加', '口碑', '口碑网', '另有', '只差', '可取', '可回复', '可用', '可领', '台湾', '台风', '号码', '各得', '合唱', '合理安排', '同享', '同学', '同等', '名额', '听歌', '启明', '告知', '告诉', '周一', '周三', '周二', '周五', '周六', '周四', '周日', '周末', '周边', '咨询', '品牌', '哔哩', '商品', '商超', '喜欢', '四六级', '四天', '四早', '四月', '回复', '回来', '回看', '回馈', '园区', '国内', '国家', '国庆', '国际', '在家', '地区', '地点', '地铁', '坐拥', '培班', '基础', '基站', '填写', '境内', '壁纸', '壕礼', '备战', '备考', '复仇者', '复制', '复印', '夏日', '外卖', '外送', '多劳多得', '多点', '多订', '大三', '大亨', '大厅', '大嘴', '大奖', '大学', '大学生', '大小', '大片', '大牌', '大礼', '大礼包', '大神', '大陆', '天使', '天台', '天天', '天数', '天翼', '天谕', '天面', '太太', '失效', '失败', '奖励', '奖品', '奖学金', '套路', '套餐', '奶茶', '好久没', '好吃', '好家伙', '好礼', '如有', '如需', '如非', '威信', '存入', '孙舟', '季来', '学期', '学生', '学生会', '学生证', '学长', '学霸', '宁波', '安宁', '安心', '安装', '完后', '完善', '完毕', '官方', '官网', '定个', '定向', '实付', '实时', '审核', '客户', '客户端', '客服', '宣传周', '家人', '宽带', '宿舍', '宿舍楼', '密保', '密码', '对不起', '寻找', '导致', '封顶', '将会', '尊敬', '尊贵', '小伙伴', '小刚', '小悦悦', '小时', '小朋友', '小王子', '小组会议', '小组长', '小黄', '就职', '就读于', '尽在欢', '尽情', '尾号', '山海经', '工业', '工作', '工商银行', '工行', '工银', '工银融', '左边', '巨制', '已到', '已用', '已购', '巴拉', '市区', '市民', '帐号', '帐户', '带伞', '帮忙', '干事', '干货', '平台', '年化', '年货', '年轻人', '幸福', '广告', '应急', '座位', '座取', '延期', '建设', '开会', '开关', '开启', '开怀', '开户行', '开播', '开班', '开立', '开课', '开车', '开通', '异议', '张喜珠', '张译', '弹性', '强制', '强势', '当日', '当月', '录取', '影响', '影院', '微众', '微信', '微博', '微厅', '微立', '微立享', '德克士', '德国', '心计', '志愿', '快抢', '快捷', '快来', '快递', '忽略', '总决赛', '总量', '恢复', '恭喜', '您好', '情人节', '情况', '惊喜', '惠民', '惠盈', '意向', '感受', '感恩', '感觉', '感谢您', '愿望', '成功', '成就', '成绩排名', '成龙', '我来', '我省', '我行', '戒网', '或翼', '战争', '户外活动', '手册', '手机', '手机号', '手机号码', '手机用户', '手游', '打卡', '打开', '打斗', '扣费', '扣除', '扫码', '扶摇', '把握', '投票', '抗旱', '折算', '抢票', '抢购', '报名', '报暖场', '报给', '抵扣', '押金', '抽取', '抽奖', '抽空来', '抽签', '担任', '拒收', '拒绝', '拥有', '拨打', '指令', '指定', '指挥部', '掀起', '授权', '授课', '掌厅', '掌控', '排练', '接收', '推荐', '提交', '提供', '提前', '提示', '提货', '提速', '提醒', '提问', '搞笑', '携手', '操作', '支付', '支付宝', '支持', '收件', '收到', '收货', '收费', '收集', '改革', '放弃', '故障', '教师', '教研组', '数学', '数学公式', '数据', '数码', '新一季', '新人', '新办', '新客', '新服', '新版', '新生', '方式', '方浩', '旅行', '无广告', '无线', '无视', '无限', '无需', '日全', '日安卓', '日本', '日至', '早点', '时会', '时装', '时间', '明天', '明日', '明星', '明晚', '明白', '易班', '易班网', '星期三', '星级宾馆', '星辰', '春光', '春风', '昨日', '晚上', '晚安', '智慧', '更好', '更新', '更配', '最多减', '月初', '月底', '月末', '月话费', '有效期', '有限', '朋友', '服务', '期为', '期间', '期限', '本书', '本卡', '本周', '本息', '本月', '本期', '本条', '本次', '本组', '本金', '机会', '机号码', '权益', '李晨', '条件', '来到', '来源', '来米', '来袭', '杭州', '杭州市', '果蔬', '某人', '柜台', '柜面', '查收', '查看', '查询', '柬埔寨', '标准', '校友', '校园', '校验', '校验码', '棒券后', '楚留香', '概率', '模式', '次次', '欢乐', '欢迎您', '欣赏', '欲购从速', '正由达', '此类', '武侠', '武器', '武将', '母亲', '每人', '每号', '每周六', '每月', '每条', '每组', '比方说', '水果', '水润', '永世', '汇金', '汐族', '汐祈', '汽车', '没事儿', '没挂科', '没用过', '泄漏', '泄露', '波澜', '注册', '注意安全', '泰国', '洪荒', '活力', '活动', '活期', '流利', '流量', '测试', '浙江', '浙江电信', '浙江省', '浦发', '海军', '海文', '海量', '消息', '消费', '涉嫌', '淘宝', '淘票票', '添利', '添加', '清明', '清零', '渠道', '温馨', '港澳台', '港澳台地区', '游戏', '溢出', '满立', '滴滴', '演艺', '演讲', '漫游', '潮歌', '澳大利亚', '火热', '火爆', '点击', '点券', '点对点', '点此', '点评', '点赞', '烧脑', '热播', '热歌', '熬夜', '爆款', '爱看', '爸妈', '牛肉', '物品', '特价', '特惠', '特惠价', '特权', '特邀', '牺牲', '犹豫', '狂撒', '狂欢', '独唱', '王妃', '王诗语', '玩法', '环宇', '环节', '现场', '现有', '现邀', '现金', '班级', '班结业', '班钱', '理财', '瓜分', '甜橙', '生效', '生日', '生活', '生活费', '用于', '用户', '申诉', '申请', '电信', '电影', '男寝', '畅享', '畅听', '番薯', '疑问', '疑问请', '疯狂', '登入', '登场', '登录', '白金', '白金卡', '百万', '百度', '皇城', '皇帝', '皮肤', '目标', '直播', '直达', '相关', '相杀', '相爱', '相约', '省内', '省防指', '真情', '真材实料', '真龙', '短信', '短号', '确保', '确认', '碧水', '碧海', '礼券', '礼包', '礼盒', '社办', '社长', '神券', '票号', '福利', '福禄', '秋高气爽', '科技', '秘诀', '租用', '积分', '积极分子', '积极行动', '立减', '立送', '竞猜', '竞猜活动', '端午', '端均', '第一次', '第三方', '第二季', '第八', '第八条', '第四集', '等你拿', '等待', '答疑', '策划', '策划案', '策略', '签到', '签收', '管家', '管饱', '类型', '粽情', '粽意', '系列', '系列产品', '索取', '網店', '红包', '约翰尼', '纪念', '纯牛奶', '组合', '组员', '组长', '经验谈', '绑定', '结业典礼', '结束', '结爱', '结算', '结转', '绝地', '编号', '缘分', '缴费', '网上', '网厅', '网店', '网易', '网点', '网络', '网购', '网页', '美丽', '美味', '美团', '美团网', '美国', '美女', '美食', '翅膀', '翔宇', '翻翻', '老客户', '老师', '考必过', '考研', '聊天', '联盟', '联系人', '聚餐', '腾讯', '自动', '自由度', '自行车', '致电', '节目', '节能', '节能降耗', '花式', '苦于', '英国', '英语', '苹果', '荣盛', '莅临', '莱客', '获取', '获赠', '菜鸟', '菲特', '萌妻', '营业厅', '蓝天', '虚拟', '行者', '被盗', '要来', '观看', '规则', '视为', '视讯', '视频', '解除', '警察局', '计费', '计量', '订单', '订购', '认定', '认证', '记录', '记得', '讲义', '讲解', '许愿', '设备', '设置', '访问', '证件', '证明', '评价', '评委', '评选', '诈骗', '诗语', '诚邀', '话费', '详情', '详情请', '详见', '详询', '语音', '说话', '请个', '请于', '请假', '请移', '请问', '课程', '调戏', '谢谢', '豪华', '貂蝉', '负重', '财富', '账号', '账户', '购买', '购物', '购票', '费用', '资产', '资料', '资格', '资费', '赎回', '赚钱', '赛事', '赛美奇', '赠送', '赢取', '赵云', '赶紧', '起购', '超值', '超出', '超市', '超神', '越高', '路滑', '踏青', '身份', '身边', '车牌', '轩辕', '转发', '转账', '轻松', '输入', '过后', '过头', '过期', '迎接', '迎新晚会', '近期', '返场', '这是', '进门', '连续', '连送', '迪士尼', '追番', '退出', '退回', '退款', '退订', '送来', '送达', '送餐', '逃亡', '选手', '透支', '透露', '通信', '通用', '通知', '通行证', '通讯', '逛逛', '速来', '速率', '遇见', '邀请', '邮箱', '邻活', '配送', '酒店', '酬劳', '酷狗', '重启', '重复', '金服', '钱包', '铁路', '铃音', '银行', '链接', '错过', '锦涛', '锦盒', '长假', '门槛', '闪讯', '闭幕式', '阐述', '防汛防台', '阳光普照', '阶段', '阿里', '陈铭智', '降价', '降速', '限时', '限量', '限领', '随借', '随时随地', '集合', '集赞', '需在', '震撼', '霸业', '青春', '面值', '面试', '音乐', '顺序', '预售', '预期', '预约', '预计', '领券', '领取', '领完', '领申通', '额外', '额度', '风险', '飞火', '食品', '食堂', '食神', '餐厅', '首刷', '香港', '驾翼', '驿站', '验证', '验证码', '骑上', '骑士', '骑小黄', '骑得', '骑行', '骑车', '骚扰', '骨培', '骨培班', '高中', '高分', '高峰', '高教', '魅影', '鲜丰', '鲜果', '鲜橙', '鸡排', '麻烦', '黄车', '黑衣人', '黑鱼', '鼓励']\n"
     ]
    }
   ],
   "source": [
    "n = vect.get_feature_names()\n",
    "print(n)"
   ]
  },
  {
   "cell_type": "code",
   "execution_count": 15,
   "metadata": {},
   "outputs": [
    {
     "data": {
      "text/plain": [
       "[('countvectorizer',\n",
       "  CountVectorizer(analyzer='word', binary=False, decode_error='strict',\n",
       "          dtype=<class 'numpy.int64'>, encoding='utf-8', input='content',\n",
       "          lowercase=True, max_df=1.0, max_features=None, min_df=1,\n",
       "          ngram_range=(1, 1), preprocessor=None,\n",
       "          stop_words=frozenset({'', '就此', '策略地', '你们', '→', '大致', '嘘', '突然', '二话不说', '切莫', '不下', '来着', '以至于', '朝着', '顷', '呗', '归齐', '不过', '避免', '成年', '奋勇', '［②ｅ］', '或曰', '有着', '“', '不起', '况且', '冲', '替代', '呵呵', '平素', '偶尔', '庶乎', '×', '据说', '虽然', '汝', '就要', '［①③］', '先生', '［②ｃ］', '8', '既是', '啷当', '人民', '＊', '伟大'..., '得到', '何时', '起首', '８', '啐', '达旦', '一致', '［①⑤］', '没有', '那么样', '这么些', '借', '甫', '多多益善', '彻夜', '不只'}),\n",
       "          strip_accents=None, token_pattern='(?u)\\\\b[^\\\\d\\\\W]\\\\w+\\\\b',\n",
       "          tokenizer=None, vocabulary=None)),\n",
       " ('multinomialnb', MultinomialNB(alpha=1.0, class_prior=None, fit_prior=True))]"
      ]
     },
     "execution_count": 15,
     "metadata": {},
     "output_type": "execute_result"
    }
   ],
   "source": [
    "#贝叶斯模型构建\n",
    "from sklearn.naive_bayes import MultinomialNB\n",
    "from sklearn.pipeline import make_pipeline\n",
    "nb = MultinomialNB()\n",
    "pipe = make_pipeline(vect,nb)\n",
    "pipe.steps"
   ]
  },
  {
   "cell_type": "code",
   "execution_count": 16,
   "metadata": {},
   "outputs": [
    {
     "data": {
      "text/plain": [
       "Pipeline(memory=None,\n",
       "     steps=[('countvectorizer', CountVectorizer(analyzer='word', binary=False, decode_error='strict',\n",
       "        dtype=<class 'numpy.int64'>, encoding='utf-8', input='content',\n",
       "        lowercase=True, max_df=1.0, max_features=None, min_df=1,\n",
       "        ngram_range=(1, 1), preprocessor=None,\n",
       "        stop_words=...e, vocabulary=None)), ('multinomialnb', MultinomialNB(alpha=1.0, class_prior=None, fit_prior=True))])"
      ]
     },
     "execution_count": 16,
     "metadata": {},
     "output_type": "execute_result"
    }
   ],
   "source": [
    "pipe.fit(Zx_train,Zy_train)"
   ]
  },
  {
   "cell_type": "code",
   "execution_count": 17,
   "metadata": {},
   "outputs": [
    {
     "data": {
      "text/plain": [
       "0.9278350515463918"
      ]
     },
     "execution_count": 17,
     "metadata": {},
     "output_type": "execute_result"
    }
   ],
   "source": [
    "from sklearn import metrics\n",
    "y_pred = pipe.predict(Zx_test)\n",
    "metrics.accuracy_score(Zy_test,y_pred)"
   ]
  },
  {
   "cell_type": "code",
   "execution_count": 18,
   "metadata": {},
   "outputs": [
    {
     "data": {
      "text/plain": [
       "array([[48,  3],\n",
       "       [ 4, 42]], dtype=int64)"
      ]
     },
     "execution_count": 18,
     "metadata": {},
     "output_type": "execute_result"
    }
   ],
   "source": [
    "#模型对于测试集的混淆矩阵\n",
    "metrics.confusion_matrix(Zy_test,y_pred)"
   ]
  },
  {
   "cell_type": "code",
   "execution_count": 19,
   "metadata": {},
   "outputs": [],
   "source": [
    "def get_confusion_matrix(conf,clas):\n",
    "    import matplotlib.pyplot as plt\n",
    "    fig,ax = plt.subplots(figsize=(2.5,2.5))\n",
    "    ax.matshow(conf,cmap=plt.cm.Blues,alpha=0.3)\n",
    "    tick_marks = np.arange(len(clas))\n",
    "    plt.xticks(tick_marks,clas,rotation=45)\n",
    "    plt.yticks(tick_marks,clas)\n",
    "    for i in range(conf.shape[0]):\n",
    "        for j in range(conf.shape[1]):\n",
    "            ax.text(x=i,y=j,s=conf[i,j],\n",
    "                   va='center',\n",
    "                   ha='center')\n",
    "    plt.xlabel(\"predict_label\")\n",
    "    plt.ylabel(\"true label\")"
   ]
  },
  {
   "cell_type": "code",
   "execution_count": 20,
   "metadata": {},
   "outputs": [
    {
     "data": {
      "image/png": "[encoded data removed]",
      "text/plain": [
       "<Figure size 180x180 with 1 Axes>"
      ]
     },
     "metadata": {
      "needs_background": "light"
     },
     "output_type": "display_data"
    }
   ],
   "source": [
    "%matplotlib inline\n",
    "import matplotlib.pyplot as plt\n",
    "conf = metrics.confusion_matrix(Zy_test,y_pred)\n",
    "class_names = np.array(['0','1'])\n",
    "get_confusion_matrix(np.array(conf),clas=class_names)\n",
    "plt.show()"
   ]
  },
  {
   "cell_type": "markdown",
   "metadata": {},
   "source": [
    "### 测试"
   ]
  },
  {
   "cell_type": "code",
   "execution_count": 4,
   "metadata": {},
   "outputs": [
    {
     "name": "stderr",
     "output_type": "stream",
     "text": [
      "D:\\anaconda3\\lib\\site-packages\\sklearn\\feature_extraction\\text.py:300: UserWarning: Your stop_words may be inconsistent with your preprocessing. Tokenizing the stop words generated tokens ['lex', '①①', '①②', '①③', '①④', '①⑤', '①⑥', '①⑦', '①⑧', '①⑨', '①ａ', '①ｂ', '①ｃ', '①ｄ', '①ｅ', '①ｆ', '①ｇ', '①ｈ', '①ｉ', '①ｏ', '②①', '②②', '②③', '②④', '②⑤', '②⑥', '②⑦', '②⑧', '②⑩', '②ａ', '②ｂ', '②ｄ', '②ｅ', '②ｆ', '②ｇ', '②ｈ', '②ｉ', '②ｊ', '③①', '③⑩', '③ａ', '③ｂ', '③ｃ', '③ｄ', '③ｅ', '③ｆ', '③ｇ', '③ｈ', '④ａ', '④ｂ', '④ｃ', '④ｄ', '④ｅ', '⑤ａ', '⑤ｂ', '⑤ｄ', '⑤ｅ', '⑤ｆ', 'ｌｉ', 'ｚｘｆｉｔｌ'] not in stop_words.\n",
      "  'stop_words.' % sorted(inconsistent))\n"
     ]
    },
    {
     "name": "stdout",
     "output_type": "stream",
     "text": [
      "\n",
      "特征名: \n",
      "<bound method CountVectorizer.get_feature_names of CountVectorizer(analyzer='word', binary=False, decode_error='strict',\n",
      "        dtype=<class 'numpy.int64'>, encoding='utf-8', input='content',\n",
      "        lowercase=True, max_df=1.0, max_features=None, min_df=1,\n",
      "        ngram_range=(1, 1), preprocessor=None,\n",
      "        stop_words=frozenset({'', '过', '带', '∪φ∈', '今天', '或曰', '出来', '昂然', '嗳', '为', '如下', '［③Ｆ］', '立', '岂止', '乘隙', '具体', '简而言之', '同', '轰然', '而且', '呸', '再者说', '她是', '她们', '必定', '除此以外', '出去', '连同', '～＋', '哪天', '嘿', '那末', 'Ａ', '加入', '应当', '我', '］［', '才能', '全然', '串行', '别管', '谁知', '哪个', '动不动', '先不先', '断然', '既',...'认为', '那时', '极力', '近年来', '乃至于', '以至', '犹自', '给', '＜', '那个', '～±', '下去', '处处', '谁', 'γ', '哎呀', '倒是'}),\n",
      "        strip_accents=None, token_pattern='(?u)\\\\b[^\\\\d\\\\W]\\\\w+\\\\b',\n",
      "        tokenizer=None, vocabulary=None)>\n",
      "\n",
      "\n",
      "训练好的pipe: \n",
      "[('countvectorizer', CountVectorizer(analyzer='word', binary=False, decode_error='strict',\n",
      "        dtype=<class 'numpy.int64'>, encoding='utf-8', input='content',\n",
      "        lowercase=True, max_df=1.0, max_features=None, min_df=1,\n",
      "        ngram_range=(1, 1), preprocessor=None,\n",
      "        stop_words=frozenset({'', '过', '带', '∪φ∈', '今天', '或曰', '出来', '昂然', '嗳', '为', '如下', '［③Ｆ］', '立', '岂止', '乘隙', '具体', '简而言之', '同', '轰然', '而且', '呸', '再者说', '她是', '她们', '必定', '除此以外', '出去', '连同', '～＋', '哪天', '嘿', '那末', 'Ａ', '加入', '应当', '我', '］［', '才能', '全然', '串行', '别管', '谁知', '哪个', '动不动', '先不先', '断然', '既',...'认为', '那时', '极力', '近年来', '乃至于', '以至', '犹自', '给', '＜', '那个', '～±', '下去', '处处', '谁', 'γ', '哎呀', '倒是'}),\n",
      "        strip_accents=None, token_pattern='(?u)\\\\b[^\\\\d\\\\W]\\\\w+\\\\b',\n",
      "        tokenizer=None, vocabulary=None)), ('multinomialnb', MultinomialNB(alpha=1.0, class_prior=None, fit_prior=True))]\n",
      "当前模型准确率: 0.909091\n",
      "预测结果的精准率: 0.965517\n",
      "预测结果的召回率: 0.823529\n",
      "输入测试文件名(该文件必须在桌面): test\n",
      "垃圾邮件    预测正确\n",
      "正常邮件    预测正确\n",
      "正常邮件    预测正确\n",
      "正常邮件    预测正确\n",
      "正常邮件    预测正确\n",
      "正常邮件    预测正确\n",
      "垃圾邮件    预测正确\n",
      "垃圾邮件    预测正确\n",
      "正常邮件    预测正确\n",
      "垃圾邮件    预测正确\n",
      "垃圾邮件    预测正确\n",
      "正常邮件    预测正确\n",
      "正常邮件    预测正确\n",
      "正常邮件    预测正确\n",
      "正常邮件    预测正确\n",
      "垃圾邮件    预测正确\n",
      "正常邮件    预测正确\n",
      "正常邮件    预测正确\n",
      "垃圾邮件    预测正确\n",
      "正常邮件    预测正确\n"
     ]
    }
   ],
   "source": [
    "import pandas as pd\n",
    "import jieba\n",
    "import codecs\n",
    "from sklearn.model_selection import train_test_split\n",
    "from sklearn.feature_extraction.text import CountVectorizer,TfidfVectorizer\n",
    "from sklearn.naive_bayes import MultinomialNB\n",
    "from sklearn.pipeline import make_pipeline\n",
    "from sklearn import metrics\n",
    "from sklearn.metrics import precision_score,recall_score\n",
    "\n",
    "class handleFile:\n",
    "    def __init__(self,url):\n",
    "        self.df = self.open_csv(url).drop_duplicates()\n",
    "        self.X = pd.DataFrame(self.df['content'].astype(str)) \n",
    "        self.Y = self.df['type']\n",
    "        self.stop_words = self.get_custom_stopwords()\n",
    "    def open_csv(self,url):\n",
    "        df = pd.read_csv(url,delimiter=\",\",header=None)\n",
    "        df.columns = ['content','type']\n",
    "        return df\n",
    "    def chinese_word_cut(self,mytext):\n",
    "        return \" \".join(jieba.cut(mytext))\n",
    "    def X_handle(self):\n",
    "        self.X['cut_comment'] = self.X['content'].apply(self.chinese_word_cut)\n",
    "        return self.X['cut_comment']\n",
    "    def get_custom_stopwords(self,stop_words_file=\"C:\\\\Users\\\\HASEE\\\\Desktop\\\\停用词表.txt\") -> list:\n",
    "        with codecs.open(stop_words_file,encoding=\"utf-8\") as f:\n",
    "            custom_stopwords_list = [i.strip() for i in f.readlines()]\n",
    "        return custom_stopwords_list\n",
    "    def preprocess(self):\n",
    "        X = self.X_handle()\n",
    "        X_train,X_test,y_train,y_test= train_test_split(X,self.Y,random_state=42,test_size=0.25)\n",
    "        Zx_train,Zx_test,Zy_train,Zy_test= train_test_split(X_test,y_test,random_state=42,test_size=0.25)\n",
    "        vect = CountVectorizer(token_pattern=u'(?u)\\\\b[^\\\\d\\\\W]\\\\w+\\\\b',stop_words=frozenset(self.stop_words))\n",
    "        vect.fit_transform(Zx_train)\n",
    "        #特征名\n",
    "        print(\"\\n特征名: \\n\"+str(vect.get_feature_names)+\"\\n\")        \n",
    "        nb = MultinomialNB()\n",
    "        pipe = make_pipeline(vect,nb)\n",
    "        pipe.fit(Zx_train,Zy_train)\n",
    "        y_pred = pipe.predict(Zx_test)\n",
    "        print(\"\\n训练好的pipe: \\n\"+str(pipe.steps)+\"\\n当前模型准确率: %f\"%metrics.accuracy_score(Zy_test,y_pred)+\"\\n预测结果的精准率: %f\"%precision_score(Zy_test,y_pred)+\"\\n预测结果的召回率: %f\"%recall_score(Zy_test,y_pred))\n",
    "        return pipe      \n",
    "    \n",
    "def predict() -> list:\n",
    "    url = \"C:\\\\Users\\\\HASEE\\\\Desktop\\\\\"+str(input(\"输入测试文件名(该文件必须在桌面): \"))+\".csv\"\n",
    "    test_file = handleFile(url)\n",
    "    test_data = test_file.X_handle()\n",
    "    y_data = test_file.Y\n",
    "    return test_data,y_data\n",
    "def score(x_score,y_score) -> None:\n",
    "    for x,y in zip(x_score,y_score):\n",
    "        if(x==1 and x==y):\n",
    "            print(\"垃圾邮件    预测正确\")\n",
    "        elif(x==0 and x==y):\n",
    "            print(\"正常邮件    预测正确\")\n",
    "        elif(x!=y and x==1):\n",
    "            print(\"垃圾邮件    预测错误\")\n",
    "        elif(x==0 and x!=y):\n",
    "            print(\"正常邮件    预测错误\")\n",
    "\n",
    "if __name__ == '__main__':\n",
    "    train = handleFile(\"C:\\\\Users\\\\HASEE\\\\Desktop\\\\data.csv\")\n",
    "    pipe = train.preprocess()\n",
    "    test_data,y_data = predict()\n",
    "    final_score = pipe.predict(test_data)\n",
    "    score(final_score,y_data)"
   ]
  }
 ],
 "metadata": {
  "kernelspec": {
   "display_name": "Python 3",
   "language": "python",
   "name": "python3"
  },
  "language_info": {
   "codemirror_mode": {
    "name": "ipython",
    "version": 3
   },
   "file_extension": ".py",
   "mimetype": "text/x-python",
   "name": "python",
   "nbconvert_exporter": "python",
   "pygments_lexer": "ipython3",
   "version": "3.6.5"
  }
 },
 "nbformat": 4,
 "nbformat_minor": 2
}
