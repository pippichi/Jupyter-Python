{
 "cells": [
  {
   "cell_type": "code",
   "execution_count": 8,
   "metadata": {},
   "outputs": [
    {
     "name": "stdout",
     "output_type": "stream",
     "text": [
      "[[-0.0118848   0.2947956 ]\n",
      " [ 2.29937077  1.82722278]\n",
      " [-0.99878394 -0.24950753]] \n",
      "-----------------------\n",
      "[[ 0.30970696  0.45903749]\n",
      " [ 1.40574568  1.46336057]\n",
      " [-1.19593505 -0.11468045]] \n",
      "-----------------------\n",
      "[[ 0.36635656  0.22239775]\n",
      " [ 0.92064726  1.65674127]\n",
      " [-1.18511989  0.0166107 ]] \n",
      "-----------------------\n",
      "[[ 0.4790081  -0.02342191]\n",
      " [ 0.62754765  1.69657979]\n",
      " [-1.18830335  0.15736592]] \n",
      "-----------------------\n",
      "[[ 0.55504641 -0.16714765]\n",
      " [ 0.57146007  1.58405669]\n",
      " [-1.13347822  0.21950269]] \n",
      "-----------------------\n",
      "[[ 0.5645258  -0.22710734]\n",
      " [ 0.55617971  1.51207039]\n",
      " [-1.13347822  0.21950269]] \n",
      "-----------------------\n"
     ]
    },
    {
     "data": {
      "image/png": "[encoded data removed]",
      "text/plain": [
       "<matplotlib.figure.Figure at 0x261b2db00f0>"
      ]
     },
     "metadata": {},
     "output_type": "display_data"
    }
   ],
   "source": [
    "from numpy import *\n",
    "from matplotlib import pyplot as plt\n",
    "\n",
    "#欧几里得距离\n",
    "def distance(Pa,Pb):\n",
    "    return sqrt(sum(power(Pa - Pb,2))) \n",
    "\n",
    "def randCent(dataSet,k):\n",
    "    length = shape(dataSet)[1]\n",
    "    cent = mat(zeros((k,length)))\n",
    "    for i in range(length):\n",
    "        minJ = min(dataSet[:,i])\n",
    "        rangeJ = float(max(dataSet[:,i])-minJ)\n",
    "        cent[:,i] = minJ + random.rand(k,1)*rangeJ\n",
    "    return cent\n",
    "\n",
    "def kmeans(dataSet,k,newDist = distance,newCent = randCent):\n",
    "    l = shape(dataSet)[0]\n",
    "    w = shape(dataSet)[1]\n",
    "    newDataSet = mat(zeros((l,w)))\n",
    "    ncent = newCent(dataSet,k)\n",
    "    flag = True\n",
    "    while flag:\n",
    "        flag = False\n",
    "        for i in range(l):\n",
    "            minCP = inf\n",
    "            minIndex = -1\n",
    "            for j in range(k):\n",
    "                distCP = newDist(dataSet[i,:],ncent[j,:])\n",
    "                if distCP < minCP:\n",
    "                    minCP = distCP\n",
    "                    minIndex = j\n",
    "            if newDataSet[i,0] != minIndex:\n",
    "                flag = True\n",
    "            newDataSet[i,:] = minIndex,minCP ** 2\n",
    "        print(ncent,'\\n-----------------------')\n",
    "        \n",
    "        for cent in range(k):\n",
    "            pointInCent = dataSet[nonzero(newDataSet[:,0].A==cent)[0]]\n",
    "            ncent[cent,:] = mean(pointInCent,axis = 0)\n",
    "            \n",
    "    return ncent,newDataSet\n",
    "\n",
    "def show(dataSet,k,ncent,newDataSet):\n",
    "    numSamples,dim = dataSet.shape\n",
    "    mark = ['or', 'ob', 'og', 'ok', '^r', '+r', 'sr', 'dr', '<r', 'pr']\n",
    "    for i in range(numSamples):\n",
    "        markIndex = int(newDataSet[i,0])\n",
    "        plt.plot(dataSet[i,0],dataSet[i,1],mark[markIndex])\n",
    "    mark = ['Dr', 'Db', 'Dg', 'Dk', '^b', '+b', 'sb', 'db', '<b', 'pb']\n",
    "    for i in range(k):\n",
    "        plt.plot(ncent[i,0],ncent[i,1],mark[i],markersize=8)\n",
    "    plt.show()\n",
    "    \n",
    "def main():\n",
    "    k = 3\n",
    "    dataMat = mat(loadtxt('D:/Python大数据/testSet.txt'))\n",
    "    myCent,myDataSet = kmeans(dataMat,k)\n",
    "    show(dataMat,k,myCent,myDataSet)\n",
    "    \n",
    "if __name__ == '__main__':\n",
    "    main()\n",
    "        "
   ]
  }
 ],
 "metadata": {
  "kernelspec": {
   "display_name": "Python 3",
   "language": "python",
   "name": "python3"
  },
  "language_info": {
   "codemirror_mode": {
    "name": "ipython",
    "version": 3
   },
   "file_extension": ".py",
   "mimetype": "text/x-python",
   "name": "python",
   "nbconvert_exporter": "python",
   "pygments_lexer": "ipython3",
   "version": "3.6.5"
  }
 },
 "nbformat": 4,
 "nbformat_minor": 2
}
