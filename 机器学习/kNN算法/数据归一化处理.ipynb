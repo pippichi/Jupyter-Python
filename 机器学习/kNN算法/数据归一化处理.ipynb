{
 "cells": [
  {
   "cell_type": "markdown",
   "metadata": {},
   "source": [
    "# 数据归一化处理"
   ]
  },
  {
   "cell_type": "code",
   "execution_count": 1,
   "metadata": {},
   "outputs": [],
   "source": [
    "import numpy as np\n",
    "import matplotlib.pyplot as plt"
   ]
  },
  {
   "cell_type": "markdown",
   "metadata": {},
   "source": [
    "## 最值归一化 Normalization"
   ]
  },
  {
   "cell_type": "code",
   "execution_count": 4,
   "metadata": {},
   "outputs": [],
   "source": [
    "x = np.random.randint(0,100,size=100)"
   ]
  },
  {
   "cell_type": "code",
   "execution_count": 5,
   "metadata": {},
   "outputs": [
    {
     "data": {
      "text/plain": [
       "array([99, 44, 38, 19, 55,  5, 98, 86, 50, 52, 80, 21, 21, 44, 73, 91, 95,\n",
       "       64, 15, 66,  8, 93, 92, 22, 20, 87, 19, 29, 88, 65, 91, 34, 89, 85,\n",
       "        5, 13,  3, 62, 61, 83, 69, 65, 32, 44, 32, 88, 49, 71, 16, 16, 13,\n",
       "       75, 62,  6, 91, 61, 59, 36, 27, 37,  6, 51, 33, 73, 77, 18, 97, 58,\n",
       "       60, 21,  5, 47, 64, 91, 68, 59,  3, 20, 13, 81, 65, 79, 31, 31, 41,\n",
       "       69, 94, 59, 25, 86,  8, 12, 69, 42, 78, 95, 30, 12, 78, 28])"
      ]
     },
     "execution_count": 5,
     "metadata": {},
     "output_type": "execute_result"
    }
   ],
   "source": [
    "x"
   ]
  },
  {
   "cell_type": "code",
   "execution_count": 6,
   "metadata": {},
   "outputs": [
    {
     "data": {
      "text/plain": [
       "array([1.        , 0.42708333, 0.36458333, 0.16666667, 0.54166667,\n",
       "       0.02083333, 0.98958333, 0.86458333, 0.48958333, 0.51041667,\n",
       "       0.80208333, 0.1875    , 0.1875    , 0.42708333, 0.72916667,\n",
       "       0.91666667, 0.95833333, 0.63541667, 0.125     , 0.65625   ,\n",
       "       0.05208333, 0.9375    , 0.92708333, 0.19791667, 0.17708333,\n",
       "       0.875     , 0.16666667, 0.27083333, 0.88541667, 0.64583333,\n",
       "       0.91666667, 0.32291667, 0.89583333, 0.85416667, 0.02083333,\n",
       "       0.10416667, 0.        , 0.61458333, 0.60416667, 0.83333333,\n",
       "       0.6875    , 0.64583333, 0.30208333, 0.42708333, 0.30208333,\n",
       "       0.88541667, 0.47916667, 0.70833333, 0.13541667, 0.13541667,\n",
       "       0.10416667, 0.75      , 0.61458333, 0.03125   , 0.91666667,\n",
       "       0.60416667, 0.58333333, 0.34375   , 0.25      , 0.35416667,\n",
       "       0.03125   , 0.5       , 0.3125    , 0.72916667, 0.77083333,\n",
       "       0.15625   , 0.97916667, 0.57291667, 0.59375   , 0.1875    ,\n",
       "       0.02083333, 0.45833333, 0.63541667, 0.91666667, 0.67708333,\n",
       "       0.58333333, 0.        , 0.17708333, 0.10416667, 0.8125    ,\n",
       "       0.64583333, 0.79166667, 0.29166667, 0.29166667, 0.39583333,\n",
       "       0.6875    , 0.94791667, 0.58333333, 0.22916667, 0.86458333,\n",
       "       0.05208333, 0.09375   , 0.6875    , 0.40625   , 0.78125   ,\n",
       "       0.95833333, 0.28125   , 0.09375   , 0.78125   , 0.26041667])"
      ]
     },
     "execution_count": 6,
     "metadata": {},
     "output_type": "execute_result"
    }
   ],
   "source": [
    "(x-np.min(x))/(np.max(x)-np.min(x))"
   ]
  },
  {
   "cell_type": "code",
   "execution_count": 12,
   "metadata": {},
   "outputs": [],
   "source": [
    "X = np.random.randint(0.,100.,(50,2))"
   ]
  },
  {
   "cell_type": "code",
   "execution_count": 13,
   "metadata": {},
   "outputs": [],
   "source": [
    "X = np.array(X,dtype=float)"
   ]
  },
  {
   "cell_type": "code",
   "execution_count": 14,
   "metadata": {},
   "outputs": [
    {
     "data": {
      "text/plain": [
       "array([[84., 28.],\n",
       "       [54., 13.],\n",
       "       [20., 18.],\n",
       "       [61., 91.],\n",
       "       [23.,  8.],\n",
       "       [52., 39.],\n",
       "       [40.,  2.],\n",
       "       [73., 90.],\n",
       "       [65., 86.],\n",
       "       [92., 66.]])"
      ]
     },
     "execution_count": 14,
     "metadata": {},
     "output_type": "execute_result"
    }
   ],
   "source": [
    "X[:10,:]"
   ]
  },
  {
   "cell_type": "code",
   "execution_count": 15,
   "metadata": {},
   "outputs": [],
   "source": [
    "for i in range(X.shape[1]):\n",
    "    X[:,i] = (X[:,i] - np.min(X[:,i]))/(np.max([X[:,i]])-np.min(X[:,i]))"
   ]
  },
  {
   "cell_type": "code",
   "execution_count": 18,
   "metadata": {},
   "outputs": [
    {
     "data": {
      "text/plain": [
       "array([[0.85714286, 0.27659574],\n",
       "       [0.55102041, 0.11702128],\n",
       "       [0.20408163, 0.17021277],\n",
       "       [0.62244898, 0.94680851],\n",
       "       [0.23469388, 0.06382979],\n",
       "       [0.53061224, 0.39361702],\n",
       "       [0.40816327, 0.        ],\n",
       "       [0.74489796, 0.93617021],\n",
       "       [0.66326531, 0.89361702],\n",
       "       [0.93877551, 0.68085106]])"
      ]
     },
     "execution_count": 18,
     "metadata": {},
     "output_type": "execute_result"
    }
   ],
   "source": [
    "X[:10,:]"
   ]
  },
  {
   "cell_type": "code",
   "execution_count": 20,
   "metadata": {},
   "outputs": [
    {
     "data": {
      "image/png": "[encoded data removed]",
      "text/plain": [
       "<Figure size 432x288 with 1 Axes>"
      ]
     },
     "metadata": {},
     "output_type": "display_data"
    }
   ],
   "source": [
    "plt.scatter(X[:,0],X[:,1])\n",
    "plt.show()"
   ]
  },
  {
   "cell_type": "code",
   "execution_count": 21,
   "metadata": {},
   "outputs": [
    {
     "data": {
      "text/plain": [
       "0.5481632653061225"
      ]
     },
     "execution_count": 21,
     "metadata": {},
     "output_type": "execute_result"
    }
   ],
   "source": [
    "np.mean(X[:,0])"
   ]
  },
  {
   "cell_type": "code",
   "execution_count": 23,
   "metadata": {},
   "outputs": [
    {
     "data": {
      "text/plain": [
       "0.31592495906217033"
      ]
     },
     "execution_count": 23,
     "metadata": {},
     "output_type": "execute_result"
    }
   ],
   "source": [
    "np.std(X[:,0])"
   ]
  },
  {
   "cell_type": "code",
   "execution_count": 24,
   "metadata": {},
   "outputs": [
    {
     "data": {
      "text/plain": [
       "0.5123404255319148"
      ]
     },
     "execution_count": 24,
     "metadata": {},
     "output_type": "execute_result"
    }
   ],
   "source": [
    "np.mean(X[:,1])"
   ]
  },
  {
   "cell_type": "code",
   "execution_count": 25,
   "metadata": {},
   "outputs": [
    {
     "data": {
      "text/plain": [
       "0.319647553758529"
      ]
     },
     "execution_count": 25,
     "metadata": {},
     "output_type": "execute_result"
    }
   ],
   "source": [
    "np.std(X[:,1])"
   ]
  },
  {
   "cell_type": "markdown",
   "metadata": {},
   "source": [
    "## 均值方差归一化Standardization"
   ]
  },
  {
   "cell_type": "code",
   "execution_count": 29,
   "metadata": {},
   "outputs": [],
   "source": [
    "X2 = np.random.randint(0,100,(50,2))"
   ]
  },
  {
   "cell_type": "code",
   "execution_count": 30,
   "metadata": {},
   "outputs": [],
   "source": [
    "X2 = np.array(x2,dtype=float)"
   ]
  },
  {
   "cell_type": "code",
   "execution_count": 34,
   "metadata": {},
   "outputs": [],
   "source": [
    "for i in range(X2.shape[1]):\n",
    "    X2[:,i] = (X2[:,i]-np.mean(X2[:,i]))/np.std(X2[:,i])"
   ]
  },
  {
   "cell_type": "code",
   "execution_count": 36,
   "metadata": {},
   "outputs": [
    {
     "data": {
      "image/png": "[encoded data removed]",
      "text/plain": [
       "<Figure size 432x288 with 1 Axes>"
      ]
     },
     "metadata": {},
     "output_type": "display_data"
    }
   ],
   "source": [
    "plt.scatter(X2[:,0],X2[:,1])\n",
    "plt.show()"
   ]
  },
  {
   "cell_type": "code",
   "execution_count": 37,
   "metadata": {},
   "outputs": [
    {
     "data": {
      "text/plain": [
       "2.4424906541753444e-17"
      ]
     },
     "execution_count": 37,
     "metadata": {},
     "output_type": "execute_result"
    }
   ],
   "source": [
    "np.mean(X2[:,0])"
   ]
  },
  {
   "cell_type": "code",
   "execution_count": 38,
   "metadata": {},
   "outputs": [
    {
     "data": {
      "text/plain": [
       "1.0"
      ]
     },
     "execution_count": 38,
     "metadata": {},
     "output_type": "execute_result"
    }
   ],
   "source": [
    "np.std(X2[:,0])"
   ]
  },
  {
   "cell_type": "code",
   "execution_count": null,
   "metadata": {},
   "outputs": [],
   "source": []
  }
 ],
 "metadata": {
  "kernelspec": {
   "display_name": "Python 3",
   "language": "python",
   "name": "python3"
  },
  "language_info": {
   "codemirror_mode": {
    "name": "ipython",
    "version": 3
   },
   "file_extension": ".py",
   "mimetype": "text/x-python",
   "name": "python",
   "nbconvert_exporter": "python",
   "pygments_lexer": "ipython3",
   "version": "3.7.0"
  }
 },
 "nbformat": 4,
 "nbformat_minor": 2
}
