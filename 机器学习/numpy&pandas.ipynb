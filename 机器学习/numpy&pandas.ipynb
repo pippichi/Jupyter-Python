{
 "cells": [
  {
   "cell_type": "code",
   "execution_count": 9,
   "metadata": {},
   "outputs": [
    {
     "name": "stdout",
     "output_type": "stream",
     "text": [
      "<class 'numpy.matrixlib.defmatrix.matrix'>\n",
      "<class 'numpy.ndarray'>\n",
      "number of dim:  2\n",
      "shape: (3, 3)\n",
      "size:  9\n"
     ]
    }
   ],
   "source": [
    "import numpy as np\n",
    "array = np.array([[1,2,3],\n",
    "                  [3,4,5],\n",
    "                  [4,5,6]])\n",
    "array2 = np.mat([[1,2,3],[3,4,5],[4,5,6]])\n",
    "print(type(array2))\n",
    "print(type(array))\n",
    "print(\"number of dim: \",array.ndim)\n",
    "print(\"shape:\",array.shape)\n",
    "print(\"size: \",array.size)"
   ]
  },
  {
   "cell_type": "code",
   "execution_count": 14,
   "metadata": {},
   "outputs": [
    {
     "name": "stdout",
     "output_type": "stream",
     "text": [
      "float64\n",
      "[[1. 2. 3.]\n",
      " [3. 4. 5.]\n",
      " [4. 5. 6.]]\n"
     ]
    }
   ],
   "source": [
    "import numpy as np\n",
    "array = np.array([[1,2,3],\n",
    "                  [3,4,5],\n",
    "                  [4,5,6]],dtype=np.float)\n",
    "print(array.dtype)\n",
    "print(array)"
   ]
  },
  {
   "cell_type": "code",
   "execution_count": 3,
   "metadata": {},
   "outputs": [
    {
     "name": "stdout",
     "output_type": "stream",
     "text": [
      "[[0 0 0 0]\n",
      " [0 0 0 0]\n",
      " [0 0 0 0]]\n",
      "[[1 1]\n",
      " [1 1]\n",
      " [1 1]]\n",
      "[[0.00000000e+000 0.00000000e+000 0.00000000e+000]\n",
      " [0.00000000e+000 0.00000000e+000 2.37151510e-321]\n",
      " [5.89914830e-312 0.00000000e+000 1.89146896e-307]]\n",
      "[[1 2 3]\n",
      " [4 5 6]\n",
      " [7 8 9]]\n",
      "[[ 1  4]\n",
      " [ 7 10]]\n"
     ]
    }
   ],
   "source": [
    "import numpy as np\n",
    "a=np.zeros((3,4),dtype=np.int)\n",
    "print(a)\n",
    "b=np.ones((3,2),dtype=np.int)\n",
    "print(b)\n",
    "c=np.empty((3,3))\n",
    "print(c)\n",
    "d=np.arange(1,10).reshape((3,3))\n",
    "print(d)\n",
    "e=np.linspace(1,10,4,dtype=np.int).reshape((2,2))#4是指分为4部分\n",
    "print(e)"
   ]
  },
  {
   "cell_type": "code",
   "execution_count": 16,
   "metadata": {},
   "outputs": [
    {
     "name": "stdout",
     "output_type": "stream",
     "text": [
      "[[1 1 1]\n",
      " [2 2 2]] \n",
      " [[0 1 2]\n",
      " [3 4 5]]\n",
      "[[ 1  0 -1]\n",
      " [-1 -2 -3]]\n",
      "[[8.41470985 8.41470985 8.41470985]\n",
      " [9.09297427 9.09297427 9.09297427]]\n",
      "[[ True  True  True]\n",
      " [False False False]]\n",
      "[[False False False]\n",
      " [ True False False]]\n"
     ]
    }
   ],
   "source": [
    "import numpy as np\n",
    "a=np.array([[1,1,1],\n",
    "           [2,2,2]])\n",
    "b=np.arange(6).reshape((2,3))\n",
    "c=a-b\n",
    "print(a,\"\\n\",b)\n",
    "print(c)\n",
    "c=10*np.sin(a)\n",
    "print(c)\n",
    "print(b<3)\n",
    "print(b==3)"
   ]
  },
  {
   "cell_type": "code",
   "execution_count": 2,
   "metadata": {},
   "outputs": [
    {
     "name": "stdout",
     "output_type": "stream",
     "text": [
      "[[0 1]\n",
      " [2 3]]\n",
      "[[0 2]\n",
      " [4 9]]\n",
      "[[ 4  7]\n",
      " [ 6 11]]\n"
     ]
    }
   ],
   "source": [
    "import numpy as np\n",
    "a=np.array([[1,2],\n",
    "            [2,3]])\n",
    "b=np.arange(4).reshape((2,2))\n",
    "print(b)\n",
    "c=a*b\n",
    "print(c)\n",
    "d_dot2=a.dot(b)\n",
    "d_dot=np.dot(a,b)\n",
    "print(d_dot2)"
   ]
  },
  {
   "cell_type": "code",
   "execution_count": 6,
   "metadata": {},
   "outputs": [
    {
     "name": "stdout",
     "output_type": "stream",
     "text": [
      "[[0.61957844 0.66581467 0.71074552]\n",
      " [0.07497898 0.05044102 0.1621437 ]\n",
      " [0.07967159 0.35929057 0.54046976]]\n",
      "3.2631342512203423\n",
      "0.7107455182707695\n",
      "0.05044102495775471\n",
      "[0.71074552 0.1621437  0.54046976]\n",
      "[0.61957844 0.66581467 0.71074552]\n"
     ]
    }
   ],
   "source": [
    "import numpy as np\n",
    "a=np.random.random((3,3))\n",
    "print(a)\n",
    "print(np.sum(a))\n",
    "print(np.max(a))\n",
    "print(np.min(a))\n",
    "print(np.max(a,axis=1))\n",
    "print(np.max(a,axis=0))"
   ]
  },
  {
   "cell_type": "code",
   "execution_count": 2,
   "metadata": {},
   "outputs": [
    {
     "name": "stdout",
     "output_type": "stream",
     "text": [
      "[[ 2  3  4  5]\n",
      " [ 6  7  8  9]\n",
      " [10 11 12 13]]\n",
      "11\n",
      "11\n",
      "7.5\n",
      "7.5\n",
      "7.5\n",
      "7.5\n",
      "[[ 2  5  9 14]\n",
      " [20 27 35 44]\n",
      " [54 65 77 90]]\n",
      "[[1 1 1]\n",
      " [1 1 1]\n",
      " [1 1 1]]\n",
      "(array([0, 0, 0, 0, 1, 1, 1, 1, 2, 2, 2, 2], dtype=int64), array([0, 1, 2, 3, 0, 1, 2, 3, 0, 1, 2, 3], dtype=int64))\n"
     ]
    }
   ],
   "source": [
    "import numpy as np \n",
    "A=np.arange(2,14).reshape((3,4))\n",
    "print(A)\n",
    "print(np.argmax(A))#最大值索引\n",
    "print(A.argmax())\n",
    "print(np.mean(A))\n",
    "print(A.mean())\n",
    "print(np.average(A))\n",
    "print(np.median(A))\n",
    "print(np.cumsum(A).reshape((3,4)))#累加\n",
    "print(np.diff(A))#前两个数的差\n",
    "print(np.nonzero(A))#找出不是0的数,,,显示的是第几行第几列的数非零"
   ]
  },
  {
   "cell_type": "code",
   "execution_count": 9,
   "metadata": {},
   "outputs": [
    {
     "name": "stdout",
     "output_type": "stream",
     "text": [
      "[[11 12 13 14]\n",
      " [ 7  8  9 10]\n",
      " [ 3  4  5  6]]\n",
      "[[332 302 272 242]\n",
      " [302 275 248 221]\n",
      " [272 248 224 200]\n",
      " [242 221 200 179]]\n",
      "[[14 10  6]\n",
      " [13  9  5]\n",
      " [12  8  4]\n",
      " [11  7  3]]\n",
      "[[9 9 9 9]\n",
      " [9 9 8 7]\n",
      " [6 5 5 5]]\n",
      "10\n",
      "10\n",
      "[[14 13 12 11]\n",
      " [10  9  8  7]\n",
      " [ 6  5  4  3]]\n",
      "[13  9  5]\n"
     ]
    }
   ],
   "source": [
    "import numpy as np\n",
    "A=np.arange(14,2,-1).reshape((3,4))\n",
    "print(np.sort(A))#逐行排序\n",
    "print(np.transpose(A).dot(A))\n",
    "print(A.T)\n",
    "print(np.clip(A,5,9))\n",
    "print(A[1][0])\n",
    "print(A[1,0])\n",
    "print(A)\n",
    "print(A[:,1])"
   ]
  },
  {
   "cell_type": "code",
   "execution_count": 8,
   "metadata": {},
   "outputs": [
    {
     "name": "stdout",
     "output_type": "stream",
     "text": [
      "[[ 2  3  4  5]\n",
      " [ 6  7  8  9]\n",
      " [10 11 12 13]]\n",
      "[7 8]\n",
      "[2 3 4 5]\n",
      "[6 7 8 9]\n",
      "[10 11 12 13]\n",
      "[ 2  6 10]\n",
      "[ 3  7 11]\n",
      "[ 4  8 12]\n",
      "[ 5  9 13]\n",
      "[ 2  3  4  5  6  7  8  9 10 11 12 13]\n",
      "2\n",
      "3\n",
      "4\n",
      "5\n",
      "6\n",
      "7\n",
      "8\n",
      "9\n",
      "10\n",
      "11\n",
      "12\n",
      "13\n"
     ]
    }
   ],
   "source": [
    "import numpy as np\n",
    "A=np.arange(2,14).reshape((3,4))\n",
    "print(A)\n",
    "print(A[1,1:3])\n",
    "for raw in A:\n",
    "    print(raw)\n",
    "for column in A.T:\n",
    "    print(column)\n",
    "print(A.flatten())#与A.flat的区别在于它可以返回值，而A.flat是个迭代器，不return值\n",
    "for item in A.flat:\n",
    "    print(item)"
   ]
  },
  {
   "cell_type": "code",
   "execution_count": 1,
   "metadata": {},
   "outputs": [
    {
     "name": "stdout",
     "output_type": "stream",
     "text": [
      "[[1]\n",
      " [2]\n",
      " [3]\n",
      " [2]\n",
      " [3]\n",
      " [4]]\n",
      "(3, 1)\n",
      "[[[1]]\n",
      "\n",
      " [[2]]\n",
      "\n",
      " [[3]]]\n",
      "(1, 3, 1)\n",
      "[[1 2 1 2 2]\n",
      " [2 3 2 3 3]\n",
      " [3 4 3 4 4]]\n",
      "[[1]\n",
      " [2]\n",
      " [3]\n",
      " [2]\n",
      " [3]\n",
      " [4]\n",
      " [1]\n",
      " [2]\n",
      " [3]\n",
      " [2]\n",
      " [3]\n",
      " [4]\n",
      " [2]\n",
      " [3]\n",
      " [4]]\n"
     ]
    }
   ],
   "source": [
    "import numpy as np\n",
    "A=np.array([1,2,3])[:,np.newaxis]\n",
    "B=np.array([2,3,4])[:,np.newaxis]\n",
    "C=np.vstack((A,B))\n",
    "C=np.hstack((A,B))\n",
    "print(C)\n",
    "print(B.reshape(3,1).shape)\n",
    "print(A[:,np.newaxis])\n",
    "print(A[np.newaxis,:].shape)\n",
    "C=np.concatenate((A,B,A,B,B),axis=1)\n",
    "print(C)\n",
    "C=np.concatenate((A,B,A,B,B),axis=0)\n",
    "print(C)"
   ]
  },
  {
   "cell_type": "code",
   "execution_count": 23,
   "metadata": {},
   "outputs": [
    {
     "name": "stdout",
     "output_type": "stream",
     "text": [
      "[[ 0  1  2  3]\n",
      " [ 4  5  6  7]\n",
      " [ 8  9 10 11]]\n",
      "[array([[0, 1],\n",
      "       [4, 5],\n",
      "       [8, 9]]), array([[ 2,  3],\n",
      "       [ 6,  7],\n",
      "       [10, 11]])]\n",
      "[array([[0, 1, 2, 3],\n",
      "       [4, 5, 6, 7]]), array([[ 8,  9, 10, 11]])]\n",
      "[array([[0, 1, 2, 3]]), array([[4, 5, 6, 7]]), array([[ 8,  9, 10, 11]])]\n",
      "[array([[0],\n",
      "       [4],\n",
      "       [8]]), array([[1],\n",
      "       [5],\n",
      "       [9]]), array([[ 2],\n",
      "       [ 6],\n",
      "       [10]]), array([[ 3],\n",
      "       [ 7],\n",
      "       [11]])]\n"
     ]
    }
   ],
   "source": [
    "import numpy as np\n",
    "A=np.arange(12).reshape((3,4))\n",
    "print(A)\n",
    "print(np.split(A,2,axis=1))#axis表示对行进行操作，把行切成两半\n",
    "print(np.array_split(A,2,axis=0))\n",
    "print(np.vsplit(A,3))\n",
    "print(np.hsplit(A,4))"
   ]
  },
  {
   "cell_type": "code",
   "execution_count": 1,
   "metadata": {},
   "outputs": [
    {
     "data": {
      "text/plain": [
       "False"
      ]
     },
     "execution_count": 1,
     "metadata": {},
     "output_type": "execute_result"
    }
   ],
   "source": [
    "import numpy as np\n",
    "A=np.arange(12)\n",
    "B=A\n",
    "B is A\n",
    "B[1:3]=[22,11]\n",
    "C=A.copy()  #形状和数据都被copy\n",
    "D=A.view()  #形状被copy，数据不copy\n",
    "C is A\n",
    "D is A"
   ]
  },
  {
   "cell_type": "code",
   "execution_count": 5,
   "metadata": {},
   "outputs": [
    {
     "name": "stdout",
     "output_type": "stream",
     "text": [
      "0     1.0\n",
      "1     2.0\n",
      "2     3.0\n",
      "3     NaN\n",
      "4    44.0\n",
      "5     1.0\n",
      "dtype: float64\n",
      "['2018-05-30T00:00:00.000000000' '2018-05-31T00:00:00.000000000'\n",
      " '2018-06-01T00:00:00.000000000' '2018-06-02T00:00:00.000000000'\n",
      " '2018-06-03T00:00:00.000000000' '2018-06-04T00:00:00.000000000']\n",
      "                   a         b         c         d\n",
      "2018-05-30 -1.554651 -1.554651 -1.554651 -1.554651\n",
      "2018-05-31 -1.554651 -1.554651 -1.554651 -1.554651\n",
      "2018-06-01 -1.554651 -1.554651 -1.554651 -1.554651\n",
      "2018-06-02 -1.554651 -1.554651 -1.554651 -1.554651\n",
      "2018-06-03 -1.554651 -1.554651 -1.554651 -1.554651\n",
      "2018-06-04 -1.554651 -1.554651 -1.554651 -1.554651\n",
      "         A    C    D\n",
      "count  4.0  4.0  4.0\n",
      "mean   1.0  1.0  3.0\n",
      "std    0.0  0.0  0.0\n",
      "min    1.0  1.0  3.0\n",
      "25%    1.0  1.0  3.0\n",
      "50%    1.0  1.0  3.0\n",
      "75%    1.0  1.0  3.0\n",
      "max    1.0  1.0  3.0\n",
      "                     0                    1                    2  \\\n",
      "A                    1                    1                    1   \n",
      "B  2018-01-01 00:00:00  2018-01-01 00:00:00  2018-01-01 00:00:00   \n",
      "C                    1                    1                    1   \n",
      "D                    3                    3                    3   \n",
      "E                 test                train                 test   \n",
      "F                  foo                  foo                  foo   \n",
      "\n",
      "                     3  \n",
      "A                    1  \n",
      "B  2018-01-01 00:00:00  \n",
      "C                    1  \n",
      "D                    3  \n",
      "E                train  \n",
      "F                  foo  \n",
      "A           float64\n",
      "B    datetime64[ns]\n",
      "C           float32\n",
      "D             int32\n",
      "E          category\n",
      "F            object\n",
      "dtype: object\n",
      "RangeIndex(start=0, stop=4, step=1)\n",
      "Index(['A', 'B', 'C', 'D', 'E', 'F'], dtype='object')\n",
      "[[1.0 Timestamp('2018-01-01 00:00:00') 1.0 3 'test' 'foo']\n",
      " [1.0 Timestamp('2018-01-01 00:00:00') 1.0 3 'train' 'foo']\n",
      " [1.0 Timestamp('2018-01-01 00:00:00') 1.0 3 'test' 'foo']\n",
      " [1.0 Timestamp('2018-01-01 00:00:00') 1.0 3 'train' 'foo']]\n",
      "     A          B    C  D      E    F\n",
      "3  1.0 2018-01-01  1.0  3  train  foo\n",
      "2  1.0 2018-01-01  1.0  3   test  foo\n",
      "1  1.0 2018-01-01  1.0  3  train  foo\n",
      "0  1.0 2018-01-01  1.0  3   test  foo\n"
     ]
    },
    {
     "data": {
      "text/html": [
       "<div>\n",
       "<style scoped>\n",
       "    .dataframe tbody tr th:only-of-type {\n",
       "        vertical-align: middle;\n",
       "    }\n",
       "\n",
       "    .dataframe tbody tr th {\n",
       "        vertical-align: top;\n",
       "    }\n",
       "\n",
       "    .dataframe thead th {\n",
       "        text-align: right;\n",
       "    }\n",
       "</style>\n",
       "<table border=\"1\" class=\"dataframe\">\n",
       "  <thead>\n",
       "    <tr style=\"text-align: right;\">\n",
       "      <th></th>\n",
       "      <th>A</th>\n",
       "      <th>B</th>\n",
       "      <th>C</th>\n",
       "      <th>D</th>\n",
       "      <th>E</th>\n",
       "      <th>F</th>\n",
       "    </tr>\n",
       "  </thead>\n",
       "  <tbody>\n",
       "    <tr>\n",
       "      <th>0</th>\n",
       "      <td>1.0</td>\n",
       "      <td>2018-01-01</td>\n",
       "      <td>1.0</td>\n",
       "      <td>3</td>\n",
       "      <td>test</td>\n",
       "      <td>foo</td>\n",
       "    </tr>\n",
       "    <tr>\n",
       "      <th>2</th>\n",
       "      <td>1.0</td>\n",
       "      <td>2018-01-01</td>\n",
       "      <td>1.0</td>\n",
       "      <td>3</td>\n",
       "      <td>test</td>\n",
       "      <td>foo</td>\n",
       "    </tr>\n",
       "    <tr>\n",
       "      <th>1</th>\n",
       "      <td>1.0</td>\n",
       "      <td>2018-01-01</td>\n",
       "      <td>1.0</td>\n",
       "      <td>3</td>\n",
       "      <td>train</td>\n",
       "      <td>foo</td>\n",
       "    </tr>\n",
       "    <tr>\n",
       "      <th>3</th>\n",
       "      <td>1.0</td>\n",
       "      <td>2018-01-01</td>\n",
       "      <td>1.0</td>\n",
       "      <td>3</td>\n",
       "      <td>train</td>\n",
       "      <td>foo</td>\n",
       "    </tr>\n",
       "  </tbody>\n",
       "</table>\n",
       "</div>"
      ],
      "text/plain": [
       "     A          B    C  D      E    F\n",
       "0  1.0 2018-01-01  1.0  3   test  foo\n",
       "2  1.0 2018-01-01  1.0  3   test  foo\n",
       "1  1.0 2018-01-01  1.0  3  train  foo\n",
       "3  1.0 2018-01-01  1.0  3  train  foo"
      ]
     },
     "execution_count": 5,
     "metadata": {},
     "output_type": "execute_result"
    }
   ],
   "source": [
    "import numpy as np\n",
    "import pandas as pd\n",
    "s=pd.Series([1,2,3,np.nan,44,1])\n",
    "print(s)\n",
    "dates=pd.date_range('20180530',periods=6)\n",
    "print(dates)\n",
    "df=pd.DataFrame(np.random.randn(),index=dates,columns=['a','b','c','d'])\n",
    "print(df)\n",
    "df1=pd.DataFrame(np.arange(12).reshape((3,4)))\n",
    "df1\n",
    "df2=pd.DataFrame({'A':1.,\n",
    "                  'B':pd.Timestamp('20180101'),\n",
    "                  'C':pd.Series(1,index=range(4),dtype='float32'),\n",
    "                  'D':np.array([3]*4,dtype='int32'),\n",
    "                  'E':pd.Categorical([\"test\",\"train\",\"test\",\"train\"]),\n",
    "                  'F':'foo'})\n",
    "print(df2.describe())\n",
    "print(df2.T)\n",
    "print(df2.dtypes)\n",
    "print(df2.index)\n",
    "print(df2.columns)\n",
    "print(df2.values)\n",
    "df2.describe()\n",
    "df2.T\n",
    "print(df2.sort_index(axis=0,ascending=False))\n",
    "df2.sort_values(by='E')"
   ]
  },
  {
   "cell_type": "code",
   "execution_count": 38,
   "metadata": {},
   "outputs": [
    {
     "name": "stdout",
     "output_type": "stream",
     "text": [
      "             A   B   C   D\n",
      "2018-01-01   0   1   2   3\n",
      "2018-01-02   4   5   6   7\n",
      "2018-01-03   8   9  10  11\n",
      "2018-01-04  12  13  14  15\n",
      "2018-01-05  16  17  18  19\n",
      "2018-01-06  20  21  22  23\n",
      "A    4\n",
      "B    5\n",
      "C    6\n",
      "D    7\n",
      "Name: 2018-01-02 00:00:00, dtype: int32\n",
      "             A   B\n",
      "2018-01-01   0   1\n",
      "2018-01-02   4   5\n",
      "2018-01-03   8   9\n",
      "2018-01-04  12  13\n",
      "2018-01-05  16  17\n",
      "2018-01-06  20  21\n",
      "A    4\n",
      "B    5\n",
      "Name: 2018-01-02 00:00:00, dtype: int32\n",
      "             B   C\n",
      "2018-01-04  13  14\n",
      "2018-01-05  17  18\n",
      "            A   C\n",
      "2018-01-01  0   2\n",
      "2018-01-02  4   6\n",
      "2018-01-03  8  10\n",
      "             A   B   C   D\n",
      "2018-01-04  12  13  14  15\n",
      "2018-01-05  16  17  18  19\n",
      "2018-01-06  20  21  22  23\n"
     ]
    },
    {
     "name": "stderr",
     "output_type": "stream",
     "text": [
      "D:\\Anaconda\\lib\\site-packages\\ipykernel_launcher.py:14: DeprecationWarning: \n",
      ".ix is deprecated. Please use\n",
      ".loc for label based indexing or\n",
      ".iloc for positional indexing\n",
      "\n",
      "See the documentation here:\n",
      "http://pandas.pydata.org/pandas-docs/stable/indexing.html#ix-indexer-is-deprecated\n",
      "  \n"
     ]
    }
   ],
   "source": [
    "import numpy as np\n",
    "import pandas as pd\n",
    "dates=pd.date_range('20180101',periods=6)\n",
    "df=pd.DataFrame(np.arange(24).reshape((6,4)),index=dates,columns=['A','B','C','D'])\n",
    "print(df)\n",
    "df.A\n",
    "df['A']\n",
    "df[0:3]\n",
    "df['20180101':'20180103']\n",
    "print(df.loc['20180102'])\n",
    "print(df.loc[:,['A','B']])\n",
    "print(df.loc['20180102',['A','B']])\n",
    "print(df.iloc[3:5,1:3])\n",
    "print(df.ix[:3,['A','C']])\n",
    "print(df[df.A>8])"
   ]
  },
  {
   "cell_type": "code",
   "execution_count": 56,
   "metadata": {},
   "outputs": [
    {
     "name": "stdout",
     "output_type": "stream",
     "text": [
      "             A     B     C   D\n",
      "2018-01-01   0   NaN   2.0   3\n",
      "2018-01-02   4   5.0   NaN   7\n",
      "2018-01-03   8   9.0  10.0  11\n",
      "2018-01-04  12  13.0  14.0  15\n",
      "2018-01-05  16  17.0  18.0  19\n",
      "2018-01-06  20  21.0  22.0  23\n",
      "             A   D\n",
      "2018-01-01   0   3\n",
      "2018-01-02   4   7\n",
      "2018-01-03   8  11\n",
      "2018-01-04  12  15\n",
      "2018-01-05  16  19\n",
      "2018-01-06  20  23\n",
      "             A     B     C   D\n",
      "2018-01-01   0   0.0   2.0   3\n",
      "2018-01-02   4   5.0   0.0   7\n",
      "2018-01-03   8   9.0  10.0  11\n",
      "2018-01-04  12  13.0  14.0  15\n",
      "2018-01-05  16  17.0  18.0  19\n",
      "2018-01-06  20  21.0  22.0  23\n",
      "                A      B      C      D\n",
      "2018-01-01  False   True  False  False\n",
      "2018-01-02  False  False   True  False\n",
      "2018-01-03  False  False  False  False\n",
      "2018-01-04  False  False  False  False\n",
      "2018-01-05  False  False  False  False\n",
      "2018-01-06  False  False  False  False\n",
      "True\n"
     ]
    }
   ],
   "source": [
    "import numpy as np\n",
    "import pandas as pd\n",
    "dates=pd.date_range('20180101',periods=6)\n",
    "df=pd.DataFrame(np.arange(24).reshape((6,4)),index=dates,columns=['A','B','C','D'])\n",
    "df.iloc[0,1]=np.nan\n",
    "df.iloc[1,2]=np.nan\n",
    "print(df)\n",
    "print(df.dropna(axis=1,how='any'))#how={'any','all'} any表示只要有nan数据就删除，all表示只有全行都是nan才删除\n",
    "df\n",
    "print(df.fillna(value=0))\n",
    "print(df.fillna(method='ffill'))\n",
    "df['A'] = df['A'].ffill()\n",
    "print(df.isnull())\n",
    "print(np.any(df.isnull())==True)"
   ]
  },
  {
   "cell_type": "code",
   "execution_count": 44,
   "metadata": {},
   "outputs": [
    {
     "data": {
      "text/plain": [
       "'C:\\\\Users\\\\HASEE\\\\Desktop'"
      ]
     },
     "execution_count": 44,
     "metadata": {},
     "output_type": "execute_result"
    }
   ],
   "source": [
    "import pandas as pd\n",
    "import os\n",
    "os.getcwd()\n",
    "os.chdir('C:\\\\Users\\\\HASEE\\\\Desktop')\n",
    "os.getcwd()\n",
    "data=pd.read_csv('Student.csv')\n",
    "data.to_pickle('student')\n",
    "data=pd.read_pickle('student')\n",
    "data"
   ]
  },
  {
   "cell_type": "code",
   "execution_count": 40,
   "metadata": {},
   "outputs": [
    {
     "name": "stdout",
     "output_type": "stream",
     "text": [
      "     A    B    C    D\n",
      "0  0.0  0.0  0.0  0.0\n",
      "1  0.0  0.0  0.0  0.0\n",
      "2  0.0  0.0  0.0  0.0\n",
      "     A    B    C    D\n",
      "0  1.0  1.0  1.0  1.0\n",
      "1  1.0  1.0  1.0  1.0\n",
      "2  1.0  1.0  1.0  1.0\n",
      "     A    B    C    D\n",
      "0  2.0  2.0  2.0  2.0\n",
      "1  2.0  2.0  2.0  2.0\n",
      "2  2.0  2.0  2.0  2.0\n",
      "     A    B    C    D\n",
      "0  0.0  0.0  0.0  0.0\n",
      "1  0.0  0.0  0.0  0.0\n",
      "2  0.0  0.0  0.0  0.0\n",
      "3  1.0  1.0  1.0  1.0\n",
      "4  1.0  1.0  1.0  1.0\n",
      "5  1.0  1.0  1.0  1.0\n",
      "6  2.0  2.0  2.0  2.0\n",
      "7  2.0  2.0  2.0  2.0\n",
      "8  2.0  2.0  2.0  2.0\n",
      "     A    B    C    D\n",
      "0  3.0  3.0  3.0  3.0\n",
      "1  3.0  3.0  3.0  3.0\n",
      "2  3.0  3.0  3.0  3.0\n"
     ]
    }
   ],
   "source": [
    "#concatenate\n",
    "import pandas as pd\n",
    "import numpy as np\n",
    "df=pd.DataFrame(np.ones((3,4))*0,columns=['A','B','C','D'])\n",
    "df1=pd.DataFrame(np.ones((3,4))*1,columns=['A','B','C','D'])\n",
    "df2=pd.DataFrame(np.ones((3,4))*2,columns=['A','B','C','D'])\n",
    "print(df)\n",
    "print(df1)\n",
    "print(df2)\n",
    "res=pd.concat([df,df1,df2],axis=0,ignore_index=True)\n",
    "print(res)\n",
    "print(df+df1+df2)"
   ]
  },
  {
   "cell_type": "code",
   "execution_count": 1,
   "metadata": {},
   "outputs": [
    {
     "name": "stdout",
     "output_type": "stream",
     "text": [
      "     A    B    C    D    E\n",
      "1  0.0  0.0  0.0  0.0  NaN\n",
      "2  0.0  0.0  0.0  0.0  NaN\n",
      "3  0.0  0.0  0.0  0.0  NaN\n",
      "2  NaN  1.0  1.0  1.0  1.0\n",
      "3  NaN  1.0  1.0  1.0  1.0\n",
      "4  NaN  1.0  1.0  1.0  1.0\n",
      "     B    C    D\n",
      "0  0.0  0.0  0.0\n",
      "1  0.0  0.0  0.0\n",
      "2  0.0  0.0  0.0\n",
      "3  1.0  1.0  1.0\n",
      "4  1.0  1.0  1.0\n",
      "5  1.0  1.0  1.0\n",
      "     A    B    C    D    B    C    D    E\n",
      "1  0.0  0.0  0.0  0.0  NaN  NaN  NaN  NaN\n",
      "2  0.0  0.0  0.0  0.0  1.0  1.0  1.0  1.0\n",
      "3  0.0  0.0  0.0  0.0  1.0  1.0  1.0  1.0\n",
      "4  NaN  NaN  NaN  NaN  1.0  1.0  1.0  1.0\n",
      "     A    B    C    D    B    C    D    E\n",
      "1  0.0  0.0  0.0  0.0  NaN  NaN  NaN  NaN\n",
      "2  0.0  0.0  0.0  0.0  1.0  1.0  1.0  1.0\n",
      "3  0.0  0.0  0.0  0.0  1.0  1.0  1.0  1.0\n"
     ]
    },
    {
     "name": "stderr",
     "output_type": "stream",
     "text": [
      "D:\\anaconda3\\lib\\site-packages\\ipykernel_launcher.py:6: FutureWarning: Sorting because non-concatenation axis is not aligned. A future version\n",
      "of pandas will change to not sort by default.\n",
      "\n",
      "To accept the future behavior, pass 'sort=False'.\n",
      "\n",
      "To retain the current behavior and silence the warning, pass 'sort=True'.\n",
      "\n",
      "  \n"
     ]
    }
   ],
   "source": [
    "#join{'inner','outer'}\n",
    "import pandas as pd\n",
    "import numpy as np\n",
    "df=pd.DataFrame(np.ones((3,4))*0,columns=['A','B','C','D'],index=[1,2,3])\n",
    "df1=pd.DataFrame(np.ones((3,4))*1,columns=['B','C','D','E'],index=[2,3,4])\n",
    "res=pd.concat([df,df1],join='outer')\n",
    "print(res)\n",
    "res=pd.concat([df,df1],join='inner',ignore_index=True)\n",
    "print(res)\n",
    "res=pd.concat([df,df1],axis=1)\n",
    "print(res)\n",
    "res=pd.concat([df,df1],axis=1,join_axes=[df.index])\n",
    "print(res)"
   ]
  },
  {
   "cell_type": "code",
   "execution_count": 46,
   "metadata": {},
   "outputs": [
    {
     "name": "stdout",
     "output_type": "stream",
     "text": [
      "     A    B    C    D    E\n",
      "0  0.0  0.0  0.0  0.0  NaN\n",
      "1  0.0  0.0  0.0  0.0  NaN\n",
      "2  0.0  0.0  0.0  0.0  NaN\n",
      "3  NaN  1.0  1.0  1.0  1.0\n",
      "4  NaN  1.0  1.0  1.0  1.0\n",
      "5  NaN  1.0  1.0  1.0  1.0\n",
      "     A    B    C    D\n",
      "0  0.0  0.0  0.0  0.0\n",
      "1  0.0  0.0  0.0  0.0\n",
      "2  0.0  0.0  0.0  0.0\n",
      "3  1.0  2.0  3.0  4.0\n"
     ]
    }
   ],
   "source": [
    "#append\n",
    "import pandas as pd\n",
    "import numpy as np\n",
    "df = pd.DataFrame(np.ones((3,4))*0,columns=['A','B','C','D'],index=[1,2,3])\n",
    "df1 = pd.DataFrame(np.ones((3,4))*1,columns=['B','C','D','E'],index=[2,3,4])\n",
    "res = df.append([df1],ignore_index=True)\n",
    "print(res)\n",
    "s1 = pd.Series([1,2,3,4],index=['A','B','C','D'])\n",
    "res = df.append(s1,ignore_index=True)\n",
    "print(res)"
   ]
  },
  {
   "cell_type": "code",
   "execution_count": 49,
   "metadata": {},
   "outputs": [
    {
     "name": "stdout",
     "output_type": "stream",
     "text": [
      "    A   B key\n",
      "0  A0  B0  K0\n",
      "1  A1  B1  K1\n",
      "2  A2  B2  K2\n",
      "3  A3  B3  K3\n",
      "    C   D key\n",
      "0  C0  D0  K0\n",
      "1  C1  D1  K1\n",
      "2  C2  D2  K2\n",
      "3  C3  D3  K3\n",
      "    A   B key   C   D\n",
      "0  A0  B0  K0  C0  D0\n",
      "1  A1  B1  K1  C1  D1\n",
      "2  A2  B2  K2  C2  D2\n",
      "3  A3  B3  K3  C3  D3\n",
      "     A    B key1 key2    C    D\n",
      "0   A0   B0   K0   K0   C0   D0\n",
      "1   A1   B1   K1   K0  NaN  NaN\n",
      "2   A2   B2   K2   K2   C2   D2\n",
      "3   A2   B2   K2   K2   C3   D3\n",
      "4   A3   B3   K3   K1  NaN  NaN\n",
      "5  NaN  NaN   K1   K1   C1   D1\n",
      "    A   B key1 key2   C   D\n",
      "0  A0  B0   K0   K0  C0  D0\n",
      "1  A2  B2   K2   K2  C2  D2\n",
      "2  A2  B2   K2   K2  C3  D3\n",
      "     A    B key1 key2   C   D\n",
      "0   A0   B0   K0   K0  C0  D0\n",
      "1   A2   B2   K2   K2  C2  D2\n",
      "2   A2   B2   K2   K2  C3  D3\n",
      "3  NaN  NaN   K1   K1  C1  D1\n",
      "    A   B key1 key2    C    D\n",
      "0  A0  B0   K0   K0   C0   D0\n",
      "1  A1  B1   K1   K0  NaN  NaN\n",
      "2  A2  B2   K2   K2   C2   D2\n",
      "3  A2  B2   K2   K2   C3   D3\n",
      "4  A3  B3   K3   K1  NaN  NaN\n",
      "     A    B key1 key2    C    D      _merge\n",
      "0   A0   B0   K0   K0   C0   D0        both\n",
      "1   A1   B1   K1   K0  NaN  NaN   left_only\n",
      "2   A2   B2   K2   K2   C2   D2        both\n",
      "3   A2   B2   K2   K2   C3   D3        both\n",
      "4   A3   B3   K3   K1  NaN  NaN   left_only\n",
      "5  NaN  NaN   K1   K1   C1   D1  right_only\n",
      "     A    B key1 key2    C    D indicator_name\n",
      "0   A0   B0   K0   K0   C0   D0           both\n",
      "1   A1   B1   K1   K0  NaN  NaN      left_only\n",
      "2   A2   B2   K2   K2   C2   D2           both\n",
      "3   A2   B2   K2   K2   C3   D3           both\n",
      "4   A3   B3   K3   K1  NaN  NaN      left_only\n",
      "5  NaN  NaN   K1   K1   C1   D1     right_only\n"
     ]
    }
   ],
   "source": [
    "import numpy as np\n",
    "import pandas as pd\n",
    "left = pd.DataFrame({'key':['K0','K1','K2','K3'],\n",
    "                  'A':['A0','A1','A2','A3'],\n",
    "                  'B':['B0','B1','B2','B3']})\n",
    "right = pd.DataFrame({'key':['K0','K1','K2','K3'],\n",
    "                    'C':['C0','C1','C2','C3'],\n",
    "                    'D':['D0','D1','D2','D3'] })\n",
    "print(left)\n",
    "print(right)\n",
    "res = pd.merge(left,right,on='key')\n",
    "print(res)\n",
    "#how={'inner','outer','right','left'}\n",
    "left = pd.DataFrame({'key1':['K0','K1','K2','K3'],\n",
    "                     'key2':['K0','K0','K2','K1'],\n",
    "                  'A':['A0','A1','A2','A3'],\n",
    "                  'B':['B0','B1','B2','B3']})\n",
    "right = pd.DataFrame({'key1':['K0','K1','K2','K2'],\n",
    "                      'key2':['K0','K1','K2','K2'],\n",
    "                    'C':['C0','C1','C2','C3'],\n",
    "                    'D':['D0','D1','D2','D3'] })\n",
    "res = pd.merge(left,right,on=['key1','key2'],how='outer')\n",
    "print(res)\n",
    "res = pd.merge(left,right,on=['key1','key2'],how='inner')\n",
    "print(res)\n",
    "res = pd.merge(left,right,on=['key1','key2'],how='right')\n",
    "print(res)\n",
    "res = pd.merge(left,right,on=['key1','key2'],how='left')\n",
    "print(res)\n",
    "#indicator指示器\n",
    "res = pd.merge(left,right,on=['key1','key2'],how='outer',indicator=True)\n",
    "print(res)\n",
    "res = pd.merge(left,right,on=['key1','key2'],how='outer',indicator='indicator_name')\n",
    "print(res)"
   ]
  },
  {
   "cell_type": "code",
   "execution_count": 25,
   "metadata": {},
   "outputs": [
    {
     "name": "stdout",
     "output_type": "stream",
     "text": [
      "     A   B    C    D indicator_name\n",
      "K0  A0  B0  NaN  NaN      left_only\n",
      "K1  A1  B1   C0   D0           both\n",
      "K1  A1  B1   C1   D1           both\n",
      "K2  A2  B2   C2   D2           both\n",
      "K3  A3  B3   C3   D3           both\n",
      "     A   B   C   D indicator_name\n",
      "K1  A1  B1  C0  D0           both\n",
      "K1  A1  B1  C1  D1           both\n",
      "K2  A2  B2  C2  D2           both\n",
      "K3  A3  B3  C3  D3           both\n"
     ]
    }
   ],
   "source": [
    "import numpy as np\n",
    "import pandas as pd\n",
    "left = pd.DataFrame({'A':['A0','A1','A2','A3'],\n",
    "                  'B':['B0','B1','B2','B3']},\n",
    "                     index=['K0','K1','K2','K3'])\n",
    "right = pd.DataFrame({ 'C':['C0','C1','C2','C3'],\n",
    "                    'D':['D0','D1','D2','D3']},\n",
    "                      index=['K1','K1','K2','K3'])\n",
    "res = pd.merge(left,right,left_index=True,right_index=True,how='outer',indicator='indicator_name')\n",
    "print(res)\n",
    "res = pd.merge(left,right,left_index=True,right_index=True,how='inner',indicator='indicator_name')\n",
    "print(res)"
   ]
  },
  {
   "cell_type": "code",
   "execution_count": 31,
   "metadata": {},
   "outputs": [
    {
     "name": "stdout",
     "output_type": "stream",
     "text": [
      "   age   k\n",
      "0    1  K0\n",
      "1    2  K1\n",
      "2    3  K2\n",
      "   age   k\n",
      "0    4  K0\n",
      "1    5  K2\n",
      "2    6  K2\n",
      "   age_boys   k  age_girls indicator_name\n",
      "0         1  K0        4.0           both\n",
      "1         2  K1        NaN      left_only\n",
      "2         3  K2        5.0           both\n",
      "3         3  K2        6.0           both\n",
      "   age_boys   k  age_girls indicator_name\n",
      "0         1  K0          4           both\n",
      "1         3  K2          5           both\n",
      "2         3  K2          6           both\n"
     ]
    }
   ],
   "source": [
    "import numpy as np\n",
    "import pandas as pd\n",
    "boys = pd.DataFrame({'age':[1,2,3],\n",
    "                    'k':['K0','K1','K2']})\n",
    "girls = pd.DataFrame({'age':[4,5,6],\n",
    "                     'k':['K0','K2','K2']})\n",
    "print(boys)\n",
    "print(girls)\n",
    "res = pd.merge(boys,girls,on='k',how='outer',indicator='indicator_name',suffixes=['_boys','_girls'])\n",
    "print(res)\n",
    "res = pd.merge(boys,girls,on='k',how='inner',indicator='indicator_name',suffixes=['_boys','_girls'])#suffixes是后缀名\n",
    "print(res)"
   ]
  },
  {
   "cell_type": "code",
   "execution_count": 4,
   "metadata": {},
   "outputs": [
    {
     "data": {
      "image/png": "[encoded data removed]",
      "text/plain": [
       "<Figure size 432x288 with 1 Axes>"
      ]
     },
     "metadata": {
      "needs_background": "light"
     },
     "output_type": "display_data"
    },
    {
     "name": "stdout",
     "output_type": "stream",
     "text": [
      "          A         B         C         D         E\n",
      "0 -1.763030 -0.835609 -0.425356  0.252888  1.175003\n",
      "1 -2.726403 -0.114017 -0.450038 -0.560380 -1.303947\n",
      "2 -2.229200 -0.595354  0.222626 -1.994019 -1.745811\n",
      "3 -2.255648 -1.136362  0.091682 -2.504704 -1.143366\n",
      "4 -1.907576 -1.392146  1.003047 -4.638943 -1.254065\n",
      "             A          B          C          D          E\n",
      "995  -8.210582 -30.002901 -21.409884 -40.678794 -53.296628\n",
      "996  -7.849296 -29.868442 -23.063153 -40.042744 -53.182625\n",
      "997  -8.555238 -29.502327 -23.669344 -39.579793 -53.222085\n",
      "998 -10.139251 -30.187768 -24.028927 -40.658621 -55.191957\n",
      "999 -11.140978 -29.991405 -23.874693 -41.379851 -55.630422\n",
      "\n",
      "\n",
      "Index(['A', 'B', 'C', 'D', 'E'], dtype='object')\n"
     ]
    },
    {
     "data": {
      "image/png": "[encoded data removed]",
      "text/plain": [
       "<Figure size 432x288 with 1 Axes>"
      ]
     },
     "metadata": {
      "needs_background": "light"
     },
     "output_type": "display_data"
    },
    {
     "data": {
      "image/png": "[encoded data removed]",
      "text/plain": [
       "<Figure size 432x288 with 1 Axes>"
      ]
     },
     "metadata": {
      "needs_background": "light"
     },
     "output_type": "display_data"
    }
   ],
   "source": [
    "#plot methods:\n",
    "#'bar','scatter','hist','hexbin','box','kde','area','pie'\n",
    "import numpy as np\n",
    "import pandas as pd\n",
    "import matplotlib.pyplot as plt\n",
    "\n",
    "np.random.seed(666)\n",
    "data = pd.Series(np.random.randn(1000),index=np.arange(1000))\n",
    "data=data.cumsum()\n",
    "data.plot()\n",
    "plt.show()\n",
    "\n",
    "data = pd.DataFrame(np.random.randn(1000,5),#五个特征\n",
    "                   index=np.arange(1000),\n",
    "                   columns=list(\"ABCDE\"))\n",
    "data = data.cumsum()\n",
    "print(data.head())\n",
    "print(data.tail())\n",
    "print('\\n')\n",
    "print(data.head(3).columns)\n",
    "data.plot()\n",
    "plt.show()\n",
    "ax = data.plot.scatter(x='A',y='C',color='Darkblue',label='class 1')\n",
    "data.plot.scatter(x='B',y='C',color='Red',label='class 2',ax=ax)\n",
    "data.plot.scatter(x='D',y='E',color = 'green',label='class 3',ax=ax)\n",
    "plt.show()"
   ]
  }
 ],
 "metadata": {
  "kernelspec": {
   "display_name": "Python 3",
   "language": "python",
   "name": "python3"
  },
  "language_info": {
   "codemirror_mode": {
    "name": "ipython",
    "version": 3
   },
   "file_extension": ".py",
   "mimetype": "text/x-python",
   "name": "python",
   "nbconvert_exporter": "python",
   "pygments_lexer": "ipython3",
   "version": "3.8.5"
  }
 },
 "nbformat": 4,
 "nbformat_minor": 2
}
