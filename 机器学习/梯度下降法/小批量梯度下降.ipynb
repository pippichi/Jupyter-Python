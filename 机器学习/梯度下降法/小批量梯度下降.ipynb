{
 "cells": [
  {
   "cell_type": "markdown",
   "metadata": {},
   "source": [
    "# 小批量梯度下降"
   ]
  },
  {
   "cell_type": "code",
   "execution_count": 1,
   "metadata": {},
   "outputs": [],
   "source": [
    "import numpy as np"
   ]
  },
  {
   "cell_type": "code",
   "execution_count": 2,
   "metadata": {},
   "outputs": [],
   "source": [
    "def dj_msgd(x_i,y_i,theta,k):\n",
    "    return x_i.T.dot(x_i.dot(theta)-y_i)*2./k\n",
    "def msgd(x_train,y_train,theta,iteration,k):\n",
    "    x_train=np.hstack([np.ones((len(x_train),1)),x_train])\n",
    "    t0=5\n",
    "    t1=50\n",
    "    m=len(x_train)\n",
    "    def learning_rate(t):\n",
    "        return t0/(t+t1)\n",
    "    for j in range(iteration):\n",
    "        index=np.random.permutation(m)\n",
    "        x_new=x_train[index]\n",
    "        y_new=y_train[index]\n",
    "        for i in range(m-k):\n",
    "            grandient=dj_sgd(x_new[i:i+k],y_new[i:i+k],theta,k)\n",
    "            theta=theta-learning_rate(j*m+i)*grandient\n",
    "    return theta\n",
    "def score(x_test,y_test,theta):\n",
    "    x_b=np.hstack([np.ones((len(x_test),1)),x_test])\n",
    "    pre=x_b.dot(theta)\n",
    "    R1=np.sum((y_test-y_test.mean())**2)\n",
    "    R2=np.sum((y_test-pre)**2)\n",
    "    return 1-R2/R1"
   ]
  },
  {
   "cell_type": "code",
   "execution_count": 3,
   "metadata": {},
   "outputs": [],
   "source": [
    "from sklearn import datasets\n",
    "boston =datasets.load_boston()\n",
    "x=boston.data\n",
    "y=boston.target\n",
    "x=x[y<50.0]\n",
    "y=y[y<50.0]"
   ]
  },
  {
   "cell_type": "code",
   "execution_count": 4,
   "metadata": {},
   "outputs": [],
   "source": [
    "from sklearn.model_selection import train_test_split\n",
    "\n",
    "x_train,x_test,y_train,y_test=train_test_split(x,y,random_state=666)\n",
    "theta=np.zeros(x_train.shape[1]+1)"
   ]
  },
  {
   "cell_type": "code",
   "execution_count": 5,
   "metadata": {},
   "outputs": [],
   "source": [
    "from sklearn.preprocessing import StandardScaler\n",
    "standardScaler=StandardScaler()\n",
    "standardScaler.fit(x_train)\n",
    "x_train_standard=standardScaler.transform(x_train)\n",
    "x_test_standard=standardScaler.transform(x_test)"
   ]
  },
  {
   "cell_type": "code",
   "execution_count": 6,
   "metadata": {},
   "outputs": [
    {
     "name": "stdout",
     "output_type": "stream",
     "text": [
      "Wall time: 224 ms\n"
     ]
    }
   ],
   "source": [
    "%%time\n",
    "theta=msgd(x_train_standard,y_train,theta,100,50)"
   ]
  },
  {
   "cell_type": "code",
   "execution_count": 7,
   "metadata": {},
   "outputs": [
    {
     "data": {
      "text/plain": [
       "0.7998889402442021"
      ]
     },
     "execution_count": 7,
     "metadata": {},
     "output_type": "execute_result"
    }
   ],
   "source": [
    "score(x_test_standard,y_test,theta)"
   ]
  }
 ],
 "metadata": {
  "kernelspec": {
   "display_name": "Python 3",
   "language": "python",
   "name": "python3"
  },
  "language_info": {
   "codemirror_mode": {
    "name": "ipython",
    "version": 3
   },
   "file_extension": ".py",
   "mimetype": "text/x-python",
   "name": "python",
   "nbconvert_exporter": "python",
   "pygments_lexer": "ipython3",
   "version": "3.6.5"
  }
 },
 "nbformat": 4,
 "nbformat_minor": 2
}
