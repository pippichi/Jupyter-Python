{
 "cells": [
  {
   "cell_type": "markdown",
   "metadata": {},
   "source": [
    "# 矩阵梯度下降"
   ]
  },
  {
   "cell_type": "code",
   "execution_count": 1,
   "metadata": {},
   "outputs": [],
   "source": [
    "import numpy as np"
   ]
  },
  {
   "cell_type": "code",
   "execution_count": 2,
   "metadata": {},
   "outputs": [],
   "source": [
    "def dj(theta,x_b,y):\n",
    "    return x_b.T.dot(x_b.dot(theta)-y)*2/len(y)"
   ]
  },
  {
   "cell_type": "code",
   "execution_count": 3,
   "metadata": {},
   "outputs": [],
   "source": [
    "def score(x_test,y_test,theta):\n",
    "    x_b=np.hstack([np.ones((len(x_test),1)),x_test])\n",
    "    pre=x_b.dot(theta)\n",
    "    R1=np.sum((y_test-y_test.mean())**2)\n",
    "    R2=np.sum((y_test-pre)**2)\n",
    "    return 1-R2/R1"
   ]
  },
  {
   "cell_type": "code",
   "execution_count": 4,
   "metadata": {},
   "outputs": [],
   "source": [
    "def gradient_descent(x_train,y,theta,eta,iteration=1000):\n",
    "    x_b=np.hstack([np.ones((len(x_train),1)),x_train])\n",
    "    for i in range(iteration):\n",
    "        theta=theta-eta*dj(theta,x_b,y)\n",
    "    return theta"
   ]
  },
  {
   "cell_type": "code",
   "execution_count": 5,
   "metadata": {},
   "outputs": [],
   "source": [
    "from sklearn import datasets"
   ]
  },
  {
   "cell_type": "code",
   "execution_count": 6,
   "metadata": {},
   "outputs": [],
   "source": [
    "boston =datasets.load_boston()\n",
    "x=boston.data\n",
    "y=boston.target\n",
    "x=x[y<50.0]\n",
    "y=y[y<50.0]"
   ]
  },
  {
   "cell_type": "code",
   "execution_count": 7,
   "metadata": {},
   "outputs": [],
   "source": [
    "from sklearn.model_selection import train_test_split\n",
    "\n",
    "x_train,x_test,y_train,y_test=train_test_split(x,y,random_state=666)"
   ]
  },
  {
   "cell_type": "code",
   "execution_count": 8,
   "metadata": {},
   "outputs": [
    {
     "data": {
      "text/plain": [
       "array([ 0.00144176, -0.01797504,  0.07080046, -0.01306467,  0.00012196,\n",
       "        0.00045943,  0.01443104, -0.00410262,  0.00779672, -0.0035714 ,\n",
       "        0.00274019,  0.01480819,  0.05471852, -0.03105318])"
      ]
     },
     "execution_count": 8,
     "metadata": {},
     "output_type": "execute_result"
    }
   ],
   "source": [
    "theta=np.zeros(x_train.shape[1]+1)\n",
    "gradient_descent(x_train,y_train,theta,eta=0.000001,iteration=1000)"
   ]
  },
  {
   "cell_type": "code",
   "execution_count": 9,
   "metadata": {},
   "outputs": [
    {
     "data": {
      "text/plain": [
       "0.30334322896870713"
      ]
     },
     "execution_count": 9,
     "metadata": {},
     "output_type": "execute_result"
    }
   ],
   "source": [
    "theta=gradient_descent(x_train,y_train,theta,eta=0.000001,iteration=10000)\n",
    "score(x_test,y_test,theta)"
   ]
  },
  {
   "cell_type": "markdown",
   "metadata": {},
   "source": [
    "# 归一化"
   ]
  },
  {
   "cell_type": "code",
   "execution_count": 10,
   "metadata": {},
   "outputs": [],
   "source": [
    "from sklearn.preprocessing import StandardScaler"
   ]
  },
  {
   "cell_type": "code",
   "execution_count": 11,
   "metadata": {},
   "outputs": [
    {
     "data": {
      "text/plain": [
       "StandardScaler(copy=True, with_mean=True, with_std=True)"
      ]
     },
     "execution_count": 11,
     "metadata": {},
     "output_type": "execute_result"
    }
   ],
   "source": [
    "standardScaler=StandardScaler()\n",
    "standardScaler.fit(x_train)"
   ]
  },
  {
   "cell_type": "code",
   "execution_count": 12,
   "metadata": {},
   "outputs": [],
   "source": [
    "x_train_standard=standardScaler.transform(x_train)"
   ]
  },
  {
   "cell_type": "code",
   "execution_count": 13,
   "metadata": {},
   "outputs": [
    {
     "data": {
      "text/plain": [
       "0.7658815825354975"
      ]
     },
     "execution_count": 13,
     "metadata": {},
     "output_type": "execute_result"
    }
   ],
   "source": [
    "theta=gradient_descent(x_train_standard,y_train,theta,eta=0.01,iteration=1000)\n",
    "score(x_train_standard,y_train,theta)"
   ]
  },
  {
   "cell_type": "code",
   "execution_count": 14,
   "metadata": {
    "scrolled": true
   },
   "outputs": [
    {
     "data": {
      "text/plain": [
       "0.8005300562334523"
      ]
     },
     "execution_count": 14,
     "metadata": {},
     "output_type": "execute_result"
    }
   ],
   "source": [
    "x_test_standard=standardScaler.transform(x_test)\n",
    "theta=gradient_descent(x_train_standard,y_train,theta,eta=0.01,iteration=1000)\n",
    "score(x_test_standard,y_test,theta)"
   ]
  },
  {
   "cell_type": "markdown",
   "metadata": {},
   "source": [
    "# 梯度下降的优势"
   ]
  },
  {
   "cell_type": "code",
   "execution_count": 15,
   "metadata": {},
   "outputs": [],
   "source": [
    "m=1000\n",
    "n=5000\n",
    "\n",
    "big_x=np.random.normal(size=(m,n))\n",
    "theta=np.random.uniform(0.0,100.0,size=n+1)\n",
    "big_y=big_x.dot(theta[1:])+theta[0]+np.random.normal(0,10,size=m)"
   ]
  },
  {
   "cell_type": "code",
   "execution_count": 16,
   "metadata": {},
   "outputs": [
    {
     "name": "stdout",
     "output_type": "stream",
     "text": [
      "Wall time: 7.92 s\n"
     ]
    },
    {
     "data": {
      "text/plain": [
       "array([ 7.43067799, 12.57910423, 52.40626715, ..., 83.76394577,\n",
       "       85.2399958 , 56.00662159])"
      ]
     },
     "execution_count": 16,
     "metadata": {},
     "output_type": "execute_result"
    }
   ],
   "source": [
    "%%time \n",
    "gradient_descent(big_x,big_y,theta,eta=0.01,iteration=1000)"
   ]
  },
  {
   "cell_type": "code",
   "execution_count": null,
   "metadata": {},
   "outputs": [],
   "source": []
  }
 ],
 "metadata": {
  "kernelspec": {
   "display_name": "Python 3",
   "language": "python",
   "name": "python3"
  },
  "language_info": {
   "codemirror_mode": {
    "name": "ipython",
    "version": 3
   },
   "file_extension": ".py",
   "mimetype": "text/x-python",
   "name": "python",
   "nbconvert_exporter": "python",
   "pygments_lexer": "ipython3",
   "version": "3.6.5"
  }
 },
 "nbformat": 4,
 "nbformat_minor": 2
}
