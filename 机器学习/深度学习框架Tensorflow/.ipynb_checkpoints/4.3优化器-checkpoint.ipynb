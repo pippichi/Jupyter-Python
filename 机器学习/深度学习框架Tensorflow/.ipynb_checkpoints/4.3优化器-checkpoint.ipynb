{
 "cells": [
  {
   "cell_type": "code",
   "execution_count": 3,
   "metadata": {},
   "outputs": [
    {
     "name": "stdout",
     "output_type": "stream",
     "text": [
      "Extracting ./MNIST/train-images-idx3-ubyte.gz\n",
      "Extracting ./MNIST/train-labels-idx1-ubyte.gz\n",
      "Extracting ./MNIST/t10k-images-idx3-ubyte.gz\n",
      "Extracting ./MNIST/t10k-labels-idx1-ubyte.gz\n",
      "Iter: 0 Testing Accuracy 0.9025\n",
      "Iter: 1 Testing Accuracy 0.9147\n",
      "Iter: 2 Testing Accuracy 0.9189\n",
      "Iter: 3 Testing Accuracy 0.9221\n",
      "Iter: 4 Testing Accuracy 0.9233\n",
      "Iter: 5 Testing Accuracy 0.9263\n",
      "Iter: 6 Testing Accuracy 0.9273\n",
      "Iter: 7 Testing Accuracy 0.9286\n",
      "Iter: 8 Testing Accuracy 0.9296\n",
      "Iter: 9 Testing Accuracy 0.9291\n",
      "Iter: 10 Testing Accuracy 0.9297\n",
      "Iter: 11 Testing Accuracy 0.9305\n",
      "Iter: 12 Testing Accuracy 0.9306\n",
      "Iter: 13 Testing Accuracy 0.9308\n",
      "Iter: 14 Testing Accuracy 0.9315\n",
      "Iter: 15 Testing Accuracy 0.9307\n",
      "Iter: 16 Testing Accuracy 0.9315\n",
      "Iter: 17 Testing Accuracy 0.9318\n",
      "Iter: 18 Testing Accuracy 0.9324\n",
      "Iter: 19 Testing Accuracy 0.9317\n",
      "Iter: 20 Testing Accuracy 0.9328\n"
     ]
    }
   ],
   "source": [
    "import tensorflow as tf\n",
    "from tensorflow.examples.tutorials.mnist import input_data\n",
    "\n",
    "#载入\n",
    "mnist = input_data.read_data_sets('./MNIST/',one_hot=True)\n",
    "\n",
    "#每个批次的大小\n",
    "batch_size=80\n",
    "#计算一共有多少个批次\n",
    "n_batch = mnist.train.num_examples // batch_size\n",
    "\n",
    "#定义两个placeholder\n",
    "x = tf.placeholder(tf.float32,[None,784])\n",
    "y = tf.placeholder(tf.float32,[None,10])\n",
    "\n",
    "#创建一个简单的神经网络\n",
    "Weights = tf.Variable(tf.zeros([784,10]))\n",
    "biases = tf.Variable(tf.zeros([10]))\n",
    "predict = tf.nn.softmax(tf.matmul(x,Weights)+biases)\n",
    "\n",
    "#二次代价函数\n",
    "# loss = tf.reduce_mean(tf.square(y-predict))\n",
    "loss = tf.reduce_mean(tf.nn.softmax_cross_entropy_with_logits(labels=y,logits=predict))\n",
    "\n",
    "#使用梯度下降法\n",
    "# train_step = tf.train.GradientDescentOptimizer(0.2).minimize(loss)\n",
    "train_step = tf.train.AdamOptimizer(1e-3).minimize(loss)\n",
    "\n",
    "#初始化变量\n",
    "init = tf.global_variables_initializer()\n",
    "\n",
    "#结果存放在一个布尔型列表中\n",
    "correct_predict = tf.equal(tf.argmax(predict,1),tf.argmax(y,1))\n",
    "#求准确率\n",
    "accuracy = tf.reduce_mean(tf.cast(correct_predict,tf.float32))\n",
    "\n",
    "with tf.Session() as sess:\n",
    "    sess.run(init)\n",
    "    for epoch in range(21):\n",
    "        for batch in range(n_batch):\n",
    "            batch_xs,batch_ys = mnist.train.next_batch(batch_size)\n",
    "            sess.run(train_step,feed_dict={x:batch_xs,y:batch_ys})\n",
    "                \n",
    "        acc = sess.run(accuracy,feed_dict={x:mnist.test.images,y:mnist.test.labels})\n",
    "        print('Iter: '+str(epoch)+' Testing Accuracy '+str(acc))"
   ]
  },
  {
   "cell_type": "code",
   "execution_count": null,
   "metadata": {},
   "outputs": [],
   "source": []
  }
 ],
 "metadata": {
  "kernelspec": {
   "display_name": "Python 3",
   "language": "python",
   "name": "python3"
  },
  "language_info": {
   "codemirror_mode": {
    "name": "ipython",
    "version": 3
   },
   "file_extension": ".py",
   "mimetype": "text/x-python",
   "name": "python",
   "nbconvert_exporter": "python",
   "pygments_lexer": "ipython3",
   "version": "3.6.5"
  }
 },
 "nbformat": 4,
 "nbformat_minor": 2
}
