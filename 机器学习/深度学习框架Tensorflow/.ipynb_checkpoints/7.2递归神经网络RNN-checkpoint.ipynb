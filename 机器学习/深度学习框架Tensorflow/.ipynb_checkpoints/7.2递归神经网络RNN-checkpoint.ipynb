{
 "cells": [
  {
   "cell_type": "markdown",
   "metadata": {},
   "source": [
    "# LSTM"
   ]
  },
  {
   "cell_type": "markdown",
   "metadata": {},
   "source": [
    "lstm_cell = tf.contrib.rnn.BasicLSTMCell(size)"
   ]
  },
  {
   "cell_type": "code",
   "execution_count": 1,
   "metadata": {},
   "outputs": [
    {
     "name": "stderr",
     "output_type": "stream",
     "text": [
      "D:\\Anaconda\\lib\\site-packages\\h5py\\__init__.py:36: FutureWarning: Conversion of the second argument of issubdtype from `float` to `np.floating` is deprecated. In future, it will be treated as `np.float64 == np.dtype(float).type`.\n",
      "  from ._conv import register_converters as _register_converters\n"
     ]
    }
   ],
   "source": [
    "import tensorflow as tf\n",
    "from tensorflow.examples.tutorials.mnist import input_data"
   ]
  },
  {
   "cell_type": "code",
   "execution_count": 2,
   "metadata": {},
   "outputs": [
    {
     "name": "stdout",
     "output_type": "stream",
     "text": [
      "WARNING:tensorflow:From <ipython-input-2-06fcc5f77a3c>:2: read_data_sets (from tensorflow.contrib.learn.python.learn.datasets.mnist) is deprecated and will be removed in a future version.\n",
      "Instructions for updating:\n",
      "Please use alternatives such as official/mnist/dataset.py from tensorflow/models.\n",
      "WARNING:tensorflow:From D:\\Anaconda\\lib\\site-packages\\tensorflow\\contrib\\learn\\python\\learn\\datasets\\mnist.py:260: maybe_download (from tensorflow.contrib.learn.python.learn.datasets.base) is deprecated and will be removed in a future version.\n",
      "Instructions for updating:\n",
      "Please write your own downloading logic.\n",
      "WARNING:tensorflow:From D:\\Anaconda\\lib\\site-packages\\tensorflow\\contrib\\learn\\python\\learn\\datasets\\mnist.py:262: extract_images (from tensorflow.contrib.learn.python.learn.datasets.mnist) is deprecated and will be removed in a future version.\n",
      "Instructions for updating:\n",
      "Please use tf.data to implement this functionality.\n",
      "Extracting ./MNIST/train-images-idx3-ubyte.gz\n",
      "WARNING:tensorflow:From D:\\Anaconda\\lib\\site-packages\\tensorflow\\contrib\\learn\\python\\learn\\datasets\\mnist.py:267: extract_labels (from tensorflow.contrib.learn.python.learn.datasets.mnist) is deprecated and will be removed in a future version.\n",
      "Instructions for updating:\n",
      "Please use tf.data to implement this functionality.\n",
      "Extracting ./MNIST/train-labels-idx1-ubyte.gz\n",
      "WARNING:tensorflow:From D:\\Anaconda\\lib\\site-packages\\tensorflow\\contrib\\learn\\python\\learn\\datasets\\mnist.py:110: dense_to_one_hot (from tensorflow.contrib.learn.python.learn.datasets.mnist) is deprecated and will be removed in a future version.\n",
      "Instructions for updating:\n",
      "Please use tf.one_hot on tensors.\n",
      "Extracting ./MNIST/t10k-images-idx3-ubyte.gz\n",
      "Extracting ./MNIST/t10k-labels-idx1-ubyte.gz\n",
      "WARNING:tensorflow:From D:\\Anaconda\\lib\\site-packages\\tensorflow\\contrib\\learn\\python\\learn\\datasets\\mnist.py:290: DataSet.__init__ (from tensorflow.contrib.learn.python.learn.datasets.mnist) is deprecated and will be removed in a future version.\n",
      "Instructions for updating:\n",
      "Please use alternatives such as official/mnist/dataset.py from tensorflow/models.\n",
      "WARNING:tensorflow:From <ipython-input-2-06fcc5f77a3c>:43: softmax_cross_entropy_with_logits (from tensorflow.python.ops.nn_ops) is deprecated and will be removed in a future version.\n",
      "Instructions for updating:\n",
      "\n",
      "Future major versions of TensorFlow will allow gradients to flow\n",
      "into the labels input on backprop by default.\n",
      "\n",
      "See @{tf.nn.softmax_cross_entropy_with_logits_v2}.\n",
      "\n",
      "Iter 0,Testing Accuracy= 0.6869\n",
      "Iter 1,Testing Accuracy= 0.8653\n",
      "Iter 2,Testing Accuracy= 0.8919\n",
      "Iter 3,Testing Accuracy= 0.9149\n",
      "Iter 4,Testing Accuracy= 0.9302\n",
      "Iter 5,Testing Accuracy= 0.9382\n",
      "Iter 6,Testing Accuracy= 0.9403\n",
      "Iter 7,Testing Accuracy= 0.9451\n",
      "Iter 8,Testing Accuracy= 0.9417\n",
      "Iter 9,Testing Accuracy= 0.9478\n",
      "Iter 10,Testing Accuracy= 0.954\n",
      "Iter 11,Testing Accuracy= 0.9451\n",
      "Iter 12,Testing Accuracy= 0.9566\n",
      "Iter 13,Testing Accuracy= 0.9581\n",
      "Iter 14,Testing Accuracy= 0.9598\n",
      "Iter 15,Testing Accuracy= 0.9613\n",
      "Iter 16,Testing Accuracy= 0.9626\n",
      "Iter 17,Testing Accuracy= 0.9643\n",
      "Iter 18,Testing Accuracy= 0.9625\n",
      "Iter 19,Testing Accuracy= 0.9648\n",
      "Iter 20,Testing Accuracy= 0.9667\n"
     ]
    }
   ],
   "source": [
    "#载入数据集\n",
    "mnist = input_data.read_data_sets('./MNIST/',one_hot=True)\n",
    "\n",
    "#输入图片是28*28\n",
    "n_inputs = 28 #输入一行，一行有28个数据\n",
    "max_time = 28 #一共28行\n",
    "lstm_size = 100 #隐藏层单元\n",
    "n_classes = 10 #10个分类\n",
    "batch_size = 50 #每批次50个样本\n",
    "n_batch = mnist.train.num_examples // batch_size #计算一共有多少个批次\n",
    "\n",
    "#这里的none表示第一个维度可以是任意的长度\n",
    "x = tf.placeholder(tf.float32,[None,784])\n",
    "#正确的标签\n",
    "y = tf.placeholder(tf.float32,[None,10])\n",
    "\n",
    "#初始化权值\n",
    "weigths = tf.Variable(tf.truncated_normal([lstm_size,n_classes],stddev=0.1))\n",
    "#初始化偏置值\n",
    "biases = tf.Variable(tf.constant(0.1,shape=[n_classes]))\n",
    "\n",
    "#定义神经网络\n",
    "def RNN(X,weights,biases):\n",
    "    # inputs = [batch_size,max_time,n_inputs]\n",
    "    inputs = tf.reshape(x,[-1,max_time,n_inputs])\n",
    "    #定义LSTM基本CELL\n",
    "    lstm_cell = tf.contrib.rnn.BasicLSTMCell(lstm_size)\n",
    "    #final_state[state,batch_size,cell.state_size]\n",
    "    #final_state[0]是cell_state(中间信号)\n",
    "    #final_state[1]是hidden_state(最后输出信号)\n",
    "    #outputs: The RNN output 'Tensor'.\n",
    "    #    If time_major == False(default),this will be a 'Tensor' shaped:\n",
    "    #        '[batch_size,max_time,cell.output_size]'\n",
    "    #    If time_major == True, this will be a 'Tensor' shaped:\n",
    "    #        '[max_time,batch_size,cell.output_size]'.\n",
    "    outputs,final_state = tf.nn.dynamic_rnn(lstm_cell,inputs,dtype=tf.float32)\n",
    "    results = tf.nn.softmax(tf.matmul(final_state[1],weights)+biases)\n",
    "    return results\n",
    "\n",
    "#计算RNN的返回结果\n",
    "predict = RNN(x,weigths,biases)\n",
    "#损失函数\n",
    "cross_entropy = tf.reduce_mean(tf.nn.softmax_cross_entropy_with_logits(labels=y,logits=predict))\n",
    "#使用AdamOptimizer进行优化\n",
    "train_step = tf.train.AdamOptimizer(1e-4).minimize(cross_entropy)\n",
    "#结果存放在一个布尔型列表中\n",
    "correct_predict = tf.equal(tf.argmax(y,1),tf.argmax(predict,1))\n",
    "#求准确率\n",
    "accuracy = tf.reduce_mean(tf.cast(correct_predict,tf.float32))\n",
    "#初始化\n",
    "init = tf.global_variables_initializer()\n",
    "\n",
    "with tf.Session() as sess:\n",
    "    sess.run(init)\n",
    "    for epoch in range(21):\n",
    "        for batch in range(n_batch):\n",
    "            batch_xs,batch_ys = mnist.train.next_batch(batch_size)\n",
    "            sess.run(train_step,feed_dict={x:batch_xs,y:batch_ys})\n",
    "            \n",
    "        acc = sess.run(accuracy,feed_dict={x:mnist.test.images,y:mnist.test.labels})\n",
    "        print('Iter '+str(epoch)+',Testing Accuracy= '+str(acc))"
   ]
  },
  {
   "cell_type": "code",
   "execution_count": null,
   "metadata": {},
   "outputs": [],
   "source": []
  }
 ],
 "metadata": {
  "kernelspec": {
   "display_name": "Python 3",
   "language": "python",
   "name": "python3"
  },
  "language_info": {
   "codemirror_mode": {
    "name": "ipython",
    "version": 3
   },
   "file_extension": ".py",
   "mimetype": "text/x-python",
   "name": "python",
   "nbconvert_exporter": "python",
   "pygments_lexer": "ipython3",
   "version": "3.6.5"
  }
 },
 "nbformat": 4,
 "nbformat_minor": 2
}
