{
 "cells": [
  {
   "cell_type": "code",
   "execution_count": 4,
   "metadata": {},
   "outputs": [
    {
     "name": "stdout",
     "output_type": "stream",
     "text": [
      "Extracting ./MNIST/train-images-idx3-ubyte.gz\n",
      "Extracting ./MNIST/train-labels-idx1-ubyte.gz\n",
      "Extracting ./MNIST/t10k-images-idx3-ubyte.gz\n",
      "Extracting ./MNIST/t10k-labels-idx1-ubyte.gz\n",
      "Iter: 0 Testing Accuracy 0.9207 , Training Accuracy 0.91783637\n",
      "Iter: 1 Testing Accuracy 0.9365 , Training Accuracy 0.93250906\n",
      "Iter: 2 Testing Accuracy 0.939 , Training Accuracy 0.9398909\n",
      "Iter: 3 Testing Accuracy 0.9464 , Training Accuracy 0.9452364\n",
      "Iter: 4 Testing Accuracy 0.9497 , Training Accuracy 0.9499818\n",
      "Iter: 5 Testing Accuracy 0.9489 , Training Accuracy 0.95205456\n",
      "Iter: 6 Testing Accuracy 0.9531 , Training Accuracy 0.9556364\n",
      "Iter: 7 Testing Accuracy 0.9556 , Training Accuracy 0.95838183\n",
      "Iter: 8 Testing Accuracy 0.955 , Training Accuracy 0.95836365\n",
      "Iter: 9 Testing Accuracy 0.9583 , Training Accuracy 0.9622\n"
     ]
    }
   ],
   "source": [
    "import tensorflow as tf\n",
    "from tensorflow.examples.tutorials.mnist import input_data\n",
    "\n",
    "#载入\n",
    "mnist = input_data.read_data_sets('./MNIST/',one_hot=True)\n",
    "\n",
    "#每个批次的大小\n",
    "batch_size = 80\n",
    "#计算一共有多少个批次\n",
    "n_batch = mnist.train.num_examples // batch_size\n",
    "\n",
    "#定义两个placeholder\n",
    "x = tf.placeholder(tf.float32,[None,784])\n",
    "y = tf.placeholder(tf.float32,[None,10])\n",
    "keep_prob = tf.placeholder(tf.float32)\n",
    "\n",
    "#创建一个简单的神经网络\n",
    "Weights1 = tf.Variable(tf.truncated_normal([784,1000],stddev=0.1))\n",
    "biases1 = tf.Variable(tf.zeros([1000])+0.1)\n",
    "L1 = tf.nn.tanh(tf.matmul(x,Weights1)+biases1)\n",
    "L1_drop = tf.nn.dropout(L1,keep_prob)\n",
    "\n",
    "Weights2 = tf.Variable(tf.truncated_normal([1000,1000],stddev=0.1))\n",
    "biases2 = tf.Variable(tf.zeros([1000])+0.1)\n",
    "L2 = tf.nn.tanh(tf.matmul(L1_drop,Weights2)+biases2)\n",
    "L2_drop = tf.nn.dropout(L2,keep_prob)\n",
    "\n",
    "Weights3 = tf.Variable(tf.truncated_normal([1000,800],stddev=0.1))\n",
    "biases3 = tf.Variable(tf.zeros([800])+0.1)\n",
    "L3 = tf.nn.tanh(tf.matmul(L2_drop,Weights3)+biases3)\n",
    "L3_drop = tf.nn.dropout(L3,keep_prob)\n",
    "\n",
    "Weights4 = tf.Variable(tf.truncated_normal([800,10],stddev=0.1))\n",
    "biases4 = tf.Variable(tf.zeros([10])+0.1)\n",
    "predict = tf.nn.softmax(tf.matmul(L3_drop,Weights4)+biases4)\n",
    "\n",
    "#对数似然代价函数\n",
    "loss = tf.reduce_mean(tf.nn.softmax_cross_entropy_with_logits(labels=y,logits=predict))\n",
    "\n",
    "#使用梯度下降法\n",
    "train_step = tf.train.GradientDescentOptimizer(0.2).minimize(loss)\n",
    "\n",
    "#初始化变量\n",
    "init = tf.global_variables_initializer()\n",
    "\n",
    "#结果存放在一个布尔型列表中\n",
    "correct_predict = tf.equal(tf.argmax(predict,1),tf.argmax(y,1))\n",
    "#求准确率\n",
    "accuracy = tf.reduce_mean(tf.cast(correct_predict,tf.float32))\n",
    "\n",
    "with tf.Session() as sess:\n",
    "    sess.run(init)\n",
    "    for epoch in range(10):\n",
    "        for batch in range(n_batch):\n",
    "            batch_xs,batch_ys = mnist.train.next_batch(batch_size)\n",
    "            sess.run(train_step,feed_dict={x:batch_xs,y:batch_ys,keep_prob:0.7})\n",
    "                \n",
    "        test_acc = sess.run(accuracy,feed_dict={x:mnist.test.images,y:mnist.test.labels,keep_prob:1.0})\n",
    "        train_acc = sess.run(accuracy,feed_dict={x:mnist.train.images,y:mnist.train.labels,keep_prob:1.0})\n",
    "        print('Iter: '+str(epoch)+' Testing Accuracy '+str(test_acc)+' , Training Accuracy '+str(train_acc))"
   ]
  },
  {
   "cell_type": "code",
   "execution_count": null,
   "metadata": {},
   "outputs": [],
   "source": []
  }
 ],
 "metadata": {
  "kernelspec": {
   "display_name": "Python 3",
   "language": "python",
   "name": "python3"
  },
  "language_info": {
   "codemirror_mode": {
    "name": "ipython",
    "version": 3
   },
   "file_extension": ".py",
   "mimetype": "text/x-python",
   "name": "python",
   "nbconvert_exporter": "python",
   "pygments_lexer": "ipython3",
   "version": "3.7.0"
  }
 },
 "nbformat": 4,
 "nbformat_minor": 2
}
