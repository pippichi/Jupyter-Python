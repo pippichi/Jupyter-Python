{
 "cells": [
  {
   "cell_type": "code",
   "execution_count": 9,
   "metadata": {},
   "outputs": [
    {
     "name": "stdout",
     "output_type": "stream",
     "text": [
      "|     白日依山尽|\n",
      "|     黄河入海流|\n",
      "|     欲穷千里目|\n",
      "|     更上一层楼|\n",
      "['\\t白日依山尽\\t', '黄河入海流\\t欲穷千里目\\t更上一层楼']\n",
      "['白日依山尽', '黄河入海流', '欲穷千里目', '更上一层楼']\n",
      "白日依山尽 黄河入海流 欲穷千里目 更上一层楼\n",
      "('', '\\t', '白日依山尽\\t\\n黄河入海流\\t欲穷千里目\\t更上一层楼')\n"
     ]
    }
   ],
   "source": [
    "A = [\"\\t\\n白日依山尽\",\n",
    "    \"黄河入海流\\t\\n\",\n",
    "    \"欲穷千里目\",\n",
    "    \"更上一层楼\"]\n",
    "for A_str in A:\n",
    "    print(\"|%s|\"%A_str.strip().rjust(10,\" \"))\n",
    "B = \"\\t白日依山尽\\t\\n黄河入海流\\t欲穷千里目\\t更上一层楼\"\n",
    "B_list = B.splitlines()\n",
    "print(B_list)\n",
    "C = \"\\t白日依山尽\\t\\n黄河入海流\\t欲穷千里目\\t更上一层楼\"\n",
    "C_list = C.split()\n",
    "print(C_list)\n",
    "res = \" \".join(C_list)\n",
    "print(res)\n",
    "res1 = B.partition('\\t')# 以\\t为参照分成三块\n",
    "print(res1)\n"
   ]
  },
  {
   "cell_type": "code",
   "execution_count": 11,
   "metadata": {},
   "outputs": [
    {
     "name": "stdout",
     "output_type": "stream",
     "text": [
      "9876543210\n",
      "9876543210\n",
      "630\n",
      "234\n"
     ]
    }
   ],
   "source": [
    "A = \"0123456789\"\n",
    "print(A[::-1])\n",
    "print(A[-1::-1])\n",
    "print(A[6::-3])#6是起始位置，-3是步长\n",
    "print(A[2:5])"
   ]
  },
  {
   "cell_type": "code",
   "execution_count": 20,
   "metadata": {},
   "outputs": [
    {
     "data": {
      "text/plain": [
       "(10, 4)"
      ]
     },
     "execution_count": 20,
     "metadata": {},
     "output_type": "execute_result"
    }
   ],
   "source": [
    "def fun1():\n",
    "    x = [5,2]\n",
    "    y = [5,2]\n",
    "    def fun2():\n",
    "        x[0]*=x[1]\n",
    "        y[1]*=y[1]\n",
    "        return x[0],y[1]\n",
    "    return fun2()\n",
    "fun1()"
   ]
  },
  {
   "cell_type": "code",
   "execution_count": 27,
   "metadata": {},
   "outputs": [
    {
     "data": {
      "text/plain": [
       "25"
      ]
     },
     "execution_count": 27,
     "metadata": {},
     "output_type": "execute_result"
    }
   ],
   "source": [
    "def fun1():\n",
    "    x = 5\n",
    "    def fun2():\n",
    "        nonlocal x#nonlocal把局部变量变成可被子函数利用的变量\n",
    "        x*=x\n",
    "        return x\n",
    "    return fun2()\n",
    "fun1()"
   ]
  },
  {
   "cell_type": "code",
   "execution_count": 31,
   "metadata": {},
   "outputs": [
    {
     "data": {
      "text/plain": [
       "13"
      ]
     },
     "execution_count": 31,
     "metadata": {},
     "output_type": "execute_result"
    }
   ],
   "source": [
    "g = lambda x:x*2+1\n",
    "g(5)\n",
    "g = lambda x,y:x+y*2\n",
    "g(3,5)"
   ]
  },
  {
   "cell_type": "code",
   "execution_count": 33,
   "metadata": {},
   "outputs": [
    {
     "name": "stdout",
     "output_type": "stream",
     "text": [
      "[(0, 1), (1, 2), (2, 3), (3, 4), (4, 5)]\n"
     ]
    },
    {
     "data": {
      "text/plain": [
       "[(1, 2), (2, 3), (3, 4), (4, 5)]"
      ]
     },
     "execution_count": 33,
     "metadata": {},
     "output_type": "execute_result"
    }
   ],
   "source": [
    "A = (1,2,3,4,5,)\n",
    "B = (2,3,4,5,)\n",
    "print(list(enumerate(A)))\n",
    "list(zip(A,B))"
   ]
  },
  {
   "cell_type": "code",
   "execution_count": 33,
   "metadata": {},
   "outputs": [
    {
     "data": {
      "text/plain": [
       "[1, True, True]"
      ]
     },
     "execution_count": 33,
     "metadata": {},
     "output_type": "execute_result"
    }
   ],
   "source": [
    "#list(filter(None,[1,0,False,True]))\n",
    "def odd(x):\n",
    "    return x%2\n",
    "temp=range(10)\n",
    "list(filter(odd,temp))#filter返回 1 的数\n",
    "list(filter(None,[1,0,False,True,True]))"
   ]
  },
  {
   "cell_type": "code",
   "execution_count": 5,
   "metadata": {},
   "outputs": [],
   "source": [
    "filter_x = [12,3,4,5,6,7,8,9]"
   ]
  },
  {
   "cell_type": "code",
   "execution_count": 6,
   "metadata": {},
   "outputs": [
    {
     "data": {
      "text/plain": [
       "[12, 4, 6, 8]"
      ]
     },
     "execution_count": 6,
     "metadata": {},
     "output_type": "execute_result"
    }
   ],
   "source": [
    "temp = list(filter(lambda x: x%2 == 0 ,filter_x))\n",
    "temp"
   ]
  },
  {
   "cell_type": "code",
   "execution_count": 34,
   "metadata": {},
   "outputs": [
    {
     "name": "stdout",
     "output_type": "stream",
     "text": [
      "5\n",
      "1\n",
      "2\n",
      "3\n",
      "3\n",
      "7\n"
     ]
    },
    {
     "data": {
      "text/plain": [
       "'test'"
      ]
     },
     "execution_count": 34,
     "metadata": {},
     "output_type": "execute_result"
    }
   ],
   "source": [
    "A=[1,2,3,3,7]\n",
    "print(len(A))\n",
    "for i in A:\n",
    "    print(i)\n",
    "def demo():\n",
    "    \"\"\"test\"\"\"\n",
    "    print(\"test\")\n",
    "dir(demo)\n",
    "demo.__doc__"
   ]
  },
  {
   "cell_type": "code",
   "execution_count": 15,
   "metadata": {},
   "outputs": [
    {
     "data": {
      "text/plain": [
       "''"
      ]
     },
     "execution_count": 15,
     "metadata": {},
     "output_type": "execute_result"
    }
   ],
   "source": [
    "f = open('C:/Users/HASEE/Desktop/html.txt','r')\n",
    "lines = list(f)\n",
    "print(lines)\n",
    "for each_line in lines:\n",
    "    print(each_line)\n",
    "print(f.read(1))\n",
    "print(f.tell())\n",
    "f.seek(45,0)#from 45,offset 0    0，代表文件开始，1，代表文件当前位置，2，代表文件末尾,偏移off字节\n",
    "f.read()\n",
    "f.readline()\n",
    "f.seek(0,0)\n",
    "for each in f:\n",
    "    print (each)"
   ]
  },
  {
   "cell_type": "code",
   "execution_count": 3,
   "metadata": {},
   "outputs": [
    {
     "name": "stdout",
     "output_type": "stream",
     "text": [
      "王：您的作品我几乎都读过，但我觉得风格太苍凉了。张：因为我的成长经历以及当时的时代环境让我看不到希望。王：您对人性的看法很深刻，但也很悲观。张：其实我刻画的人性在当今社会中也有，只不过改头换面了而已，如对金钱的迷恋就是一种表现。王：难道没有什么可以挽救这堕落的人性吗张：虽然时代变了，但有些东西还是很难改变的，如国民性，现在不仍然有很多柳妈和闰土存在吗所以，我的答案仍然是否定的。\n"
     ]
    }
   ],
   "source": [
    "f = open('D:\\\\qyf.txt','+w')\n",
    "f.write(\"王：您的作品我几乎都读过，但我觉得风格太苍凉了。张：因为我的成长经历以及当时的时代环境让我看不到希望。王：您对人性的看法很深刻，但也很悲观。张：其实我刻画的人性在当今社会中也有，只不过改头换面了而已，如对金钱的迷恋就是一种表现。王：难道没有什么可以挽救这堕落的人性吗张：虽然时代变了，但有些东西还是很难改变的，如国民性，现在不仍然有很多柳妈和闰土存在吗所以，我的答案仍然是否定的。\")\n",
    "file = f.read()\n",
    "file.replace('。','\\n')\n",
    "f.write(file)\n",
    "f.seek(0,0)\n",
    "for each in f:\n",
    "    print(each)\n",
    "f.close()"
   ]
  },
  {
   "cell_type": "code",
   "execution_count": 19,
   "metadata": {},
   "outputs": [
    {
     "data": {
      "text/plain": [
       "'nt'"
      ]
     },
     "execution_count": 19,
     "metadata": {},
     "output_type": "execute_result"
    }
   ],
   "source": [
    "import os\n",
    "os.system('cmd')\n",
    "#os.system('calc')#打开计算器\n",
    "os.chdir('C:\\\\Users\\\\HASEE\\\\Desktop')\n",
    "os.getcwd()\n",
    "os.curdir\n",
    "os.listdir(os.curdir)\n",
    "os.name"
   ]
  },
  {
   "cell_type": "code",
   "execution_count": 36,
   "metadata": {},
   "outputs": [],
   "source": [
    "def save_file(boy,girl,count):\n",
    "    file_name_boy = 'D:\\\\boy_'+str(count)+'.txt'\n",
    "    file_name_girl = 'D:\\\\girl_'+str(count)+'.txt'\n",
    "    \n",
    "    boy_file = open(file_name_boy,'w')\n",
    "    girl_file = open(file_name_girl,'w')\n",
    "    \n",
    "    boy_file.writelines(boy)\n",
    "    girl_file.writelines(girl)\n",
    "    \n",
    "    boy_file.close()\n",
    "    girl_file.close()\n",
    "\n",
    "def split_file(file_name):\n",
    "    f = open(file_name)\n",
    "    boy = []\n",
    "    girl = []\n",
    "    count = 1\n",
    "    f.seek(0,0)\n",
    "    for each_line in f:\n",
    "        if each_line[:6]!='======':\n",
    "            (role,line_spoken) = each_line.split('：',1)\n",
    "            if role =='王':\n",
    "                boy.append(line_spoken)\n",
    "            if role =='张':\n",
    "                girl.append(line_spoken)\n",
    "        else:\n",
    "            save_file(boy,girl,count)\n",
    "            boy = []\n",
    "            girl = []\n",
    "            count += 1\n",
    "    save_file(boy,girl,count)\n",
    "    f.close()\n",
    "split_file('D:\\\\qyf1.txt')"
   ]
  },
  {
   "cell_type": "code",
   "execution_count": 1,
   "metadata": {},
   "outputs": [
    {
     "data": {
      "text/plain": [
       "True"
      ]
     },
     "execution_count": 1,
     "metadata": {},
     "output_type": "execute_result"
    }
   ],
   "source": [
    "import os.path as op\n",
    "op.ismount('C:\\\\')#检验是否是挂载点"
   ]
  },
  {
   "cell_type": "code",
   "execution_count": 29,
   "metadata": {},
   "outputs": [
    {
     "data": {
      "text/plain": [
       "2"
      ]
     },
     "execution_count": 29,
     "metadata": {},
     "output_type": "execute_result"
    }
   ],
   "source": [
    "class C:\n",
    "    x = 2\n",
    "    def __init__(self):\n",
    "        self.x = \"x-man\"\n",
    "c = C()\n",
    "getattr(c,'x','no x') #对象、属性、默认值\n",
    "getattr(c,'s','no s')\n",
    "setattr(c,'x','asd')\n",
    "hasattr(c,'x')\n",
    "delattr(c,'x')\n",
    "c.x"
   ]
  },
  {
   "cell_type": "code",
   "execution_count": 23,
   "metadata": {},
   "outputs": [],
   "source": [
    "class C:\n",
    "    def __init__(self,size=10):\n",
    "        self.size = size\n",
    "    def getSize(self):\n",
    "        return self.size\n",
    "    def setSize(self,value):\n",
    "        self.size = value\n",
    "    def delSize(self):\n",
    "        del self.size\n",
    "    x = property(getSize,setSize,delSize)\n",
    "c = C()\n",
    "c.x = 1\n",
    "c.getSize()\n",
    "c.size\n",
    "del c.x"
   ]
  },
  {
   "cell_type": "code",
   "execution_count": 44,
   "metadata": {},
   "outputs": [
    {
     "name": "stdout",
     "output_type": "stream",
     "text": [
      "getattribute\n",
      "getattr\n",
      "setattr\n",
      "getattribute\n",
      "delattr\n"
     ]
    }
   ],
   "source": [
    "class C:\n",
    "    def __getattribute__(self,name):\n",
    "        print(\"getattribute\")\n",
    "        return super().__getattribute__(name)\n",
    "    def __getattr__(self,name):\n",
    "        print(\"getattr\")\n",
    "    def __setattr__(self,name,value):\n",
    "        print(\"setattr\")\n",
    "        super().__setattr__(name,value)\n",
    "    def __delattr__(self,name):\n",
    "        print(\"delattr\")\n",
    "        super().__delattr__(name)\n",
    "\n",
    "c = C()\n",
    "c.x\n",
    "c.x = 1\n",
    "c.x\n",
    "del c.x"
   ]
  },
  {
   "cell_type": "code",
   "execution_count": 53,
   "metadata": {},
   "outputs": [
    {
     "data": {
      "text/plain": [
       "{'height': 10, 'width': 10}"
      ]
     },
     "execution_count": 53,
     "metadata": {},
     "output_type": "execute_result"
    }
   ],
   "source": [
    "class Rectangle:\n",
    "    def __init__(self,width=0,height=0):\n",
    "        self.width=width\n",
    "        self.height=height\n",
    "    def __setattr__(self,name,value):\n",
    "        if name=='square':\n",
    "            self.height=value\n",
    "            self.width=value\n",
    "        else:\n",
    "            self.__dict__[name]=value\n",
    "            #super().__setattr__(name,value)\n",
    "    def getArea(self):\n",
    "        return self.height*self.width\n",
    "a = Rectangle(4,5)\n",
    "a.getArea()\n",
    "a.square = 10\n",
    "a.width\n",
    "a.__dict__"
   ]
  },
  {
   "cell_type": "code",
   "execution_count": 1,
   "metadata": {},
   "outputs": [],
   "source": [
    "text = \"hello my friend!\""
   ]
  },
  {
   "cell_type": "code",
   "execution_count": 2,
   "metadata": {},
   "outputs": [
    {
     "data": {
      "text/plain": [
       "True"
      ]
     },
     "execution_count": 2,
     "metadata": {},
     "output_type": "execute_result"
    }
   ],
   "source": [
    "text.startswith(\"hello\")"
   ]
  },
  {
   "cell_type": "code",
   "execution_count": 3,
   "metadata": {},
   "outputs": [
    {
     "data": {
      "text/plain": [
       "2"
      ]
     },
     "execution_count": 3,
     "metadata": {},
     "output_type": "execute_result"
    }
   ],
   "source": [
    "text.count('l')"
   ]
  },
  {
   "cell_type": "code",
   "execution_count": 4,
   "metadata": {},
   "outputs": [
    {
     "data": {
      "text/plain": [
       "-1"
      ]
     },
     "execution_count": 4,
     "metadata": {},
     "output_type": "execute_result"
    }
   ],
   "source": [
    "text.find('z', 0, len(text))"
   ]
  },
  {
   "cell_type": "code",
   "execution_count": null,
   "metadata": {},
   "outputs": [],
   "source": []
  }
 ],
 "metadata": {
  "kernelspec": {
   "display_name": "Python 3",
   "language": "python",
   "name": "python3"
  },
  "language_info": {
   "codemirror_mode": {
    "name": "ipython",
    "version": 3
   },
   "file_extension": ".py",
   "mimetype": "text/x-python",
   "name": "python",
   "nbconvert_exporter": "python",
   "pygments_lexer": "ipython3",
   "version": "3.7.6"
  }
 },
 "nbformat": 4,
 "nbformat_minor": 2
}
