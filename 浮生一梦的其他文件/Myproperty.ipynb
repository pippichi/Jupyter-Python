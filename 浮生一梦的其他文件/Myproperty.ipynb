{
 "cells": [
  {
   "cell_type": "code",
   "execution_count": 11,
   "metadata": {},
   "outputs": [
    {
     "name": "stdout",
     "output_type": "stream",
     "text": [
      "qyf\n",
      "None\n"
     ]
    }
   ],
   "source": [
    "class Myproperty:\n",
    "    def __init__(self,fget=None,fset=None,fdel=None):\n",
    "        self.fset=fset\n",
    "        self.fget=fget\n",
    "        self.fdel=fdel\n",
    "    def __set__(self,instance,value):\n",
    "        self.fset(instance,value)\n",
    "    def __get__(self,instance,owner):\n",
    "        return self.fget(instance)\n",
    "    def __delete__(self,instance):\n",
    "        self.fdel(instance)\n",
    "class C:\n",
    "    def __init__(self):\n",
    "        self._x=None\n",
    "        self.__y=10\n",
    "    def __qyf(self):\n",
    "        print('qyf')\n",
    "    def getX(self):\n",
    "        return self._x\n",
    "    def setX(self,value):\n",
    "        self._x=value\n",
    "    def delX(self):\n",
    "        del self._x\n",
    "    def getName(self):\n",
    "        return self.__qyf()\n",
    "    x = Myproperty(getX,setX,delX)\n",
    "        \n",
    "c = C()\n",
    "c.x\n",
    "c._C__y\n",
    "c.x='x-man'\n",
    "c._x\n",
    "c.x\n",
    "c.getName()\n",
    "c.setX('sq')"
   ]
  },
  {
   "cell_type": "code",
   "execution_count": 36,
   "metadata": {},
   "outputs": [
    {
     "name": "stdout",
     "output_type": "stream",
     "text": [
      "getting... <__main__.MyDescriptor object at 0x00000204BC6BC7B8> <__main__.Test object at 0x00000204BC6BC780> <class '__main__.Test'>\n",
      "setting... <__main__.MyDescriptor object at 0x00000204BC6BC7B8> <__main__.Test object at 0x00000204BC6BC780> 1\n",
      "deleting... <__main__.MyDescriptor object at 0x00000204BC6BC7B8> <__main__.Test object at 0x00000204BC6BC780>\n"
     ]
    },
    {
     "data": {
      "text/plain": [
       "__main__.Test"
      ]
     },
     "execution_count": 36,
     "metadata": {},
     "output_type": "execute_result"
    }
   ],
   "source": [
    "class MyDescriptor:\n",
    "    def __get__(self,instance,owner):\n",
    "        print(\"getting...\",self,instance,owner)\n",
    "    def __set__(self,instance,value):\n",
    "        print(\"setting...\",self,instance,value)\n",
    "    def __delete__(self,instance):\n",
    "        print(\"deleting...\",self,instance)\n",
    "class Test:\n",
    "    x = MyDescriptor()\n",
    "t = Test()\n",
    "t.x\n",
    "t.x = 1\n",
    "del t.x\n",
    "Test"
   ]
  },
  {
   "cell_type": "code",
   "execution_count": 2,
   "metadata": {},
   "outputs": [
    {
     "data": {
      "text/plain": [
       "32.22222222222222"
      ]
     },
     "execution_count": 2,
     "metadata": {},
     "output_type": "execute_result"
    }
   ],
   "source": [
    "class Celsius:\n",
    "    def __init__(self,value=26.0):\n",
    "        self.value=float(value)\n",
    "    def __get__(self,instance,owner):\n",
    "        return self.value\n",
    "    def __set__(self,instance,value):\n",
    "        self.value=float(value)\n",
    "class Fahrenheit:\n",
    "    def __get__(self,instance,owner):\n",
    "        return instance.cel * 1.8 + 32\n",
    "    def __set__(self,instance,value):\n",
    "        instance.cel = (float(value)-32)/1.8\n",
    "class Temperature:\n",
    "    cel=Celsius()\n",
    "    fah=Fahrenheit()\n",
    "temp = Temperature()\n",
    "temp.cel = 30\n",
    "temp.fah\n",
    "temp.fah=90\n",
    "temp.cel"
   ]
  }
 ],
 "metadata": {
  "kernelspec": {
   "display_name": "Python 3",
   "language": "python",
   "name": "python3"
  },
  "language_info": {
   "codemirror_mode": {
    "name": "ipython",
    "version": 3
   },
   "file_extension": ".py",
   "mimetype": "text/x-python",
   "name": "python",
   "nbconvert_exporter": "python",
   "pygments_lexer": "ipython3",
   "version": "3.6.4"
  }
 },
 "nbformat": 4,
 "nbformat_minor": 2
}
