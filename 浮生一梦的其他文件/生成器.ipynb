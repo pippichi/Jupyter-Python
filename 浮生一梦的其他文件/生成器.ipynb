{
 "cells": [
  {
   "cell_type": "code",
   "execution_count": 3,
   "metadata": {},
   "outputs": [
    {
     "name": "stdout",
     "output_type": "stream",
     "text": [
      "start!\n"
     ]
    },
    {
     "data": {
      "text/plain": [
       "2"
      ]
     },
     "execution_count": 3,
     "metadata": {},
     "output_type": "execute_result"
    }
   ],
   "source": [
    "def myGen():\n",
    "    print(\"start!\")\n",
    "    yield 1\n",
    "    yield 2\n",
    "    \n",
    "my = myGen()\n",
    "next(my)\n",
    "next(my)"
   ]
  },
  {
   "cell_type": "code",
   "execution_count": 5,
   "metadata": {},
   "outputs": [
    {
     "name": "stdout",
     "output_type": "stream",
     "text": [
      "1 1 2 3 5 8 13 21 34 55 89 "
     ]
    }
   ],
   "source": [
    "def libs():\n",
    "    a=0\n",
    "    b=1\n",
    "    while True:\n",
    "        a,b=b,a+b\n",
    "        yield a\n",
    "lib=libs()\n",
    "for each in lib:\n",
    "    if each>100:\n",
    "        break\n",
    "    else:\n",
    "        print(each,end=' ')"
   ]
  },
  {
   "cell_type": "code",
   "execution_count": 10,
   "metadata": {},
   "outputs": [
    {
     "data": {
      "text/plain": [
       "[2,\n",
       " 4,\n",
       " 8,\n",
       " 10,\n",
       " 14,\n",
       " 16,\n",
       " 20,\n",
       " 22,\n",
       " 26,\n",
       " 28,\n",
       " 32,\n",
       " 34,\n",
       " 38,\n",
       " 40,\n",
       " 44,\n",
       " 46,\n",
       " 50,\n",
       " 52,\n",
       " 56,\n",
       " 58,\n",
       " 62,\n",
       " 64,\n",
       " 68,\n",
       " 70,\n",
       " 74,\n",
       " 76,\n",
       " 80,\n",
       " 82,\n",
       " 86,\n",
       " 88,\n",
       " 92,\n",
       " 94,\n",
       " 98]"
      ]
     },
     "execution_count": 10,
     "metadata": {},
     "output_type": "execute_result"
    }
   ],
   "source": [
    "a = [i for i in range(100) if not(i%2) and (i%3)]\n",
    "a"
   ]
  },
  {
   "cell_type": "code",
   "execution_count": 14,
   "metadata": {},
   "outputs": [
    {
     "data": {
      "text/plain": [
       "{0: True,\n",
       " 1: False,\n",
       " 2: True,\n",
       " 3: False,\n",
       " 4: True,\n",
       " 5: False,\n",
       " 6: True,\n",
       " 7: False,\n",
       " 8: True,\n",
       " 9: False}"
      ]
     },
     "execution_count": 14,
     "metadata": {},
     "output_type": "execute_result"
    }
   ],
   "source": [
    "a = {i:i%2==0 for i in range(10)}\n",
    "a"
   ]
  },
  {
   "cell_type": "code",
   "execution_count": 17,
   "metadata": {},
   "outputs": [
    {
     "data": {
      "text/plain": [
       "0"
      ]
     },
     "execution_count": 17,
     "metadata": {},
     "output_type": "execute_result"
    }
   ],
   "source": [
    "a = (i for i in range(10))\n",
    "next(a)"
   ]
  },
  {
   "cell_type": "code",
   "execution_count": 2,
   "metadata": {},
   "outputs": [
    {
     "data": {
      "text/plain": [
       "25"
      ]
     },
     "execution_count": 2,
     "metadata": {},
     "output_type": "execute_result"
    }
   ],
   "source": [
    "sum(i for i in range(10) if i%2)"
   ]
  },
  {
   "cell_type": "code",
   "execution_count": 27,
   "metadata": {},
   "outputs": [
    {
     "name": "stdout",
     "output_type": "stream",
     "text": [
      "'a'\n",
      "b\n",
      "a\"c\"\n",
      "b\n"
     ]
    }
   ],
   "source": [
    "a = '\\'a\\'\\nb'\n",
    "b=\"a\\\"c\\\"\\nb\"\n",
    "print(a)\n",
    "print(b)"
   ]
  }
 ],
 "metadata": {
  "kernelspec": {
   "display_name": "Python 3",
   "language": "python",
   "name": "python3"
  },
  "language_info": {
   "codemirror_mode": {
    "name": "ipython",
    "version": 3
   },
   "file_extension": ".py",
   "mimetype": "text/x-python",
   "name": "python",
   "nbconvert_exporter": "python",
   "pygments_lexer": "ipython3",
   "version": "3.7.0"
  }
 },
 "nbformat": 4,
 "nbformat_minor": 2
}
