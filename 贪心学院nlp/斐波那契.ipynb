{
 "cells": [
  {
   "cell_type": "markdown",
   "metadata": {},
   "source": [
    "# 斐波那契"
   ]
  },
  {
   "cell_type": "code",
   "execution_count": 13,
   "metadata": {},
   "outputs": [
    {
     "data": {
      "text/plain": [
       "5"
      ]
     },
     "execution_count": 13,
     "metadata": {},
     "output_type": "execute_result"
    }
   ],
   "source": [
    "def fib(n):\n",
    "    if n==1 or n==2:\n",
    "        return 1\n",
    "    return fib(n-1)+fib(n-2)\n",
    "fib(5)\n",
    "\n",
    "# 时间复杂度O(2^..)"
   ]
  },
  {
   "cell_type": "code",
   "execution_count": 12,
   "metadata": {},
   "outputs": [
    {
     "data": {
      "text/plain": [
       "5.0"
      ]
     },
     "execution_count": 12,
     "metadata": {},
     "output_type": "execute_result"
    }
   ],
   "source": [
    "#改进版\n",
    "import numpy as np\n",
    "def fib(n):\n",
    "    tmp = np.zeros(n)\n",
    "    tmp[0] = 1\n",
    "    tmp[1] = 2\n",
    "    for i in range(2,n):\n",
    "        tmp[i] = tmp[i-1] + tmp[i-2]\n",
    "    return tmp[i-1]\n",
    "fib(5)\n",
    "\n",
    "# 时间复杂度O(n),空间复杂度O(n)"
   ]
  },
  {
   "cell_type": "code",
   "execution_count": 1,
   "metadata": {},
   "outputs": [
    {
     "data": {
      "text/plain": [
       "3"
      ]
     },
     "execution_count": 1,
     "metadata": {},
     "output_type": "execute_result"
    }
   ],
   "source": [
    "#再提高空间利用率\n",
    "def fib(n):\n",
    "    a,b=1,1\n",
    "    c=0\n",
    "    for i in range(2,n):\n",
    "        c = a + b\n",
    "        a = b\n",
    "        b = c\n",
    "    return c if c != 0 else 1\n",
    "fib(4)"
   ]
  }
 ],
 "metadata": {
  "kernelspec": {
   "display_name": "Python 3",
   "language": "python",
   "name": "python3"
  },
  "language_info": {
   "codemirror_mode": {
    "name": "ipython",
    "version": 3
   },
   "file_extension": ".py",
   "mimetype": "text/x-python",
   "name": "python",
   "nbconvert_exporter": "python",
   "pygments_lexer": "ipython3",
   "version": "3.7.0"
  }
 },
 "nbformat": 4,
 "nbformat_minor": 2
}
